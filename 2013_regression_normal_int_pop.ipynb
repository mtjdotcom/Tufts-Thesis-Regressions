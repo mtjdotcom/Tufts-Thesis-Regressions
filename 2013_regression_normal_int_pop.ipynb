{
 "cells": [
  {
   "cell_type": "markdown",
   "metadata": {},
   "source": [
    "## 2013 Data: Regression, full data set"
   ]
  },
  {
   "cell_type": "code",
   "execution_count": 1,
   "metadata": {},
   "outputs": [],
   "source": [
    "import numpy as np\n",
    "import pandas as pd\n",
    "import statsmodels.api as sm"
   ]
  },
  {
   "cell_type": "code",
   "execution_count": 2,
   "metadata": {},
   "outputs": [
    {
     "data": {
      "text/html": [
       "<div>\n",
       "<style scoped>\n",
       "    .dataframe tbody tr th:only-of-type {\n",
       "        vertical-align: middle;\n",
       "    }\n",
       "\n",
       "    .dataframe tbody tr th {\n",
       "        vertical-align: top;\n",
       "    }\n",
       "\n",
       "    .dataframe thead th {\n",
       "        text-align: right;\n",
       "    }\n",
       "</style>\n",
       "<table border=\"1\" class=\"dataframe\">\n",
       "  <thead>\n",
       "    <tr style=\"text-align: right;\">\n",
       "      <th></th>\n",
       "      <th>btc_dl</th>\n",
       "      <th>btc_by_int_users</th>\n",
       "      <th>remitt_in_13</th>\n",
       "      <th>remitt_percentgdp_2013</th>\n",
       "      <th>gdp_13</th>\n",
       "      <th>mobile_phone_13</th>\n",
       "      <th>int_users_per100</th>\n",
       "      <th>inflation_13</th>\n",
       "      <th>blk_market_08</th>\n",
       "      <th>mig_to_OECD</th>\n",
       "      <th>population</th>\n",
       "    </tr>\n",
       "  </thead>\n",
       "  <tbody>\n",
       "    <tr>\n",
       "      <th>Malawi</th>\n",
       "      <td>21</td>\n",
       "      <td>1.134</td>\n",
       "      <td>29.7</td>\n",
       "      <td>0.8</td>\n",
       "      <td>3705.4</td>\n",
       "      <td>32.3</td>\n",
       "      <td>5.4</td>\n",
       "      <td>27.3</td>\n",
       "      <td>39.7</td>\n",
       "      <td>5389.0</td>\n",
       "      <td>16362567</td>\n",
       "    </tr>\n",
       "    <tr>\n",
       "      <th>Guinea</th>\n",
       "      <td>15</td>\n",
       "      <td>0.240</td>\n",
       "      <td>94.8</td>\n",
       "      <td>1.5</td>\n",
       "      <td>6144.1</td>\n",
       "      <td>63.3</td>\n",
       "      <td>1.6</td>\n",
       "      <td>11.9</td>\n",
       "      <td>38.5</td>\n",
       "      <td>59448.0</td>\n",
       "      <td>11745189</td>\n",
       "    </tr>\n",
       "    <tr>\n",
       "      <th>Sierra Leone</th>\n",
       "      <td>10</td>\n",
       "      <td>0.170</td>\n",
       "      <td>104.5</td>\n",
       "      <td>2.5</td>\n",
       "      <td>4136.3</td>\n",
       "      <td>44.1</td>\n",
       "      <td>1.7</td>\n",
       "      <td>10.3</td>\n",
       "      <td>39.2</td>\n",
       "      <td>324.0</td>\n",
       "      <td>6092075</td>\n",
       "    </tr>\n",
       "    <tr>\n",
       "      <th>Niger</th>\n",
       "      <td>6</td>\n",
       "      <td>0.102</td>\n",
       "      <td>156.8</td>\n",
       "      <td>2.1</td>\n",
       "      <td>7407.4</td>\n",
       "      <td>39.3</td>\n",
       "      <td>1.7</td>\n",
       "      <td>2.3</td>\n",
       "      <td>37.1</td>\n",
       "      <td>5323.0</td>\n",
       "      <td>17831270</td>\n",
       "    </tr>\n",
       "    <tr>\n",
       "      <th>Burundi</th>\n",
       "      <td>3</td>\n",
       "      <td>0.039</td>\n",
       "      <td>50.8</td>\n",
       "      <td>1.9</td>\n",
       "      <td>2714.5</td>\n",
       "      <td>25.0</td>\n",
       "      <td>1.3</td>\n",
       "      <td>8.0</td>\n",
       "      <td>39.4</td>\n",
       "      <td>NaN</td>\n",
       "      <td>10162532</td>\n",
       "    </tr>\n",
       "  </tbody>\n",
       "</table>\n",
       "</div>"
      ],
      "text/plain": [
       "              btc_dl  btc_by_int_users  remitt_in_13  remitt_percentgdp_2013  \\\n",
       "Malawi            21             1.134          29.7                     0.8   \n",
       "Guinea            15             0.240          94.8                     1.5   \n",
       "Sierra Leone      10             0.170         104.5                     2.5   \n",
       "Niger              6             0.102         156.8                     2.1   \n",
       "Burundi            3             0.039          50.8                     1.9   \n",
       "\n",
       "              gdp_13  mobile_phone_13  int_users_per100  inflation_13  \\\n",
       "Malawi        3705.4             32.3               5.4          27.3   \n",
       "Guinea        6144.1             63.3               1.6          11.9   \n",
       "Sierra Leone  4136.3             44.1               1.7          10.3   \n",
       "Niger         7407.4             39.3               1.7           2.3   \n",
       "Burundi       2714.5             25.0               1.3           8.0   \n",
       "\n",
       "              blk_market_08  mig_to_OECD  population  \n",
       "Malawi                 39.7       5389.0    16362567  \n",
       "Guinea                 38.5      59448.0    11745189  \n",
       "Sierra Leone           39.2        324.0     6092075  \n",
       "Niger                  37.1       5323.0    17831270  \n",
       "Burundi                39.4          NaN    10162532  "
      ]
     },
     "execution_count": 2,
     "metadata": {},
     "output_type": "execute_result"
    }
   ],
   "source": [
    "df = pd.read_csv('data/refined_data/2013_reg_data_by_intusers.csv', index_col=0)\n",
    "df.tail()"
   ]
  },
  {
   "cell_type": "code",
   "execution_count": 14,
   "metadata": {
    "scrolled": true
   },
   "outputs": [
    {
     "data": {
      "text/html": [
       "<div>\n",
       "<table border=\"1\" class=\"dataframe\">\n",
       "  <thead>\n",
       "    <tr style=\"text-align: right;\">\n",
       "      <th></th>\n",
       "      <th>btc_dl</th>\n",
       "      <th>btc_by_int_users</th>\n",
       "      <th>remitt_in_13</th>\n",
       "      <th>remitt_percentgdp_2013</th>\n",
       "      <th>gdp_13</th>\n",
       "      <th>mobile_phone_13</th>\n",
       "      <th>int_users_per100</th>\n",
       "      <th>inflation_13</th>\n",
       "      <th>blk_market_08</th>\n",
       "      <th>mig_to_OECD</th>\n",
       "      <th>population</th>\n",
       "    </tr>\n",
       "  </thead>\n",
       "  <tbody>\n",
       "    <tr>\n",
       "      <th>btc_dl</th>\n",
       "      <td>1.000000</td>\n",
       "      <td>0.965701</td>\n",
       "      <td>0.414774</td>\n",
       "      <td>-0.139231</td>\n",
       "      <td>0.946082</td>\n",
       "      <td>0.017299</td>\n",
       "      <td>0.208714</td>\n",
       "      <td>-0.080072</td>\n",
       "      <td>-0.317538</td>\n",
       "      <td>0.555106</td>\n",
       "      <td>0.564963</td>\n",
       "    </tr>\n",
       "    <tr>\n",
       "      <th>btc_by_int_users</th>\n",
       "      <td>0.965701</td>\n",
       "      <td>1.000000</td>\n",
       "      <td>0.276403</td>\n",
       "      <td>-0.138817</td>\n",
       "      <td>0.950726</td>\n",
       "      <td>0.020070</td>\n",
       "      <td>0.239633</td>\n",
       "      <td>-0.088167</td>\n",
       "      <td>-0.324697</td>\n",
       "      <td>0.482366</td>\n",
       "      <td>0.405990</td>\n",
       "    </tr>\n",
       "    <tr>\n",
       "      <th>remitt_in_13</th>\n",
       "      <td>0.414774</td>\n",
       "      <td>0.276403</td>\n",
       "      <td>1.000000</td>\n",
       "      <td>0.014801</td>\n",
       "      <td>0.399371</td>\n",
       "      <td>-0.066677</td>\n",
       "      <td>0.024002</td>\n",
       "      <td>0.016776</td>\n",
       "      <td>-0.167640</td>\n",
       "      <td>0.784950</td>\n",
       "      <td>0.879295</td>\n",
       "    </tr>\n",
       "    <tr>\n",
       "      <th>remitt_percentgdp_2013</th>\n",
       "      <td>-0.139231</td>\n",
       "      <td>-0.138817</td>\n",
       "      <td>0.014801</td>\n",
       "      <td>1.000000</td>\n",
       "      <td>-0.160074</td>\n",
       "      <td>-0.174833</td>\n",
       "      <td>-0.274722</td>\n",
       "      <td>-0.008595</td>\n",
       "      <td>0.349203</td>\n",
       "      <td>-0.054243</td>\n",
       "      <td>-0.085678</td>\n",
       "    </tr>\n",
       "    <tr>\n",
       "      <th>gdp_13</th>\n",
       "      <td>0.946082</td>\n",
       "      <td>0.950726</td>\n",
       "      <td>0.399371</td>\n",
       "      <td>-0.160074</td>\n",
       "      <td>1.000000</td>\n",
       "      <td>0.007184</td>\n",
       "      <td>0.247249</td>\n",
       "      <td>-0.073240</td>\n",
       "      <td>-0.346180</td>\n",
       "      <td>0.562556</td>\n",
       "      <td>0.527491</td>\n",
       "    </tr>\n",
       "    <tr>\n",
       "      <th>mobile_phone_13</th>\n",
       "      <td>0.017299</td>\n",
       "      <td>0.020070</td>\n",
       "      <td>-0.066677</td>\n",
       "      <td>-0.174833</td>\n",
       "      <td>0.007184</td>\n",
       "      <td>1.000000</td>\n",
       "      <td>0.539561</td>\n",
       "      <td>-0.228284</td>\n",
       "      <td>-0.292529</td>\n",
       "      <td>-0.060701</td>\n",
       "      <td>-0.091994</td>\n",
       "    </tr>\n",
       "    <tr>\n",
       "      <th>int_users_per100</th>\n",
       "      <td>0.208714</td>\n",
       "      <td>0.239633</td>\n",
       "      <td>0.024002</td>\n",
       "      <td>-0.274722</td>\n",
       "      <td>0.247249</td>\n",
       "      <td>0.539561</td>\n",
       "      <td>1.000000</td>\n",
       "      <td>-0.284016</td>\n",
       "      <td>-0.637463</td>\n",
       "      <td>0.035508</td>\n",
       "      <td>-0.047118</td>\n",
       "    </tr>\n",
       "    <tr>\n",
       "      <th>inflation_13</th>\n",
       "      <td>-0.080072</td>\n",
       "      <td>-0.088167</td>\n",
       "      <td>0.016776</td>\n",
       "      <td>-0.008595</td>\n",
       "      <td>-0.073240</td>\n",
       "      <td>-0.228284</td>\n",
       "      <td>-0.284016</td>\n",
       "      <td>1.000000</td>\n",
       "      <td>0.179728</td>\n",
       "      <td>0.039009</td>\n",
       "      <td>0.077172</td>\n",
       "    </tr>\n",
       "    <tr>\n",
       "      <th>blk_market_08</th>\n",
       "      <td>-0.317538</td>\n",
       "      <td>-0.324697</td>\n",
       "      <td>-0.167640</td>\n",
       "      <td>0.349203</td>\n",
       "      <td>-0.346180</td>\n",
       "      <td>-0.292529</td>\n",
       "      <td>-0.637463</td>\n",
       "      <td>0.179728</td>\n",
       "      <td>1.000000</td>\n",
       "      <td>-0.136893</td>\n",
       "      <td>-0.182370</td>\n",
       "    </tr>\n",
       "    <tr>\n",
       "      <th>mig_to_OECD</th>\n",
       "      <td>0.555106</td>\n",
       "      <td>0.482366</td>\n",
       "      <td>0.784950</td>\n",
       "      <td>-0.054243</td>\n",
       "      <td>0.562556</td>\n",
       "      <td>-0.060701</td>\n",
       "      <td>0.035508</td>\n",
       "      <td>0.039009</td>\n",
       "      <td>-0.136893</td>\n",
       "      <td>1.000000</td>\n",
       "      <td>0.718358</td>\n",
       "    </tr>\n",
       "    <tr>\n",
       "      <th>population</th>\n",
       "      <td>0.564963</td>\n",
       "      <td>0.405990</td>\n",
       "      <td>0.879295</td>\n",
       "      <td>-0.085678</td>\n",
       "      <td>0.527491</td>\n",
       "      <td>-0.091994</td>\n",
       "      <td>-0.047118</td>\n",
       "      <td>0.077172</td>\n",
       "      <td>-0.182370</td>\n",
       "      <td>0.718358</td>\n",
       "      <td>1.000000</td>\n",
       "    </tr>\n",
       "  </tbody>\n",
       "</table>\n",
       "</div>"
      ],
      "text/plain": [
       "                          btc_dl  btc_by_int_users  remitt_in_13  \\\n",
       "btc_dl                  1.000000          0.965701      0.414774   \n",
       "btc_by_int_users        0.965701          1.000000      0.276403   \n",
       "remitt_in_13            0.414774          0.276403      1.000000   \n",
       "remitt_percentgdp_2013 -0.139231         -0.138817      0.014801   \n",
       "gdp_13                  0.946082          0.950726      0.399371   \n",
       "mobile_phone_13         0.017299          0.020070     -0.066677   \n",
       "int_users_per100        0.208714          0.239633      0.024002   \n",
       "inflation_13           -0.080072         -0.088167      0.016776   \n",
       "blk_market_08          -0.317538         -0.324697     -0.167640   \n",
       "mig_to_OECD             0.555106          0.482366      0.784950   \n",
       "population              0.564963          0.405990      0.879295   \n",
       "\n",
       "                        remitt_percentgdp_2013    gdp_13  mobile_phone_13  \\\n",
       "btc_dl                               -0.139231  0.946082         0.017299   \n",
       "btc_by_int_users                     -0.138817  0.950726         0.020070   \n",
       "remitt_in_13                          0.014801  0.399371        -0.066677   \n",
       "remitt_percentgdp_2013                1.000000 -0.160074        -0.174833   \n",
       "gdp_13                               -0.160074  1.000000         0.007184   \n",
       "mobile_phone_13                      -0.174833  0.007184         1.000000   \n",
       "int_users_per100                     -0.274722  0.247249         0.539561   \n",
       "inflation_13                         -0.008595 -0.073240        -0.228284   \n",
       "blk_market_08                         0.349203 -0.346180        -0.292529   \n",
       "mig_to_OECD                          -0.054243  0.562556        -0.060701   \n",
       "population                           -0.085678  0.527491        -0.091994   \n",
       "\n",
       "                        int_users_per100  inflation_13  blk_market_08  \\\n",
       "btc_dl                          0.208714     -0.080072      -0.317538   \n",
       "btc_by_int_users                0.239633     -0.088167      -0.324697   \n",
       "remitt_in_13                    0.024002      0.016776      -0.167640   \n",
       "remitt_percentgdp_2013         -0.274722     -0.008595       0.349203   \n",
       "gdp_13                          0.247249     -0.073240      -0.346180   \n",
       "mobile_phone_13                 0.539561     -0.228284      -0.292529   \n",
       "int_users_per100                1.000000     -0.284016      -0.637463   \n",
       "inflation_13                   -0.284016      1.000000       0.179728   \n",
       "blk_market_08                  -0.637463      0.179728       1.000000   \n",
       "mig_to_OECD                     0.035508      0.039009      -0.136893   \n",
       "population                     -0.047118      0.077172      -0.182370   \n",
       "\n",
       "                        mig_to_OECD  population  \n",
       "btc_dl                     0.555106    0.564963  \n",
       "btc_by_int_users           0.482366    0.405990  \n",
       "remitt_in_13               0.784950    0.879295  \n",
       "remitt_percentgdp_2013    -0.054243   -0.085678  \n",
       "gdp_13                     0.562556    0.527491  \n",
       "mobile_phone_13           -0.060701   -0.091994  \n",
       "int_users_per100           0.035508   -0.047118  \n",
       "inflation_13               0.039009    0.077172  \n",
       "blk_market_08             -0.136893   -0.182370  \n",
       "mig_to_OECD                1.000000    0.718358  \n",
       "population                 0.718358    1.000000  "
      ]
     },
     "execution_count": 14,
     "metadata": {},
     "output_type": "execute_result"
    }
   ],
   "source": [
    "df.corr()"
   ]
  },
  {
   "cell_type": "code",
   "execution_count": 15,
   "metadata": {},
   "outputs": [],
   "source": [
    "df['log_btc_dl'] = np.log(df.btc_dl)\n",
    "df['log_remitt_in_13'] = np.log(df.remitt_in_13)\n",
    "df['log_btc_by_int_users'] = np.log(df.btc_by_int_users)"
   ]
  },
  {
   "cell_type": "code",
   "execution_count": 16,
   "metadata": {},
   "outputs": [],
   "source": [
    "y = df.log_btc_by_int_users\n",
    "x = df.log_remitt_in_13\n",
    "x = sm.add_constant(x)"
   ]
  },
  {
   "cell_type": "markdown",
   "metadata": {},
   "source": [
    "    OLS Regression 1:\n",
    "    Dependent = log of Bitcoin Software Downloads\n",
    "    Inedpendent = Log of 2013 incoming remittances"
   ]
  },
  {
   "cell_type": "code",
   "execution_count": 17,
   "metadata": {},
   "outputs": [
    {
     "name": "stdout",
     "output_type": "stream",
     "text": [
      "                             OLS Regression Results                             \n",
      "================================================================================\n",
      "Dep. Variable:     log_btc_by_int_users   R-squared:                       0.333\n",
      "Model:                              OLS   Adj. R-squared:                  0.329\n",
      "Method:                   Least Squares   F-statistic:                     83.38\n",
      "Date:                  Mon, 06 Jul 2015   Prob (F-statistic):           2.18e-16\n",
      "Time:                          22:11:57   Log-Likelihood:                -423.04\n",
      "No. Observations:                   169   AIC:                             850.1\n",
      "Df Residuals:                       167   BIC:                             856.3\n",
      "Df Model:                             1                                         \n",
      "Covariance Type:              nonrobust                                         \n",
      "====================================================================================\n",
      "                       coef    std err          t      P>|t|      [95.0% Conf. Int.]\n",
      "------------------------------------------------------------------------------------\n",
      "const               -0.6593      0.714     -0.923      0.357        -2.070     0.751\n",
      "log_remitt_in_13     0.9637      0.106      9.131      0.000         0.755     1.172\n",
      "==============================================================================\n",
      "Omnibus:                        0.029   Durbin-Watson:                   1.105\n",
      "Prob(Omnibus):                  0.985   Jarque-Bera (JB):                0.009\n",
      "Skew:                           0.007   Prob(JB):                        0.996\n",
      "Kurtosis:                       2.968   Cond. No.                         21.5\n",
      "==============================================================================\n",
      "\n",
      "Warnings:\n",
      "[1] Standard Errors assume that the covariance matrix of the errors is correctly specified.\n"
     ]
    }
   ],
   "source": [
    "est1 = sm.OLS(y, x, missing='drop')\n",
    "est1 = est1.fit()\n",
    "print est1.summary()"
   ]
  },
  {
   "cell_type": "code",
   "execution_count": 18,
   "metadata": {
    "collapsed": true
   },
   "outputs": [],
   "source": [
    "df['log_gdp_13'] = np.log(df.gdp_13)"
   ]
  },
  {
   "cell_type": "code",
   "execution_count": 19,
   "metadata": {},
   "outputs": [],
   "source": [
    "x1 = df[['log_gdp_13', 'log_remitt_in_13']]\n",
    "x1 = sm.add_constant(x1)"
   ]
  },
  {
   "cell_type": "markdown",
   "metadata": {},
   "source": [
    "    OLS Regression 2:\n",
    "    Dependent = log of Bitcoin Software Downloads\n",
    "    Inedpendent = Log of 2013 incoming remittances, log of 2013 GDP"
   ]
  },
  {
   "cell_type": "code",
   "execution_count": 20,
   "metadata": {},
   "outputs": [
    {
     "name": "stdout",
     "output_type": "stream",
     "text": [
      "                             OLS Regression Results                             \n",
      "================================================================================\n",
      "Dep. Variable:     log_btc_by_int_users   R-squared:                       0.687\n",
      "Model:                              OLS   Adj. R-squared:                  0.683\n",
      "Method:                   Least Squares   F-statistic:                     173.1\n",
      "Date:                  Mon, 06 Jul 2015   Prob (F-statistic):           1.52e-40\n",
      "Time:                          22:12:04   Log-Likelihood:                -342.04\n",
      "No. Observations:                   161   AIC:                             690.1\n",
      "Df Residuals:                       158   BIC:                             699.3\n",
      "Df Model:                             2                                         \n",
      "Covariance Type:              nonrobust                                         \n",
      "====================================================================================\n",
      "                       coef    std err          t      P>|t|      [95.0% Conf. Int.]\n",
      "------------------------------------------------------------------------------------\n",
      "const               -8.1539      0.761    -10.717      0.000        -9.657    -6.651\n",
      "log_gdp_13           1.1877      0.089     13.279      0.000         1.011     1.364\n",
      "log_remitt_in_13     0.1670      0.095      1.751      0.082        -0.021     0.355\n",
      "==============================================================================\n",
      "Omnibus:                        6.445   Durbin-Watson:                   1.435\n",
      "Prob(Omnibus):                  0.040   Jarque-Bera (JB):                6.587\n",
      "Skew:                          -0.469   Prob(JB):                       0.0371\n",
      "Kurtosis:                       2.680   Cond. No.                         61.0\n",
      "==============================================================================\n",
      "\n",
      "Warnings:\n",
      "[1] Standard Errors assume that the covariance matrix of the errors is correctly specified.\n"
     ]
    }
   ],
   "source": [
    "est2 = sm.OLS(y, x1, missing='drop')\n",
    "est2 = est2.fit()\n",
    "print est2.summary()"
   ]
  },
  {
   "cell_type": "code",
   "execution_count": 21,
   "metadata": {
    "collapsed": true
   },
   "outputs": [],
   "source": [
    "x2 = df[['log_gdp_13', 'log_remitt_in_13', 'inflation_13', 'mobile_phone_13']]\n",
    "x2 = sm.add_constant(x2)"
   ]
  },
  {
   "cell_type": "markdown",
   "metadata": {},
   "source": [
    "    OLS Regression 3:\n",
    "    Dependent = log of Bitcoin Software Downloads\n",
    "    Independent = Log of 2013 incoming remittances, log of 2013 GDP, rate of 2013 inflation, mobile phone penetration"
   ]
  },
  {
   "cell_type": "code",
   "execution_count": 22,
   "metadata": {
    "scrolled": false
   },
   "outputs": [
    {
     "name": "stdout",
     "output_type": "stream",
     "text": [
      "                             OLS Regression Results                             \n",
      "================================================================================\n",
      "Dep. Variable:     log_btc_by_int_users   R-squared:                       0.788\n",
      "Model:                              OLS   Adj. R-squared:                  0.782\n",
      "Method:                   Least Squares   F-statistic:                     135.5\n",
      "Date:                  Mon, 06 Jul 2015   Prob (F-statistic):           4.13e-48\n",
      "Time:                          22:12:08   Log-Likelihood:                -289.00\n",
      "No. Observations:                   151   AIC:                             588.0\n",
      "Df Residuals:                       146   BIC:                             603.1\n",
      "Df Model:                             4                                         \n",
      "Covariance Type:              nonrobust                                         \n",
      "====================================================================================\n",
      "                       coef    std err          t      P>|t|      [95.0% Conf. Int.]\n",
      "------------------------------------------------------------------------------------\n",
      "const               -9.4106      0.708    -13.286      0.000       -10.810    -8.011\n",
      "log_gdp_13           1.0005      0.082     12.268      0.000         0.839     1.162\n",
      "log_remitt_in_13     0.2526      0.082      3.090      0.002         0.091     0.414\n",
      "inflation_13        -0.0581      0.024     -2.429      0.016        -0.105    -0.011\n",
      "mobile_phone_13      0.0275      0.004      7.496      0.000         0.020     0.035\n",
      "==============================================================================\n",
      "Omnibus:                        3.529   Durbin-Watson:                   1.502\n",
      "Prob(Omnibus):                  0.171   Jarque-Bera (JB):                3.526\n",
      "Skew:                          -0.368   Prob(JB):                        0.172\n",
      "Kurtosis:                       2.859   Cond. No.                         604.\n",
      "==============================================================================\n",
      "\n",
      "Warnings:\n",
      "[1] Standard Errors assume that the covariance matrix of the errors is correctly specified.\n"
     ]
    }
   ],
   "source": [
    "est3 = sm.OLS(y, x2, missing='drop')\n",
    "est3 = est3.fit()\n",
    "print est3.summary()"
   ]
  },
  {
   "cell_type": "code",
   "execution_count": 23,
   "metadata": {
    "collapsed": true
   },
   "outputs": [],
   "source": [
    "x3 = df[['log_gdp_13', 'log_remitt_in_13', 'inflation_13', 'blk_market_08', 'mobile_phone_13']]\n",
    "x3 = sm.add_constant(x3)"
   ]
  },
  {
   "cell_type": "markdown",
   "metadata": {},
   "source": [
    "    OLS Regression 4:\n",
    "    Dependent = log of Bitcoin Software Downloads\n",
    "    Inedpendent = Log of 2013 incoming remittances, log of 2013 GDP, rate of 2013 inflation, mobile phone penetration,\n",
    "    size of black market economy "
   ]
  },
  {
   "cell_type": "code",
   "execution_count": 24,
   "metadata": {},
   "outputs": [
    {
     "name": "stdout",
     "output_type": "stream",
     "text": [
      "                             OLS Regression Results                             \n",
      "================================================================================\n",
      "Dep. Variable:     log_btc_by_int_users   R-squared:                       0.811\n",
      "Model:                              OLS   Adj. R-squared:                  0.802\n",
      "Method:                   Least Squares   F-statistic:                     97.54\n",
      "Date:                  Mon, 06 Jul 2015   Prob (F-statistic):           1.62e-39\n",
      "Time:                          22:12:14   Log-Likelihood:                -221.10\n",
      "No. Observations:                   120   AIC:                             454.2\n",
      "Df Residuals:                       114   BIC:                             470.9\n",
      "Df Model:                             5                                         \n",
      "Covariance Type:              nonrobust                                         \n",
      "====================================================================================\n",
      "                       coef    std err          t      P>|t|      [95.0% Conf. Int.]\n",
      "------------------------------------------------------------------------------------\n",
      "const               -8.4706      1.291     -6.560      0.000       -11.028    -5.913\n",
      "log_gdp_13           0.9909      0.105      9.409      0.000         0.782     1.199\n",
      "log_remitt_in_13     0.2496      0.086      2.893      0.005         0.079     0.421\n",
      "inflation_13        -0.0641      0.035     -1.853      0.066        -0.133     0.004\n",
      "blk_market_08       -0.0311      0.014     -2.157      0.033        -0.060    -0.003\n",
      "mobile_phone_13      0.0291      0.005      6.424      0.000         0.020     0.038\n",
      "==============================================================================\n",
      "Omnibus:                        3.145   Durbin-Watson:                   1.728\n",
      "Prob(Omnibus):                  0.208   Jarque-Bera (JB):                2.606\n",
      "Skew:                          -0.338   Prob(JB):                        0.272\n",
      "Kurtosis:                       3.253   Cond. No.                     1.06e+03\n",
      "==============================================================================\n",
      "\n",
      "Warnings:\n",
      "[1] Standard Errors assume that the covariance matrix of the errors is correctly specified.\n",
      "[2] The condition number is large, 1.06e+03. This might indicate that there are\n",
      "strong multicollinearity or other numerical problems.\n"
     ]
    }
   ],
   "source": [
    "est4 = sm.OLS(y, x3, missing='drop')\n",
    "est4 = est4.fit()\n",
    "print est4.summary()"
   ]
  },
  {
   "cell_type": "code",
   "execution_count": 25,
   "metadata": {
    "collapsed": true
   },
   "outputs": [],
   "source": [
    "x4 = df[['log_gdp_13', 'log_remitt_in_13', 'inflation_13', 'blk_market_08', 'mobile_phone_13', 'mig_to_OECD']]\n",
    "x4 = sm.add_constant(x4)"
   ]
  },
  {
   "cell_type": "markdown",
   "metadata": {},
   "source": [
    "    OLS Regression 5:\n",
    "    Dependent = log of Bitcoin Software Downloads\n",
    "    Inedpendent = Log of 2013 incoming remittances, log of 2013 GDP, rate of 2013 inflation, mobile phone penetration,\n",
    "    size of black market economy, migration to OECD countries "
   ]
  },
  {
   "cell_type": "code",
   "execution_count": 26,
   "metadata": {
    "scrolled": false
   },
   "outputs": [
    {
     "name": "stdout",
     "output_type": "stream",
     "text": [
      "                             OLS Regression Results                             \n",
      "================================================================================\n",
      "Dep. Variable:     log_btc_by_int_users   R-squared:                       0.808\n",
      "Model:                              OLS   Adj. R-squared:                  0.797\n",
      "Method:                   Least Squares   F-statistic:                     77.12\n",
      "Date:                  Mon, 06 Jul 2015   Prob (F-statistic):           4.08e-37\n",
      "Time:                          22:12:16   Log-Likelihood:                -214.22\n",
      "No. Observations:                   117   AIC:                             442.4\n",
      "Df Residuals:                       110   BIC:                             461.8\n",
      "Df Model:                             6                                         \n",
      "Covariance Type:              nonrobust                                         \n",
      "====================================================================================\n",
      "                       coef    std err          t      P>|t|      [95.0% Conf. Int.]\n",
      "------------------------------------------------------------------------------------\n",
      "const               -8.6408      1.373     -6.292      0.000       -11.362    -5.919\n",
      "log_gdp_13           1.0293      0.113      9.132      0.000         0.806     1.253\n",
      "log_remitt_in_13     0.2453      0.089      2.743      0.007         0.068     0.422\n",
      "inflation_13        -0.0582      0.035     -1.674      0.097        -0.127     0.011\n",
      "blk_market_08       -0.0304      0.014     -2.117      0.037        -0.059    -0.002\n",
      "mobile_phone_13      0.0271      0.005      5.713      0.000         0.018     0.036\n",
      "mig_to_OECD      -3.859e-07   5.76e-07     -0.670      0.504     -1.53e-06  7.56e-07\n",
      "==============================================================================\n",
      "Omnibus:                        3.634   Durbin-Watson:                   1.742\n",
      "Prob(Omnibus):                  0.163   Jarque-Bera (JB):                3.042\n",
      "Skew:                          -0.361   Prob(JB):                        0.219\n",
      "Kurtosis:                       3.320   Cond. No.                     3.38e+06\n",
      "==============================================================================\n",
      "\n",
      "Warnings:\n",
      "[1] Standard Errors assume that the covariance matrix of the errors is correctly specified.\n",
      "[2] The condition number is large, 3.38e+06. This might indicate that there are\n",
      "strong multicollinearity or other numerical problems.\n"
     ]
    }
   ],
   "source": [
    "est5 = sm.OLS(y, x4, missing='drop')\n",
    "est5 = est5.fit()\n",
    "print est5.summary()"
   ]
  },
  {
   "cell_type": "code",
   "execution_count": 27,
   "metadata": {},
   "outputs": [
    {
     "data": {
      "text/plain": [
       "count        149.000000\n",
       "mean      133372.664430\n",
       "std       287792.763641\n",
       "min            0.000000\n",
       "25%         6106.000000\n",
       "50%        34388.000000\n",
       "75%       135309.000000\n",
       "max      2020988.000000\n",
       "Name: mig_to_OECD, dtype: float64"
      ]
     },
     "execution_count": 27,
     "metadata": {},
     "output_type": "execute_result"
    }
   ],
   "source": [
    "df.mig_to_OECD.describe()"
   ]
  },
  {
   "cell_type": "code",
   "execution_count": 28,
   "metadata": {},
   "outputs": [],
   "source": [
    "df['log_mig_to_OECD'] = np.log(df.mig_to_OECD)"
   ]
  },
  {
   "cell_type": "code",
   "execution_count": 29,
   "metadata": {
    "collapsed": true
   },
   "outputs": [],
   "source": [
    "x5 = df[['log_gdp_13', 'log_remitt_in_13', 'inflation_13', 'blk_market_08', 'mobile_phone_13', 'log_mig_to_OECD']]\n",
    "x5 = sm.add_constant(x5)"
   ]
  },
  {
   "cell_type": "markdown",
   "metadata": {},
   "source": [
    "    OLS Regression 6:\n",
    "\n",
    "    migration data appears to be causing problems - changed into its natural log. \n",
    "\n",
    "    Dependent = log of Bitcoin Software Downloads\n",
    "    Inedpendent = Log of 2013 incoming remittances, log of 2013 GDP, rate of 2013 inflation, mobile phone penetration,\n",
    "    size of black market economy, log of migration to OECD countries "
   ]
  },
  {
   "cell_type": "code",
   "execution_count": 30,
   "metadata": {
    "scrolled": false
   },
   "outputs": [
    {
     "name": "stdout",
     "output_type": "stream",
     "text": [
      "                             OLS Regression Results                             \n",
      "================================================================================\n",
      "Dep. Variable:     log_btc_by_int_users   R-squared:                       0.808\n",
      "Model:                              OLS   Adj. R-squared:                  0.797\n",
      "Method:                   Least Squares   F-statistic:                     77.05\n",
      "Date:                  Mon, 06 Jul 2015   Prob (F-statistic):           4.24e-37\n",
      "Time:                          22:12:21   Log-Likelihood:                -214.27\n",
      "No. Observations:                   117   AIC:                             442.5\n",
      "Df Residuals:                       110   BIC:                             461.9\n",
      "Df Model:                             6                                         \n",
      "Covariance Type:              nonrobust                                         \n",
      "====================================================================================\n",
      "                       coef    std err          t      P>|t|      [95.0% Conf. Int.]\n",
      "------------------------------------------------------------------------------------\n",
      "const               -8.3840      1.306     -6.418      0.000       -10.973    -5.795\n",
      "log_gdp_13           1.0295      0.114      8.999      0.000         0.803     1.256\n",
      "log_remitt_in_13     0.2460      0.090      2.721      0.008         0.067     0.425\n",
      "inflation_13        -0.0571      0.035     -1.632      0.106        -0.126     0.012\n",
      "blk_market_08       -0.0287      0.015     -1.945      0.054        -0.058     0.001\n",
      "mobile_phone_13      0.0280      0.005      6.048      0.000         0.019     0.037\n",
      "log_mig_to_OECD     -0.0468      0.077     -0.609      0.544        -0.199     0.105\n",
      "==============================================================================\n",
      "Omnibus:                        3.274   Durbin-Watson:                   1.712\n",
      "Prob(Omnibus):                  0.195   Jarque-Bera (JB):                2.693\n",
      "Skew:                          -0.339   Prob(JB):                        0.260\n",
      "Kurtosis:                       3.306   Cond. No.                     1.07e+03\n",
      "==============================================================================\n",
      "\n",
      "Warnings:\n",
      "[1] Standard Errors assume that the covariance matrix of the errors is correctly specified.\n",
      "[2] The condition number is large, 1.07e+03. This might indicate that there are\n",
      "strong multicollinearity or other numerical problems.\n"
     ]
    }
   ],
   "source": [
    "est6 = sm.OLS(y, x5, missing='drop')\n",
    "est6 = est6.fit()\n",
    "print est6.summary()"
   ]
  },
  {
   "cell_type": "markdown",
   "metadata": {},
   "source": [
    "Notes:\n",
    "Consider dropping log of migration data - confidence interals are quite wide and p value indicates that it is not significant\n",
    "Interestingly, both black market data and inflation numbers show no signifigance. This may be because of low inflation in Eurozone and US\n",
    "\n",
    "Ask prof Schena how to incorporate CAGR of download data into analysis\n",
    "    "
   ]
  },
  {
   "cell_type": "code",
   "execution_count": 31,
   "metadata": {},
   "outputs": [
    {
     "name": "stdout",
     "output_type": "stream",
     "text": [
      "                             OLS Regression Results                             \n",
      "================================================================================\n",
      "Dep. Variable:     log_btc_by_int_users   R-squared:                       0.907\n",
      "Model:                              OLS   Adj. R-squared:                  0.902\n",
      "Method:                   Least Squares   F-statistic:                     183.4\n",
      "Date:                  Mon, 06 Jul 2015   Prob (F-statistic):           7.89e-56\n",
      "Time:                          22:12:31   Log-Likelihood:                -178.49\n",
      "No. Observations:                   120   AIC:                             371.0\n",
      "Df Residuals:                       113   BIC:                             390.5\n",
      "Df Model:                             6                                         \n",
      "Covariance Type:              nonrobust                                         \n",
      "====================================================================================\n",
      "                       coef    std err          t      P>|t|      [95.0% Conf. Int.]\n",
      "------------------------------------------------------------------------------------\n",
      "const               -9.1252      0.911    -10.014      0.000       -10.931    -7.320\n",
      "log_gdp_13           0.7691      0.077      9.996      0.000         0.617     0.922\n",
      "log_remitt_in_13     0.2593      0.061      4.267      0.000         0.139     0.380\n",
      "inflation_13         0.0129      0.025      0.507      0.613        -0.037     0.063\n",
      "blk_market_08        0.0226      0.011      1.996      0.048         0.000     0.045\n",
      "mobile_phone_13      0.0133      0.004      3.781      0.000         0.006     0.020\n",
      "int_users_per100     0.0636      0.006     10.811      0.000         0.052     0.075\n",
      "==============================================================================\n",
      "Omnibus:                        3.159   Durbin-Watson:                   1.814\n",
      "Prob(Omnibus):                  0.206   Jarque-Bera (JB):                2.792\n",
      "Skew:                          -0.371   Prob(JB):                        0.248\n",
      "Kurtosis:                       3.093   Cond. No.                     1.14e+03\n",
      "==============================================================================\n",
      "\n",
      "Warnings:\n",
      "[1] Standard Errors assume that the covariance matrix of the errors is correctly specified.\n",
      "[2] The condition number is large, 1.14e+03. This might indicate that there are\n",
      "strong multicollinearity or other numerical problems.\n"
     ]
    }
   ],
   "source": [
    "x6 = df[['log_gdp_13', 'log_remitt_in_13', 'inflation_13', 'blk_market_08', 'mobile_phone_13', 'int_users_per100']]\n",
    "x6 = sm.add_constant(x6)\n",
    "est7 = sm.OLS(y, x6, missing='drop')\n",
    "est7 = est7.fit()\n",
    "print est7.summary()"
   ]
  },
  {
   "cell_type": "code",
   "execution_count": 32,
   "metadata": {},
   "outputs": [
    {
     "name": "stdout",
     "output_type": "stream",
     "text": [
      "                             OLS Regression Results                             \n",
      "================================================================================\n",
      "Dep. Variable:     log_btc_by_int_users   R-squared:                       0.899\n",
      "Model:                              OLS   Adj. R-squared:                  0.896\n",
      "Method:                   Least Squares   F-statistic:                     258.4\n",
      "Date:                  Mon, 06 Jul 2015   Prob (F-statistic):           2.46e-70\n",
      "Time:                          22:12:43   Log-Likelihood:                -232.89\n",
      "No. Observations:                   151   AIC:                             477.8\n",
      "Df Residuals:                       145   BIC:                             495.9\n",
      "Df Model:                             5                                         \n",
      "Covariance Type:              nonrobust                                         \n",
      "====================================================================================\n",
      "                       coef    std err          t      P>|t|      [95.0% Conf. Int.]\n",
      "------------------------------------------------------------------------------------\n",
      "const               -7.2945      0.518    -14.085      0.000        -8.318    -6.271\n",
      "log_gdp_13           0.6750      0.062     10.884      0.000         0.552     0.798\n",
      "log_remitt_in_13     0.3170      0.057      5.581      0.000         0.205     0.429\n",
      "inflation_13        -0.0026      0.017     -0.153      0.879        -0.036     0.031\n",
      "mobile_phone_13      0.0104      0.003      3.627      0.000         0.005     0.016\n",
      "int_users_per100     0.0599      0.005     12.646      0.000         0.051     0.069\n",
      "==============================================================================\n",
      "Omnibus:                        6.175   Durbin-Watson:                   1.767\n",
      "Prob(Omnibus):                  0.046   Jarque-Bera (JB):                5.763\n",
      "Skew:                          -0.455   Prob(JB):                       0.0561\n",
      "Kurtosis:                       3.295   Cond. No.                         689.\n",
      "==============================================================================\n",
      "\n",
      "Warnings:\n",
      "[1] Standard Errors assume that the covariance matrix of the errors is correctly specified.\n"
     ]
    }
   ],
   "source": [
    "x7 = df[['log_gdp_13', 'log_remitt_in_13', 'inflation_13', 'mobile_phone_13', 'int_users_per100']]\n",
    "x7 = sm.add_constant(x7)\n",
    "est8 = sm.OLS(y, x7, missing='drop')\n",
    "est8 = est8.fit()\n",
    "print est8.summary()"
   ]
  },
  {
   "cell_type": "code",
   "execution_count": 33,
   "metadata": {},
   "outputs": [
    {
     "name": "stdout",
     "output_type": "stream",
     "text": [
      "                             OLS Regression Results                             \n",
      "================================================================================\n",
      "Dep. Variable:     log_btc_by_int_users   R-squared:                       0.900\n",
      "Model:                              OLS   Adj. R-squared:                  0.897\n",
      "Method:                   Least Squares   F-statistic:                     346.3\n",
      "Date:                  Mon, 06 Jul 2015   Prob (F-statistic):           7.31e-76\n",
      "Time:                          22:12:44   Log-Likelihood:                -243.42\n",
      "No. Observations:                   159   AIC:                             496.8\n",
      "Df Residuals:                       154   BIC:                             512.2\n",
      "Df Model:                             4                                         \n",
      "Covariance Type:              nonrobust                                         \n",
      "====================================================================================\n",
      "                       coef    std err          t      P>|t|      [95.0% Conf. Int.]\n",
      "------------------------------------------------------------------------------------\n",
      "const               -7.2778      0.489    -14.881      0.000        -8.244    -6.312\n",
      "log_gdp_13           0.6691      0.057     11.687      0.000         0.556     0.782\n",
      "log_remitt_in_13     0.3127      0.054      5.781      0.000         0.206     0.420\n",
      "mobile_phone_13      0.0111      0.003      4.003      0.000         0.006     0.017\n",
      "int_users_per100     0.0595      0.004     13.785      0.000         0.051     0.068\n",
      "==============================================================================\n",
      "Omnibus:                        6.492   Durbin-Watson:                   1.903\n",
      "Prob(Omnibus):                  0.039   Jarque-Bera (JB):                6.116\n",
      "Skew:                          -0.457   Prob(JB):                       0.0470\n",
      "Kurtosis:                       3.295   Cond. No.                         680.\n",
      "==============================================================================\n",
      "\n",
      "Warnings:\n",
      "[1] Standard Errors assume that the covariance matrix of the errors is correctly specified.\n"
     ]
    }
   ],
   "source": [
    "x8 = df[['log_gdp_13', 'log_remitt_in_13', 'mobile_phone_13', 'int_users_per100']]\n",
    "x8 = sm.add_constant(x8)\n",
    "est9 = sm.OLS(y, x8, missing='drop')\n",
    "est9 = est9.fit()\n",
    "print est9.summary()"
   ]
  },
  {
   "cell_type": "code",
   "execution_count": null,
   "metadata": {
    "collapsed": true
   },
   "outputs": [],
   "source": []
  },
  {
   "cell_type": "code",
   "execution_count": null,
   "metadata": {
    "collapsed": true
   },
   "outputs": [],
   "source": []
  }
 ],
 "metadata": {
  "kernelspec": {
   "display_name": "Python 3",
   "language": "python",
   "name": "python3"
  },
  "language_info": {
   "codemirror_mode": {
    "name": "ipython",
    "version": 3
   },
   "file_extension": ".py",
   "mimetype": "text/x-python",
   "name": "python",
   "nbconvert_exporter": "python",
   "pygments_lexer": "ipython3",
   "version": "3.6.5"
  }
 },
 "nbformat": 4,
 "nbformat_minor": 1
}
