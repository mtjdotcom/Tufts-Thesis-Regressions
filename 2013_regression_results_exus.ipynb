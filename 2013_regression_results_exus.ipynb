{
 "cells": [
  {
   "cell_type": "code",
   "execution_count": null,
   "metadata": {},
   "outputs": [],
   "source": [
    "## 2013 Data: ExUS Regression Results"
   ]
  },
  {
   "cell_type": "code",
   "execution_count": 7,
   "metadata": {},
   "outputs": [],
   "source": [
    "import numpy as np\n",
    "import pandas as pd\n",
    "import statsmodels.api as sm"
   ]
  },
  {
   "cell_type": "code",
   "execution_count": 10,
   "metadata": {},
   "outputs": [
    {
     "data": {
      "text/html": [
       "<div style=\"max-height:1000px;max-width:1500px;overflow:auto;\">\n",
       "<table border=\"1\" class=\"dataframe\">\n",
       "  <thead>\n",
       "    <tr style=\"text-align: right;\">\n",
       "      <th></th>\n",
       "      <th>btc_dl</th>\n",
       "      <th>remitt_in_13</th>\n",
       "      <th>remitt_percentgdp_2013</th>\n",
       "      <th>gdp_13</th>\n",
       "      <th>mobile_phone_13</th>\n",
       "      <th>int_users_per100</th>\n",
       "      <th>inflation_13</th>\n",
       "      <th>blk_market_08</th>\n",
       "      <th>mig_to_OECD</th>\n",
       "      <th>population</th>\n",
       "    </tr>\n",
       "  </thead>\n",
       "  <tbody>\n",
       "    <tr>\n",
       "      <th>Cuba</th>\n",
       "      <td> 393</td>\n",
       "      <td>    NaN</td>\n",
       "      <td>NaN</td>\n",
       "      <td>NaN</td>\n",
       "      <td>  17.7</td>\n",
       "      <td> 25.7</td>\n",
       "      <td>NaN</td>\n",
       "      <td>NaN</td>\n",
       "      <td> 178883</td>\n",
       "      <td> 11265629</td>\n",
       "    </tr>\n",
       "    <tr>\n",
       "      <th>Syrian Arab Republic</th>\n",
       "      <td> 208</td>\n",
       "      <td> 1622.5</td>\n",
       "      <td>NaN</td>\n",
       "      <td>NaN</td>\n",
       "      <td>  56.0</td>\n",
       "      <td> 26.2</td>\n",
       "      <td>NaN</td>\n",
       "      <td>NaN</td>\n",
       "      <td>    NaN</td>\n",
       "      <td> 22845550</td>\n",
       "    </tr>\n",
       "    <tr>\n",
       "      <th>Andorra</th>\n",
       "      <td> 130</td>\n",
       "      <td>    NaN</td>\n",
       "      <td>NaN</td>\n",
       "      <td>NaN</td>\n",
       "      <td>  80.7</td>\n",
       "      <td> 94.0</td>\n",
       "      <td>NaN</td>\n",
       "      <td>NaN</td>\n",
       "      <td>    NaN</td>\n",
       "      <td>    79218</td>\n",
       "    </tr>\n",
       "    <tr>\n",
       "      <th>Bermuda</th>\n",
       "      <td> 123</td>\n",
       "      <td> 1304.8</td>\n",
       "      <td>NaN</td>\n",
       "      <td>NaN</td>\n",
       "      <td> 144.3</td>\n",
       "      <td> 95.3</td>\n",
       "      <td>NaN</td>\n",
       "      <td>NaN</td>\n",
       "      <td>    NaN</td>\n",
       "      <td>    65024</td>\n",
       "    </tr>\n",
       "    <tr>\n",
       "      <th>French Polynesia</th>\n",
       "      <td>  96</td>\n",
       "      <td>  669.2</td>\n",
       "      <td>NaN</td>\n",
       "      <td>NaN</td>\n",
       "      <td>  85.6</td>\n",
       "      <td> 56.8</td>\n",
       "      <td>NaN</td>\n",
       "      <td>NaN</td>\n",
       "      <td>    824</td>\n",
       "      <td>   276831</td>\n",
       "    </tr>\n",
       "  </tbody>\n",
       "</table>\n",
       "</div>"
      ],
      "text/plain": [
       "                      btc_dl  remitt_in_13  remitt_percentgdp_2013  gdp_13  \\\n",
       "Cuba                     393           NaN                     NaN     NaN   \n",
       "Syrian Arab Republic     208        1622.5                     NaN     NaN   \n",
       "Andorra                  130           NaN                     NaN     NaN   \n",
       "Bermuda                  123        1304.8                     NaN     NaN   \n",
       "French Polynesia          96         669.2                     NaN     NaN   \n",
       "\n",
       "                      mobile_phone_13  int_users_per100  inflation_13  \\\n",
       "Cuba                             17.7              25.7           NaN   \n",
       "Syrian Arab Republic             56.0              26.2           NaN   \n",
       "Andorra                          80.7              94.0           NaN   \n",
       "Bermuda                         144.3              95.3           NaN   \n",
       "French Polynesia                 85.6              56.8           NaN   \n",
       "\n",
       "                      blk_market_08  mig_to_OECD  population  \n",
       "Cuba                            NaN       178883    11265629  \n",
       "Syrian Arab Republic            NaN          NaN    22845550  \n",
       "Andorra                         NaN          NaN       79218  \n",
       "Bermuda                         NaN          NaN       65024  \n",
       "French Polynesia                NaN          824      276831  "
      ]
     },
     "execution_count": 10,
     "metadata": {},
     "output_type": "execute_result"
    }
   ],
   "source": [
    "df = pd.read_csv('2013_reg_data_exus.csv', index_col=0)\n",
    "df.head()"
   ]
  },
  {
   "cell_type": "code",
   "execution_count": 11,
   "metadata": {},
   "outputs": [
    {
     "data": {
      "text/html": [
       "<div style=\"max-height:1000px;max-width:1500px;overflow:auto;\">\n",
       "<table border=\"1\" class=\"dataframe\">\n",
       "  <thead>\n",
       "    <tr style=\"text-align: right;\">\n",
       "      <th></th>\n",
       "      <th>btc_dl</th>\n",
       "      <th>remitt_in_13</th>\n",
       "      <th>remitt_percentgdp_2013</th>\n",
       "      <th>gdp_13</th>\n",
       "      <th>mobile_phone_13</th>\n",
       "      <th>int_users_per100</th>\n",
       "      <th>inflation_13</th>\n",
       "      <th>blk_market_08</th>\n",
       "      <th>mig_to_OECD</th>\n",
       "      <th>population</th>\n",
       "    </tr>\n",
       "  </thead>\n",
       "  <tbody>\n",
       "    <tr>\n",
       "      <th>btc_dl</th>\n",
       "      <td> 1.000000</td>\n",
       "      <td> 0.579600</td>\n",
       "      <td>-0.147945</td>\n",
       "      <td> 0.878644</td>\n",
       "      <td> 0.047885</td>\n",
       "      <td> 0.195561</td>\n",
       "      <td>-0.074078</td>\n",
       "      <td>-0.302822</td>\n",
       "      <td> 0.502309</td>\n",
       "      <td> 0.682577</td>\n",
       "    </tr>\n",
       "    <tr>\n",
       "      <th>remitt_in_13</th>\n",
       "      <td> 0.579600</td>\n",
       "      <td> 1.000000</td>\n",
       "      <td> 0.016435</td>\n",
       "      <td> 0.621001</td>\n",
       "      <td>-0.066027</td>\n",
       "      <td> 0.020647</td>\n",
       "      <td> 0.018118</td>\n",
       "      <td>-0.165794</td>\n",
       "      <td> 0.819734</td>\n",
       "      <td> 0.884587</td>\n",
       "    </tr>\n",
       "    <tr>\n",
       "      <th>remitt_percentgdp_2013</th>\n",
       "      <td>-0.147945</td>\n",
       "      <td> 0.016435</td>\n",
       "      <td> 1.000000</td>\n",
       "      <td>-0.194611</td>\n",
       "      <td>-0.176453</td>\n",
       "      <td>-0.270712</td>\n",
       "      <td>-0.011016</td>\n",
       "      <td> 0.344945</td>\n",
       "      <td>-0.033919</td>\n",
       "      <td>-0.078873</td>\n",
       "    </tr>\n",
       "    <tr>\n",
       "      <th>gdp_13</th>\n",
       "      <td> 0.878644</td>\n",
       "      <td> 0.621001</td>\n",
       "      <td>-0.194611</td>\n",
       "      <td> 1.000000</td>\n",
       "      <td> 0.044856</td>\n",
       "      <td> 0.263609</td>\n",
       "      <td>-0.066395</td>\n",
       "      <td>-0.370806</td>\n",
       "      <td> 0.541135</td>\n",
       "      <td> 0.686491</td>\n",
       "    </tr>\n",
       "    <tr>\n",
       "      <th>mobile_phone_13</th>\n",
       "      <td> 0.047885</td>\n",
       "      <td>-0.066027</td>\n",
       "      <td>-0.176453</td>\n",
       "      <td> 0.044856</td>\n",
       "      <td> 1.000000</td>\n",
       "      <td> 0.544801</td>\n",
       "      <td>-0.229473</td>\n",
       "      <td>-0.301266</td>\n",
       "      <td>-0.057517</td>\n",
       "      <td>-0.089981</td>\n",
       "    </tr>\n",
       "    <tr>\n",
       "      <th>int_users_per100</th>\n",
       "      <td> 0.195561</td>\n",
       "      <td> 0.020647</td>\n",
       "      <td>-0.270712</td>\n",
       "      <td> 0.263609</td>\n",
       "      <td> 0.544801</td>\n",
       "      <td> 1.000000</td>\n",
       "      <td>-0.281443</td>\n",
       "      <td>-0.630864</td>\n",
       "      <td>-0.009039</td>\n",
       "      <td>-0.063552</td>\n",
       "    </tr>\n",
       "    <tr>\n",
       "      <th>inflation_13</th>\n",
       "      <td>-0.074078</td>\n",
       "      <td> 0.018118</td>\n",
       "      <td>-0.011016</td>\n",
       "      <td>-0.066395</td>\n",
       "      <td>-0.229473</td>\n",
       "      <td>-0.281443</td>\n",
       "      <td> 1.000000</td>\n",
       "      <td> 0.173653</td>\n",
       "      <td> 0.056739</td>\n",
       "      <td> 0.084086</td>\n",
       "    </tr>\n",
       "    <tr>\n",
       "      <th>blk_market_08</th>\n",
       "      <td>-0.302822</td>\n",
       "      <td>-0.165794</td>\n",
       "      <td> 0.344945</td>\n",
       "      <td>-0.370806</td>\n",
       "      <td>-0.301266</td>\n",
       "      <td>-0.630864</td>\n",
       "      <td> 0.173653</td>\n",
       "      <td> 1.000000</td>\n",
       "      <td>-0.088846</td>\n",
       "      <td>-0.163241</td>\n",
       "    </tr>\n",
       "    <tr>\n",
       "      <th>mig_to_OECD</th>\n",
       "      <td> 0.502309</td>\n",
       "      <td> 0.819734</td>\n",
       "      <td>-0.033919</td>\n",
       "      <td> 0.541135</td>\n",
       "      <td>-0.057517</td>\n",
       "      <td>-0.009039</td>\n",
       "      <td> 0.056739</td>\n",
       "      <td>-0.088846</td>\n",
       "      <td> 1.000000</td>\n",
       "      <td> 0.717064</td>\n",
       "    </tr>\n",
       "    <tr>\n",
       "      <th>population</th>\n",
       "      <td> 0.682577</td>\n",
       "      <td> 0.884587</td>\n",
       "      <td>-0.078873</td>\n",
       "      <td> 0.686491</td>\n",
       "      <td>-0.089981</td>\n",
       "      <td>-0.063552</td>\n",
       "      <td> 0.084086</td>\n",
       "      <td>-0.163241</td>\n",
       "      <td> 0.717064</td>\n",
       "      <td> 1.000000</td>\n",
       "    </tr>\n",
       "  </tbody>\n",
       "</table>\n",
       "</div>"
      ],
      "text/plain": [
       "                          btc_dl  remitt_in_13  remitt_percentgdp_2013  \\\n",
       "btc_dl                  1.000000      0.579600               -0.147945   \n",
       "remitt_in_13            0.579600      1.000000                0.016435   \n",
       "remitt_percentgdp_2013 -0.147945      0.016435                1.000000   \n",
       "gdp_13                  0.878644      0.621001               -0.194611   \n",
       "mobile_phone_13         0.047885     -0.066027               -0.176453   \n",
       "int_users_per100        0.195561      0.020647               -0.270712   \n",
       "inflation_13           -0.074078      0.018118               -0.011016   \n",
       "blk_market_08          -0.302822     -0.165794                0.344945   \n",
       "mig_to_OECD             0.502309      0.819734               -0.033919   \n",
       "population              0.682577      0.884587               -0.078873   \n",
       "\n",
       "                          gdp_13  mobile_phone_13  int_users_per100  \\\n",
       "btc_dl                  0.878644         0.047885          0.195561   \n",
       "remitt_in_13            0.621001        -0.066027          0.020647   \n",
       "remitt_percentgdp_2013 -0.194611        -0.176453         -0.270712   \n",
       "gdp_13                  1.000000         0.044856          0.263609   \n",
       "mobile_phone_13         0.044856         1.000000          0.544801   \n",
       "int_users_per100        0.263609         0.544801          1.000000   \n",
       "inflation_13           -0.066395        -0.229473         -0.281443   \n",
       "blk_market_08          -0.370806        -0.301266         -0.630864   \n",
       "mig_to_OECD             0.541135        -0.057517         -0.009039   \n",
       "population              0.686491        -0.089981         -0.063552   \n",
       "\n",
       "                        inflation_13  blk_market_08  mig_to_OECD  population  \n",
       "btc_dl                     -0.074078      -0.302822     0.502309    0.682577  \n",
       "remitt_in_13                0.018118      -0.165794     0.819734    0.884587  \n",
       "remitt_percentgdp_2013     -0.011016       0.344945    -0.033919   -0.078873  \n",
       "gdp_13                     -0.066395      -0.370806     0.541135    0.686491  \n",
       "mobile_phone_13            -0.229473      -0.301266    -0.057517   -0.089981  \n",
       "int_users_per100           -0.281443      -0.630864    -0.009039   -0.063552  \n",
       "inflation_13                1.000000       0.173653     0.056739    0.084086  \n",
       "blk_market_08               0.173653       1.000000    -0.088846   -0.163241  \n",
       "mig_to_OECD                 0.056739      -0.088846     1.000000    0.717064  \n",
       "population                  0.084086      -0.163241     0.717064    1.000000  "
      ]
     },
     "execution_count": 11,
     "metadata": {},
     "output_type": "execute_result"
    }
   ],
   "source": [
    "df.corr()"
   ]
  },
  {
   "cell_type": "code",
   "execution_count": 12,
   "metadata": {},
   "outputs": [],
   "source": [
    "df['log_btc_dl'] = np.log(df.btc_dl)\n",
    "df['log_remitt_in_13'] = np.log(df.remitt_in_13)"
   ]
  },
  {
   "cell_type": "code",
   "execution_count": 13,
   "metadata": {},
   "outputs": [],
   "source": [
    "y = df.log_btc_dl\n",
    "x = df.log_remitt_in_13\n",
    "x = sm.add_constant(x)"
   ]
  },
  {
   "cell_type": "markdown",
   "metadata": {},
   "source": [
    "    OLS Regression 1:\n",
    "    Dependent = log of Bitcoin Software Downloads\n",
    "    Inedpendent = Log of 2013 incoming remittances"
   ]
  },
  {
   "cell_type": "code",
   "execution_count": 14,
   "metadata": {
    "scrolled": true
   },
   "outputs": [
    {
     "name": "stdout",
     "output_type": "stream",
     "text": [
      "                            OLS Regression Results                            \n",
      "==============================================================================\n",
      "Dep. Variable:             log_btc_dl   R-squared:                       0.400\n",
      "Model:                            OLS   Adj. R-squared:                  0.396\n",
      "Method:                 Least Squares   F-statistic:                     110.7\n",
      "Date:                Mon, 18 May 2015   Prob (F-statistic):           3.69e-20\n",
      "Time:                        13:25:39   Log-Likelihood:                -367.88\n",
      "No. Observations:                 168   AIC:                             739.8\n",
      "Df Residuals:                     166   BIC:                             746.0\n",
      "Df Model:                           1                                         \n",
      "====================================================================================\n",
      "                       coef    std err          t      P>|t|      [95.0% Conf. Int.]\n",
      "------------------------------------------------------------------------------------\n",
      "const                1.5049      0.523      2.877      0.005         0.472     2.538\n",
      "log_remitt_in_13     0.8148      0.077     10.522      0.000         0.662     0.968\n",
      "==============================================================================\n",
      "Omnibus:                        3.729   Durbin-Watson:                   1.033\n",
      "Prob(Omnibus):                  0.155   Jarque-Bera (JB):                3.316\n",
      "Skew:                           0.266   Prob(JB):                        0.190\n",
      "Kurtosis:                       3.436   Cond. No.                         21.5\n",
      "==============================================================================\n"
     ]
    }
   ],
   "source": [
    "est1 = sm.OLS(y, x, missing='drop')\n",
    "est1 = est1.fit()\n",
    "print est1.summary()"
   ]
  },
  {
   "cell_type": "code",
   "execution_count": 15,
   "metadata": {
    "collapsed": true
   },
   "outputs": [],
   "source": [
    "df['log_gdp_13'] = np.log(df.gdp_13)"
   ]
  },
  {
   "cell_type": "code",
   "execution_count": 16,
   "metadata": {},
   "outputs": [],
   "source": [
    "x1 = df[['log_gdp_13', 'log_remitt_in_13']]\n",
    "x1 = sm.add_constant(x1)"
   ]
  },
  {
   "cell_type": "markdown",
   "metadata": {},
   "source": [
    "    OLS Regression 2:\n",
    "    Dependent = log of Bitcoin Software Downloads\n",
    "    Inedpendent = Log of 2013 incoming remittances, log of 2013 GDP"
   ]
  },
  {
   "cell_type": "code",
   "execution_count": 17,
   "metadata": {},
   "outputs": [
    {
     "name": "stdout",
     "output_type": "stream",
     "text": [
      "                            OLS Regression Results                            \n",
      "==============================================================================\n",
      "Dep. Variable:             log_btc_dl   R-squared:                       0.794\n",
      "Model:                            OLS   Adj. R-squared:                  0.791\n",
      "Method:                 Least Squares   F-statistic:                     302.1\n",
      "Date:                Mon, 18 May 2015   Prob (F-statistic):           1.52e-54\n",
      "Time:                        13:25:43   Log-Likelihood:                -265.58\n",
      "No. Observations:                 160   AIC:                             537.2\n",
      "Df Residuals:                     157   BIC:                             546.4\n",
      "Df Model:                           2                                         \n",
      "====================================================================================\n",
      "                       coef    std err          t      P>|t|      [95.0% Conf. Int.]\n",
      "------------------------------------------------------------------------------------\n",
      "const               -4.7921      0.486     -9.857      0.000        -5.752    -3.832\n",
      "log_gdp_13           0.9869      0.057     17.236      0.000         0.874     1.100\n",
      "log_remitt_in_13     0.1687      0.060      2.809      0.006         0.050     0.287\n",
      "==============================================================================\n",
      "Omnibus:                        5.795   Durbin-Watson:                   1.633\n",
      "Prob(Omnibus):                  0.055   Jarque-Bera (JB):                3.844\n",
      "Skew:                          -0.219   Prob(JB):                        0.146\n",
      "Kurtosis:                       2.380   Cond. No.                         61.6\n",
      "==============================================================================\n"
     ]
    }
   ],
   "source": [
    "est2 = sm.OLS(y, x1, missing='drop')\n",
    "est2 = est2.fit()\n",
    "print est2.summary()"
   ]
  },
  {
   "cell_type": "code",
   "execution_count": 18,
   "metadata": {
    "collapsed": true
   },
   "outputs": [],
   "source": [
    "x2 = df[['log_gdp_13', 'log_remitt_in_13', 'inflation_13', 'mobile_phone_13']]\n",
    "x2 = sm.add_constant(x2)"
   ]
  },
  {
   "cell_type": "markdown",
   "metadata": {},
   "source": [
    "    OLS Regression 3:\n",
    "    Dependent = log of Bitcoin Software Downloads\n",
    "    Independent = Log of 2013 incoming remittances, log of 2013 GDP, rate of 2013 inflation, mobile phone penetration"
   ]
  },
  {
   "cell_type": "code",
   "execution_count": 19,
   "metadata": {
    "scrolled": false
   },
   "outputs": [
    {
     "name": "stdout",
     "output_type": "stream",
     "text": [
      "                            OLS Regression Results                            \n",
      "==============================================================================\n",
      "Dep. Variable:             log_btc_dl   R-squared:                       0.840\n",
      "Model:                            OLS   Adj. R-squared:                  0.835\n",
      "Method:                 Least Squares   F-statistic:                     190.0\n",
      "Date:                Mon, 18 May 2015   Prob (F-statistic):           1.37e-56\n",
      "Time:                        13:25:45   Log-Likelihood:                -225.57\n",
      "No. Observations:                 150   AIC:                             461.1\n",
      "Df Residuals:                     145   BIC:                             476.2\n",
      "Df Model:                           4                                         \n",
      "====================================================================================\n",
      "                       coef    std err          t      P>|t|      [95.0% Conf. Int.]\n",
      "------------------------------------------------------------------------------------\n",
      "const               -5.1908      0.475    -10.939      0.000        -6.129    -4.253\n",
      "log_gdp_13           0.8748      0.056     15.733      0.000         0.765     0.985\n",
      "log_remitt_in_13     0.2170      0.054      3.987      0.000         0.109     0.325\n",
      "inflation_13        -0.0407      0.016     -2.555      0.012        -0.072    -0.009\n",
      "mobile_phone_13      0.0138      0.002      5.618      0.000         0.009     0.019\n",
      "==============================================================================\n",
      "Omnibus:                        2.645   Durbin-Watson:                   1.708\n",
      "Prob(Omnibus):                  0.266   Jarque-Bera (JB):                2.040\n",
      "Skew:                          -0.130   Prob(JB):                        0.361\n",
      "Kurtosis:                       2.491   Cond. No.                         609.\n",
      "==============================================================================\n"
     ]
    }
   ],
   "source": [
    "est3 = sm.OLS(y, x2, missing='drop')\n",
    "est3 = est3.fit()\n",
    "print est3.summary()"
   ]
  },
  {
   "cell_type": "code",
   "execution_count": 20,
   "metadata": {
    "collapsed": true
   },
   "outputs": [],
   "source": [
    "x3 = df[['log_gdp_13', 'log_remitt_in_13', 'inflation_13', 'blk_market_08', 'mobile_phone_13']]\n",
    "x3 = sm.add_constant(x3)"
   ]
  },
  {
   "cell_type": "markdown",
   "metadata": {},
   "source": [
    "    OLS Regression 4:\n",
    "    Dependent = log of Bitcoin Software Downloads\n",
    "    Inedpendent = Log of 2013 incoming remittances, log of 2013 GDP, rate of 2013 inflation, mobile phone penetration,\n",
    "    size of black market economy "
   ]
  },
  {
   "cell_type": "code",
   "execution_count": 21,
   "metadata": {},
   "outputs": [
    {
     "name": "stdout",
     "output_type": "stream",
     "text": [
      "                            OLS Regression Results                            \n",
      "==============================================================================\n",
      "Dep. Variable:             log_btc_dl   R-squared:                       0.841\n",
      "Model:                            OLS   Adj. R-squared:                  0.833\n",
      "Method:                 Least Squares   F-statistic:                     119.1\n",
      "Date:                Mon, 18 May 2015   Prob (F-statistic):           2.31e-43\n",
      "Time:                        13:25:46   Log-Likelihood:                -172.28\n",
      "No. Observations:                 119   AIC:                             356.6\n",
      "Df Residuals:                     113   BIC:                             373.2\n",
      "Df Model:                           5                                         \n",
      "====================================================================================\n",
      "                       coef    std err          t      P>|t|      [95.0% Conf. Int.]\n",
      "------------------------------------------------------------------------------------\n",
      "const               -4.7463      0.873     -5.439      0.000        -6.475    -3.017\n",
      "log_gdp_13           0.8726      0.073     12.028      0.000         0.729     1.016\n",
      "log_remitt_in_13     0.2017      0.058      3.459      0.001         0.086     0.317\n",
      "inflation_13        -0.0386      0.023     -1.654      0.101        -0.085     0.008\n",
      "blk_market_08       -0.0126      0.010     -1.298      0.197        -0.032     0.007\n",
      "mobile_phone_13      0.0147      0.003      4.761      0.000         0.009     0.021\n",
      "==============================================================================\n",
      "Omnibus:                        0.178   Durbin-Watson:                   1.887\n",
      "Prob(Omnibus):                  0.915   Jarque-Bera (JB):                0.104\n",
      "Skew:                          -0.072   Prob(JB):                        0.950\n",
      "Kurtosis:                       2.982   Cond. No.                     1.06e+03\n",
      "==============================================================================\n",
      "\n",
      "Warnings:\n",
      "[1] The condition number is large, 1.06e+03. This might indicate that there are\n",
      "strong multicollinearity or other numerical problems.\n"
     ]
    }
   ],
   "source": [
    "est4 = sm.OLS(y, x3, missing='drop')\n",
    "est4 = est4.fit()\n",
    "print est4.summary()"
   ]
  },
  {
   "cell_type": "code",
   "execution_count": 22,
   "metadata": {
    "collapsed": true
   },
   "outputs": [],
   "source": [
    "x4 = df[['log_gdp_13', 'log_remitt_in_13', 'inflation_13', 'blk_market_08', 'mobile_phone_13', 'mig_to_OECD']]\n",
    "x4 = sm.add_constant(x4)"
   ]
  },
  {
   "cell_type": "markdown",
   "metadata": {},
   "source": [
    "    OLS Regression 5:\n",
    "    Dependent = log of Bitcoin Software Downloads\n",
    "    Inedpendent = Log of 2013 incoming remittances, log of 2013 GDP, rate of 2013 inflation, mobile phone penetration,\n",
    "    size of black market economy, migration to OECD countries "
   ]
  },
  {
   "cell_type": "code",
   "execution_count": 23,
   "metadata": {},
   "outputs": [
    {
     "name": "stdout",
     "output_type": "stream",
     "text": [
      "                            OLS Regression Results                            \n",
      "==============================================================================\n",
      "Dep. Variable:             log_btc_dl   R-squared:                       0.842\n",
      "Model:                            OLS   Adj. R-squared:                  0.834\n",
      "Method:                 Least Squares   F-statistic:                     97.90\n",
      "Date:                Mon, 18 May 2015   Prob (F-statistic):           8.74e-42\n",
      "Time:                        13:25:48   Log-Likelihood:                -169.69\n",
      "No. Observations:                 117   AIC:                             353.4\n",
      "Df Residuals:                     110   BIC:                             372.7\n",
      "Df Model:                           6                                         \n",
      "====================================================================================\n",
      "                       coef    std err          t      P>|t|      [95.0% Conf. Int.]\n",
      "------------------------------------------------------------------------------------\n",
      "const               -4.9739      0.929     -5.352      0.000        -6.816    -3.132\n",
      "log_gdp_13           0.8912      0.077     11.501      0.000         0.738     1.045\n",
      "log_remitt_in_13     0.2044      0.062      3.324      0.001         0.083     0.326\n",
      "inflation_13        -0.0349      0.024     -1.469      0.145        -0.082     0.012\n",
      "blk_market_08       -0.0120      0.010     -1.221      0.225        -0.031     0.007\n",
      "mobile_phone_13      0.0145      0.003      4.542      0.000         0.008     0.021\n",
      "mig_to_OECD      -1.784e-07   4.06e-07     -0.439      0.662     -9.84e-07  6.27e-07\n",
      "==============================================================================\n",
      "Omnibus:                        0.142   Durbin-Watson:                   1.896\n",
      "Prob(Omnibus):                  0.932   Jarque-Bera (JB):                0.095\n",
      "Skew:                          -0.067   Prob(JB):                        0.954\n",
      "Kurtosis:                       2.962   Cond. No.                     3.17e+06\n",
      "==============================================================================\n",
      "\n",
      "Warnings:\n",
      "[1] The condition number is large, 3.17e+06. This might indicate that there are\n",
      "strong multicollinearity or other numerical problems.\n"
     ]
    }
   ],
   "source": [
    "est5 = sm.OLS(y, x4, missing='drop')\n",
    "est5 = est5.fit()\n",
    "print est5.summary()"
   ]
  },
  {
   "cell_type": "code",
   "execution_count": null,
   "metadata": {
    "collapsed": true
   },
   "outputs": [],
   "source": []
  },
  {
   "cell_type": "code",
   "execution_count": null,
   "metadata": {
    "collapsed": true
   },
   "outputs": [],
   "source": []
  },
  {
   "cell_type": "code",
   "execution_count": null,
   "metadata": {
    "collapsed": true
   },
   "outputs": [],
   "source": []
  }
 ],
 "metadata": {
  "kernelspec": {
   "display_name": "Python 3",
   "language": "python",
   "name": "python3"
  },
  "language_info": {
   "codemirror_mode": {
    "name": "ipython",
    "version": 3
   },
   "file_extension": ".py",
   "mimetype": "text/x-python",
   "name": "python",
   "nbconvert_exporter": "python",
   "pygments_lexer": "ipython3",
   "version": "3.6.5"
  }
 },
 "nbformat": 4,
 "nbformat_minor": 1
}
