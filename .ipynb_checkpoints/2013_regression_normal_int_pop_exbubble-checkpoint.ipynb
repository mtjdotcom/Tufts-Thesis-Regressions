{
 "cells": [
  {
   "cell_type": "markdown",
   "metadata": {},
   "source": [
    "## 2013 Data: Regression excluding BTC bubble"
   ]
  },
  {
   "cell_type": "code",
   "execution_count": 1,
   "metadata": {},
   "outputs": [],
   "source": [
    "import numpy as np\n",
    "import pandas as pd\n",
    "import statsmodels.api as sm"
   ]
  },
  {
   "cell_type": "code",
   "execution_count": 2,
   "metadata": {},
   "outputs": [
    {
     "data": {
      "text/html": [
       "<div>\n",
       "<style scoped>\n",
       "    .dataframe tbody tr th:only-of-type {\n",
       "        vertical-align: middle;\n",
       "    }\n",
       "\n",
       "    .dataframe tbody tr th {\n",
       "        vertical-align: top;\n",
       "    }\n",
       "\n",
       "    .dataframe thead th {\n",
       "        text-align: right;\n",
       "    }\n",
       "</style>\n",
       "<table border=\"1\" class=\"dataframe\">\n",
       "  <thead>\n",
       "    <tr style=\"text-align: right;\">\n",
       "      <th></th>\n",
       "      <th>btc_dl</th>\n",
       "      <th>btc_by_int_users</th>\n",
       "      <th>remitt_in_13</th>\n",
       "      <th>remitt_percentgdp_2013</th>\n",
       "      <th>gdp_13</th>\n",
       "      <th>mobile_phone_13</th>\n",
       "      <th>int_users_per100</th>\n",
       "      <th>inflation_13</th>\n",
       "      <th>blk_market_08</th>\n",
       "      <th>mig_to_OECD</th>\n",
       "      <th>population</th>\n",
       "    </tr>\n",
       "  </thead>\n",
       "  <tbody>\n",
       "    <tr>\n",
       "      <th>Malawi</th>\n",
       "      <td>15</td>\n",
       "      <td>0.810</td>\n",
       "      <td>29.7</td>\n",
       "      <td>0.8</td>\n",
       "      <td>3705.4</td>\n",
       "      <td>32.3</td>\n",
       "      <td>5.4</td>\n",
       "      <td>27.3</td>\n",
       "      <td>39.7</td>\n",
       "      <td>5389.0</td>\n",
       "      <td>16362567</td>\n",
       "    </tr>\n",
       "    <tr>\n",
       "      <th>Guinea</th>\n",
       "      <td>14</td>\n",
       "      <td>0.224</td>\n",
       "      <td>94.8</td>\n",
       "      <td>1.5</td>\n",
       "      <td>6144.1</td>\n",
       "      <td>63.3</td>\n",
       "      <td>1.6</td>\n",
       "      <td>11.9</td>\n",
       "      <td>38.5</td>\n",
       "      <td>59448.0</td>\n",
       "      <td>11745189</td>\n",
       "    </tr>\n",
       "    <tr>\n",
       "      <th>Sierra Leone</th>\n",
       "      <td>9</td>\n",
       "      <td>0.153</td>\n",
       "      <td>104.5</td>\n",
       "      <td>2.5</td>\n",
       "      <td>4136.3</td>\n",
       "      <td>44.1</td>\n",
       "      <td>1.7</td>\n",
       "      <td>10.3</td>\n",
       "      <td>39.2</td>\n",
       "      <td>324.0</td>\n",
       "      <td>6092075</td>\n",
       "    </tr>\n",
       "    <tr>\n",
       "      <th>Niger</th>\n",
       "      <td>2</td>\n",
       "      <td>0.034</td>\n",
       "      <td>156.8</td>\n",
       "      <td>2.1</td>\n",
       "      <td>7407.4</td>\n",
       "      <td>39.3</td>\n",
       "      <td>1.7</td>\n",
       "      <td>2.3</td>\n",
       "      <td>37.1</td>\n",
       "      <td>5323.0</td>\n",
       "      <td>17831270</td>\n",
       "    </tr>\n",
       "    <tr>\n",
       "      <th>Burundi</th>\n",
       "      <td>2</td>\n",
       "      <td>0.026</td>\n",
       "      <td>50.8</td>\n",
       "      <td>1.9</td>\n",
       "      <td>2714.5</td>\n",
       "      <td>25.0</td>\n",
       "      <td>1.3</td>\n",
       "      <td>8.0</td>\n",
       "      <td>39.4</td>\n",
       "      <td>NaN</td>\n",
       "      <td>10162532</td>\n",
       "    </tr>\n",
       "  </tbody>\n",
       "</table>\n",
       "</div>"
      ],
      "text/plain": [
       "              btc_dl  btc_by_int_users  remitt_in_13  remitt_percentgdp_2013  \\\n",
       "Malawi            15             0.810          29.7                     0.8   \n",
       "Guinea            14             0.224          94.8                     1.5   \n",
       "Sierra Leone       9             0.153         104.5                     2.5   \n",
       "Niger              2             0.034         156.8                     2.1   \n",
       "Burundi            2             0.026          50.8                     1.9   \n",
       "\n",
       "              gdp_13  mobile_phone_13  int_users_per100  inflation_13  \\\n",
       "Malawi        3705.4             32.3               5.4          27.3   \n",
       "Guinea        6144.1             63.3               1.6          11.9   \n",
       "Sierra Leone  4136.3             44.1               1.7          10.3   \n",
       "Niger         7407.4             39.3               1.7           2.3   \n",
       "Burundi       2714.5             25.0               1.3           8.0   \n",
       "\n",
       "              blk_market_08  mig_to_OECD  population  \n",
       "Malawi                 39.7       5389.0    16362567  \n",
       "Guinea                 38.5      59448.0    11745189  \n",
       "Sierra Leone           39.2        324.0     6092075  \n",
       "Niger                  37.1       5323.0    17831270  \n",
       "Burundi                39.4          NaN    10162532  "
      ]
     },
     "execution_count": 2,
     "metadata": {},
     "output_type": "execute_result"
    }
   ],
   "source": [
    "df = pd.read_csv('data/refined_data/2013_reg_data_by_intusers_exbubble.csv', index_col=0)\n",
    "df.tail()"
   ]
  },
  {
   "cell_type": "code",
   "execution_count": 6,
   "metadata": {
    "scrolled": true
   },
   "outputs": [
    {
     "data": {
      "text/html": [
       "<div>\n",
       "<table border=\"1\" class=\"dataframe\">\n",
       "  <thead>\n",
       "    <tr style=\"text-align: right;\">\n",
       "      <th></th>\n",
       "      <th>btc_dl</th>\n",
       "      <th>btc_by_int_users</th>\n",
       "      <th>remitt_in_13</th>\n",
       "      <th>remitt_percentgdp_2013</th>\n",
       "      <th>gdp_13</th>\n",
       "      <th>mobile_phone_13</th>\n",
       "      <th>int_users_per100</th>\n",
       "      <th>inflation_13</th>\n",
       "      <th>blk_market_08</th>\n",
       "      <th>mig_to_OECD</th>\n",
       "      <th>population</th>\n",
       "    </tr>\n",
       "  </thead>\n",
       "  <tbody>\n",
       "    <tr>\n",
       "      <th>btc_dl</th>\n",
       "      <td>1.000000</td>\n",
       "      <td>0.970317</td>\n",
       "      <td>0.384715</td>\n",
       "      <td>-0.140099</td>\n",
       "      <td>0.953091</td>\n",
       "      <td>0.017467</td>\n",
       "      <td>0.216104</td>\n",
       "      <td>-0.082444</td>\n",
       "      <td>-0.319616</td>\n",
       "      <td>0.543453</td>\n",
       "      <td>0.530798</td>\n",
       "    </tr>\n",
       "    <tr>\n",
       "      <th>btc_by_int_users</th>\n",
       "      <td>0.970317</td>\n",
       "      <td>1.000000</td>\n",
       "      <td>0.251645</td>\n",
       "      <td>-0.137398</td>\n",
       "      <td>0.944049</td>\n",
       "      <td>0.019107</td>\n",
       "      <td>0.241390</td>\n",
       "      <td>-0.088464</td>\n",
       "      <td>-0.322541</td>\n",
       "      <td>0.468788</td>\n",
       "      <td>0.377238</td>\n",
       "    </tr>\n",
       "    <tr>\n",
       "      <th>remitt_in_13</th>\n",
       "      <td>0.384715</td>\n",
       "      <td>0.251645</td>\n",
       "      <td>1.000000</td>\n",
       "      <td>0.014801</td>\n",
       "      <td>0.399371</td>\n",
       "      <td>-0.066677</td>\n",
       "      <td>0.024002</td>\n",
       "      <td>0.016776</td>\n",
       "      <td>-0.167640</td>\n",
       "      <td>0.784950</td>\n",
       "      <td>0.879295</td>\n",
       "    </tr>\n",
       "    <tr>\n",
       "      <th>remitt_percentgdp_2013</th>\n",
       "      <td>-0.140099</td>\n",
       "      <td>-0.137398</td>\n",
       "      <td>0.014801</td>\n",
       "      <td>1.000000</td>\n",
       "      <td>-0.160074</td>\n",
       "      <td>-0.174833</td>\n",
       "      <td>-0.274722</td>\n",
       "      <td>-0.008595</td>\n",
       "      <td>0.349203</td>\n",
       "      <td>-0.054243</td>\n",
       "      <td>-0.085678</td>\n",
       "    </tr>\n",
       "    <tr>\n",
       "      <th>gdp_13</th>\n",
       "      <td>0.953091</td>\n",
       "      <td>0.944049</td>\n",
       "      <td>0.399371</td>\n",
       "      <td>-0.160074</td>\n",
       "      <td>1.000000</td>\n",
       "      <td>0.007184</td>\n",
       "      <td>0.247249</td>\n",
       "      <td>-0.073240</td>\n",
       "      <td>-0.346180</td>\n",
       "      <td>0.562556</td>\n",
       "      <td>0.527491</td>\n",
       "    </tr>\n",
       "    <tr>\n",
       "      <th>mobile_phone_13</th>\n",
       "      <td>0.017467</td>\n",
       "      <td>0.019107</td>\n",
       "      <td>-0.066677</td>\n",
       "      <td>-0.174833</td>\n",
       "      <td>0.007184</td>\n",
       "      <td>1.000000</td>\n",
       "      <td>0.539561</td>\n",
       "      <td>-0.228284</td>\n",
       "      <td>-0.292529</td>\n",
       "      <td>-0.060701</td>\n",
       "      <td>-0.091994</td>\n",
       "    </tr>\n",
       "    <tr>\n",
       "      <th>int_users_per100</th>\n",
       "      <td>0.216104</td>\n",
       "      <td>0.241390</td>\n",
       "      <td>0.024002</td>\n",
       "      <td>-0.274722</td>\n",
       "      <td>0.247249</td>\n",
       "      <td>0.539561</td>\n",
       "      <td>1.000000</td>\n",
       "      <td>-0.284016</td>\n",
       "      <td>-0.637463</td>\n",
       "      <td>0.035508</td>\n",
       "      <td>-0.047118</td>\n",
       "    </tr>\n",
       "    <tr>\n",
       "      <th>inflation_13</th>\n",
       "      <td>-0.082444</td>\n",
       "      <td>-0.088464</td>\n",
       "      <td>0.016776</td>\n",
       "      <td>-0.008595</td>\n",
       "      <td>-0.073240</td>\n",
       "      <td>-0.228284</td>\n",
       "      <td>-0.284016</td>\n",
       "      <td>1.000000</td>\n",
       "      <td>0.179728</td>\n",
       "      <td>0.039009</td>\n",
       "      <td>0.077172</td>\n",
       "    </tr>\n",
       "    <tr>\n",
       "      <th>blk_market_08</th>\n",
       "      <td>-0.319616</td>\n",
       "      <td>-0.322541</td>\n",
       "      <td>-0.167640</td>\n",
       "      <td>0.349203</td>\n",
       "      <td>-0.346180</td>\n",
       "      <td>-0.292529</td>\n",
       "      <td>-0.637463</td>\n",
       "      <td>0.179728</td>\n",
       "      <td>1.000000</td>\n",
       "      <td>-0.136893</td>\n",
       "      <td>-0.182370</td>\n",
       "    </tr>\n",
       "    <tr>\n",
       "      <th>mig_to_OECD</th>\n",
       "      <td>0.543453</td>\n",
       "      <td>0.468788</td>\n",
       "      <td>0.784950</td>\n",
       "      <td>-0.054243</td>\n",
       "      <td>0.562556</td>\n",
       "      <td>-0.060701</td>\n",
       "      <td>0.035508</td>\n",
       "      <td>0.039009</td>\n",
       "      <td>-0.136893</td>\n",
       "      <td>1.000000</td>\n",
       "      <td>0.718358</td>\n",
       "    </tr>\n",
       "    <tr>\n",
       "      <th>population</th>\n",
       "      <td>0.530798</td>\n",
       "      <td>0.377238</td>\n",
       "      <td>0.879295</td>\n",
       "      <td>-0.085678</td>\n",
       "      <td>0.527491</td>\n",
       "      <td>-0.091994</td>\n",
       "      <td>-0.047118</td>\n",
       "      <td>0.077172</td>\n",
       "      <td>-0.182370</td>\n",
       "      <td>0.718358</td>\n",
       "      <td>1.000000</td>\n",
       "    </tr>\n",
       "  </tbody>\n",
       "</table>\n",
       "</div>"
      ],
      "text/plain": [
       "                          btc_dl  btc_by_int_users  remitt_in_13  \\\n",
       "btc_dl                  1.000000          0.970317      0.384715   \n",
       "btc_by_int_users        0.970317          1.000000      0.251645   \n",
       "remitt_in_13            0.384715          0.251645      1.000000   \n",
       "remitt_percentgdp_2013 -0.140099         -0.137398      0.014801   \n",
       "gdp_13                  0.953091          0.944049      0.399371   \n",
       "mobile_phone_13         0.017467          0.019107     -0.066677   \n",
       "int_users_per100        0.216104          0.241390      0.024002   \n",
       "inflation_13           -0.082444         -0.088464      0.016776   \n",
       "blk_market_08          -0.319616         -0.322541     -0.167640   \n",
       "mig_to_OECD             0.543453          0.468788      0.784950   \n",
       "population              0.530798          0.377238      0.879295   \n",
       "\n",
       "                        remitt_percentgdp_2013    gdp_13  mobile_phone_13  \\\n",
       "btc_dl                               -0.140099  0.953091         0.017467   \n",
       "btc_by_int_users                     -0.137398  0.944049         0.019107   \n",
       "remitt_in_13                          0.014801  0.399371        -0.066677   \n",
       "remitt_percentgdp_2013                1.000000 -0.160074        -0.174833   \n",
       "gdp_13                               -0.160074  1.000000         0.007184   \n",
       "mobile_phone_13                      -0.174833  0.007184         1.000000   \n",
       "int_users_per100                     -0.274722  0.247249         0.539561   \n",
       "inflation_13                         -0.008595 -0.073240        -0.228284   \n",
       "blk_market_08                         0.349203 -0.346180        -0.292529   \n",
       "mig_to_OECD                          -0.054243  0.562556        -0.060701   \n",
       "population                           -0.085678  0.527491        -0.091994   \n",
       "\n",
       "                        int_users_per100  inflation_13  blk_market_08  \\\n",
       "btc_dl                          0.216104     -0.082444      -0.319616   \n",
       "btc_by_int_users                0.241390     -0.088464      -0.322541   \n",
       "remitt_in_13                    0.024002      0.016776      -0.167640   \n",
       "remitt_percentgdp_2013         -0.274722     -0.008595       0.349203   \n",
       "gdp_13                          0.247249     -0.073240      -0.346180   \n",
       "mobile_phone_13                 0.539561     -0.228284      -0.292529   \n",
       "int_users_per100                1.000000     -0.284016      -0.637463   \n",
       "inflation_13                   -0.284016      1.000000       0.179728   \n",
       "blk_market_08                  -0.637463      0.179728       1.000000   \n",
       "mig_to_OECD                     0.035508      0.039009      -0.136893   \n",
       "population                     -0.047118      0.077172      -0.182370   \n",
       "\n",
       "                        mig_to_OECD  population  \n",
       "btc_dl                     0.543453    0.530798  \n",
       "btc_by_int_users           0.468788    0.377238  \n",
       "remitt_in_13               0.784950    0.879295  \n",
       "remitt_percentgdp_2013    -0.054243   -0.085678  \n",
       "gdp_13                     0.562556    0.527491  \n",
       "mobile_phone_13           -0.060701   -0.091994  \n",
       "int_users_per100           0.035508   -0.047118  \n",
       "inflation_13               0.039009    0.077172  \n",
       "blk_market_08             -0.136893   -0.182370  \n",
       "mig_to_OECD                1.000000    0.718358  \n",
       "population                 0.718358    1.000000  "
      ]
     },
     "execution_count": 6,
     "metadata": {},
     "output_type": "execute_result"
    }
   ],
   "source": [
    "df.corr()"
   ]
  },
  {
   "cell_type": "code",
   "execution_count": 7,
   "metadata": {},
   "outputs": [],
   "source": [
    "df['log_btc_dl'] = np.log(df.btc_dl)\n",
    "df['log_remitt_in_13'] = np.log(df.remitt_in_13)\n",
    "df['log_btc_by_int_users'] = np.log(df.btc_by_int_users)"
   ]
  },
  {
   "cell_type": "code",
   "execution_count": 8,
   "metadata": {},
   "outputs": [],
   "source": [
    "y = df.log_btc_by_int_users\n",
    "x = df.log_remitt_in_13\n",
    "x = sm.add_constant(x)"
   ]
  },
  {
   "cell_type": "markdown",
   "metadata": {},
   "source": [
    "    OLS Regression 1:\n",
    "    Dependent = log of Bitcoin Software Downloads\n",
    "    Inedpendent = Log of 2013 incoming remittances"
   ]
  },
  {
   "cell_type": "code",
   "execution_count": 9,
   "metadata": {},
   "outputs": [
    {
     "name": "stdout",
     "output_type": "stream",
     "text": [
      "                             OLS Regression Results                             \n",
      "================================================================================\n",
      "Dep. Variable:     log_btc_by_int_users   R-squared:                       0.330\n",
      "Model:                              OLS   Adj. R-squared:                  0.326\n",
      "Method:                   Least Squares   F-statistic:                     82.21\n",
      "Date:                  Mon, 06 Jul 2015   Prob (F-statistic):           3.23e-16\n",
      "Time:                          22:22:44   Log-Likelihood:                -423.18\n",
      "No. Observations:                   169   AIC:                             850.4\n",
      "Df Residuals:                       167   BIC:                             856.6\n",
      "Df Model:                             1                                         \n",
      "Covariance Type:              nonrobust                                         \n",
      "====================================================================================\n",
      "                       coef    std err          t      P>|t|      [95.0% Conf. Int.]\n",
      "------------------------------------------------------------------------------------\n",
      "const               -0.7532      0.715     -1.054      0.294        -2.165     0.658\n",
      "log_remitt_in_13     0.9577      0.106      9.067      0.000         0.749     1.166\n",
      "==============================================================================\n",
      "Omnibus:                        0.117   Durbin-Watson:                   1.111\n",
      "Prob(Omnibus):                  0.943   Jarque-Bera (JB):                0.007\n",
      "Skew:                           0.001   Prob(JB):                        0.997\n",
      "Kurtosis:                       3.031   Cond. No.                         21.5\n",
      "==============================================================================\n",
      "\n",
      "Warnings:\n",
      "[1] Standard Errors assume that the covariance matrix of the errors is correctly specified.\n"
     ]
    }
   ],
   "source": [
    "est1 = sm.OLS(y, x, missing='drop')\n",
    "est1 = est1.fit()\n",
    "print est1.summary()"
   ]
  },
  {
   "cell_type": "code",
   "execution_count": 10,
   "metadata": {
    "collapsed": true
   },
   "outputs": [],
   "source": [
    "df['log_gdp_13'] = np.log(df.gdp_13)"
   ]
  },
  {
   "cell_type": "code",
   "execution_count": 11,
   "metadata": {},
   "outputs": [],
   "source": [
    "x1 = df[['log_gdp_13', 'log_remitt_in_13']]\n",
    "x1 = sm.add_constant(x1)"
   ]
  },
  {
   "cell_type": "markdown",
   "metadata": {},
   "source": [
    "    OLS Regression 2:\n",
    "    Dependent = log of Bitcoin Software Downloads\n",
    "    Inedpendent = Log of 2013 incoming remittances, log of 2013 GDP"
   ]
  },
  {
   "cell_type": "code",
   "execution_count": 12,
   "metadata": {},
   "outputs": [
    {
     "name": "stdout",
     "output_type": "stream",
     "text": [
      "                             OLS Regression Results                             \n",
      "================================================================================\n",
      "Dep. Variable:     log_btc_by_int_users   R-squared:                       0.680\n",
      "Model:                              OLS   Adj. R-squared:                  0.675\n",
      "Method:                   Least Squares   F-statistic:                     167.5\n",
      "Date:                  Mon, 06 Jul 2015   Prob (F-statistic):           9.06e-40\n",
      "Time:                          22:22:44   Log-Likelihood:                -343.47\n",
      "No. Observations:                   161   AIC:                             692.9\n",
      "Df Residuals:                       158   BIC:                             702.2\n",
      "Df Model:                             2                                         \n",
      "Covariance Type:              nonrobust                                         \n",
      "====================================================================================\n",
      "                       coef    std err          t      P>|t|      [95.0% Conf. Int.]\n",
      "------------------------------------------------------------------------------------\n",
      "const               -8.1799      0.768    -10.656      0.000        -9.696    -6.664\n",
      "log_gdp_13           1.1786      0.090     13.061      0.000         1.000     1.357\n",
      "log_remitt_in_13     0.1658      0.096      1.723      0.087        -0.024     0.356\n",
      "==============================================================================\n",
      "Omnibus:                        6.975   Durbin-Watson:                   1.383\n",
      "Prob(Omnibus):                  0.031   Jarque-Bera (JB):                7.143\n",
      "Skew:                          -0.515   Prob(JB):                       0.0281\n",
      "Kurtosis:                       2.936   Cond. No.                         61.0\n",
      "==============================================================================\n",
      "\n",
      "Warnings:\n",
      "[1] Standard Errors assume that the covariance matrix of the errors is correctly specified.\n"
     ]
    }
   ],
   "source": [
    "est2 = sm.OLS(y, x1, missing='drop')\n",
    "est2 = est2.fit()\n",
    "print est2.summary()"
   ]
  },
  {
   "cell_type": "code",
   "execution_count": 13,
   "metadata": {
    "collapsed": true
   },
   "outputs": [],
   "source": [
    "x2 = df[['log_gdp_13', 'log_remitt_in_13', 'inflation_13', 'mobile_phone_13']]\n",
    "x2 = sm.add_constant(x2)"
   ]
  },
  {
   "cell_type": "markdown",
   "metadata": {},
   "source": [
    "    OLS Regression 3:\n",
    "    Dependent = log of Bitcoin Software Downloads\n",
    "    Independent = Log of 2013 incoming remittances, log of 2013 GDP, rate of 2013 inflation, mobile phone penetration"
   ]
  },
  {
   "cell_type": "code",
   "execution_count": 14,
   "metadata": {
    "scrolled": false
   },
   "outputs": [
    {
     "name": "stdout",
     "output_type": "stream",
     "text": [
      "                             OLS Regression Results                             \n",
      "================================================================================\n",
      "Dep. Variable:     log_btc_by_int_users   R-squared:                       0.784\n",
      "Model:                              OLS   Adj. R-squared:                  0.778\n",
      "Method:                   Least Squares   F-statistic:                     132.8\n",
      "Date:                  Mon, 06 Jul 2015   Prob (F-statistic):           1.33e-47\n",
      "Time:                          22:22:44   Log-Likelihood:                -290.81\n",
      "No. Observations:                   151   AIC:                             591.6\n",
      "Df Residuals:                       146   BIC:                             606.7\n",
      "Df Model:                             4                                         \n",
      "Covariance Type:              nonrobust                                         \n",
      "====================================================================================\n",
      "                       coef    std err          t      P>|t|      [95.0% Conf. Int.]\n",
      "------------------------------------------------------------------------------------\n",
      "const               -9.5549      0.717    -13.330      0.000       -10.972    -8.138\n",
      "log_gdp_13           1.0064      0.083     12.194      0.000         0.843     1.170\n",
      "log_remitt_in_13     0.2483      0.083      3.001      0.003         0.085     0.412\n",
      "inflation_13        -0.0615      0.024     -2.541      0.012        -0.109    -0.014\n",
      "mobile_phone_13      0.0273      0.004      7.351      0.000         0.020     0.035\n",
      "==============================================================================\n",
      "Omnibus:                        4.366   Durbin-Watson:                   1.469\n",
      "Prob(Omnibus):                  0.113   Jarque-Bera (JB):                4.216\n",
      "Skew:                          -0.409   Prob(JB):                        0.121\n",
      "Kurtosis:                       2.995   Cond. No.                         604.\n",
      "==============================================================================\n",
      "\n",
      "Warnings:\n",
      "[1] Standard Errors assume that the covariance matrix of the errors is correctly specified.\n"
     ]
    }
   ],
   "source": [
    "est3 = sm.OLS(y, x2, missing='drop')\n",
    "est3 = est3.fit()\n",
    "print est3.summary()"
   ]
  },
  {
   "cell_type": "code",
   "execution_count": 15,
   "metadata": {
    "collapsed": true
   },
   "outputs": [],
   "source": [
    "x3 = df[['log_gdp_13', 'log_remitt_in_13', 'inflation_13', 'blk_market_08', 'mobile_phone_13']]\n",
    "x3 = sm.add_constant(x3)"
   ]
  },
  {
   "cell_type": "markdown",
   "metadata": {},
   "source": [
    "    OLS Regression 4:\n",
    "    Dependent = log of Bitcoin Software Downloads\n",
    "    Inedpendent = Log of 2013 incoming remittances, log of 2013 GDP, rate of 2013 inflation, mobile phone penetration,\n",
    "    size of black market economy "
   ]
  },
  {
   "cell_type": "code",
   "execution_count": 16,
   "metadata": {},
   "outputs": [
    {
     "name": "stdout",
     "output_type": "stream",
     "text": [
      "                             OLS Regression Results                             \n",
      "================================================================================\n",
      "Dep. Variable:     log_btc_by_int_users   R-squared:                       0.809\n",
      "Model:                              OLS   Adj. R-squared:                  0.800\n",
      "Method:                   Least Squares   F-statistic:                     96.43\n",
      "Date:                  Mon, 06 Jul 2015   Prob (F-statistic):           2.74e-39\n",
      "Time:                          22:22:44   Log-Likelihood:                -222.88\n",
      "No. Observations:                   120   AIC:                             457.8\n",
      "Df Residuals:                       114   BIC:                             474.5\n",
      "Df Model:                             5                                         \n",
      "Covariance Type:              nonrobust                                         \n",
      "====================================================================================\n",
      "                       coef    std err          t      P>|t|      [95.0% Conf. Int.]\n",
      "------------------------------------------------------------------------------------\n",
      "const               -8.8950      1.310     -6.788      0.000       -11.491    -6.299\n",
      "log_gdp_13           1.0100      0.107      9.450      0.000         0.798     1.222\n",
      "log_remitt_in_13     0.2445      0.088      2.792      0.006         0.071     0.418\n",
      "inflation_13        -0.0658      0.035     -1.874      0.063        -0.135     0.004\n",
      "blk_market_08       -0.0292      0.015     -1.995      0.048        -0.058    -0.000\n",
      "mobile_phone_13      0.0295      0.005      6.422      0.000         0.020     0.039\n",
      "==============================================================================\n",
      "Omnibus:                        4.321   Durbin-Watson:                   1.709\n",
      "Prob(Omnibus):                  0.115   Jarque-Bera (JB):                3.723\n",
      "Skew:                          -0.390   Prob(JB):                        0.155\n",
      "Kurtosis:                       3.369   Cond. No.                     1.06e+03\n",
      "==============================================================================\n",
      "\n",
      "Warnings:\n",
      "[1] Standard Errors assume that the covariance matrix of the errors is correctly specified.\n",
      "[2] The condition number is large, 1.06e+03. This might indicate that there are\n",
      "strong multicollinearity or other numerical problems.\n"
     ]
    }
   ],
   "source": [
    "est4 = sm.OLS(y, x3, missing='drop')\n",
    "est4 = est4.fit()\n",
    "print est4.summary()"
   ]
  },
  {
   "cell_type": "code",
   "execution_count": 17,
   "metadata": {
    "collapsed": true
   },
   "outputs": [],
   "source": [
    "x4 = df[['log_gdp_13', 'log_remitt_in_13', 'inflation_13', 'blk_market_08', 'mobile_phone_13', 'mig_to_OECD']]\n",
    "x4 = sm.add_constant(x4)"
   ]
  },
  {
   "cell_type": "markdown",
   "metadata": {},
   "source": [
    "    OLS Regression 5:\n",
    "    Dependent = log of Bitcoin Software Downloads\n",
    "    Inedpendent = Log of 2013 incoming remittances, log of 2013 GDP, rate of 2013 inflation, mobile phone penetration,\n",
    "    size of black market economy, migration to OECD countries "
   ]
  },
  {
   "cell_type": "code",
   "execution_count": 18,
   "metadata": {
    "scrolled": false
   },
   "outputs": [
    {
     "name": "stdout",
     "output_type": "stream",
     "text": [
      "                             OLS Regression Results                             \n",
      "================================================================================\n",
      "Dep. Variable:     log_btc_by_int_users   R-squared:                       0.806\n",
      "Model:                              OLS   Adj. R-squared:                  0.796\n",
      "Method:                   Least Squares   F-statistic:                     76.36\n",
      "Date:                  Mon, 06 Jul 2015   Prob (F-statistic):           6.30e-37\n",
      "Time:                          22:22:44   Log-Likelihood:                -215.76\n",
      "No. Observations:                   117   AIC:                             445.5\n",
      "Df Residuals:                       110   BIC:                             464.9\n",
      "Df Model:                             6                                         \n",
      "Covariance Type:              nonrobust                                         \n",
      "====================================================================================\n",
      "                       coef    std err          t      P>|t|      [95.0% Conf. Int.]\n",
      "------------------------------------------------------------------------------------\n",
      "const               -9.0762      1.391     -6.523      0.000       -11.834    -6.319\n",
      "log_gdp_13           1.0515      0.114      9.207      0.000         0.825     1.278\n",
      "log_remitt_in_13     0.2416      0.091      2.666      0.009         0.062     0.421\n",
      "inflation_13        -0.0598      0.035     -1.698      0.092        -0.130     0.010\n",
      "blk_market_08       -0.0285      0.015     -1.959      0.053        -0.057     0.000\n",
      "mobile_phone_13      0.0273      0.005      5.681      0.000         0.018     0.037\n",
      "mig_to_OECD      -4.341e-07   5.84e-07     -0.744      0.459     -1.59e-06  7.22e-07\n",
      "==============================================================================\n",
      "Omnibus:                        5.251   Durbin-Watson:                   1.721\n",
      "Prob(Omnibus):                  0.072   Jarque-Bera (JB):                4.681\n",
      "Skew:                          -0.421   Prob(JB):                       0.0963\n",
      "Kurtosis:                       3.501   Cond. No.                     3.38e+06\n",
      "==============================================================================\n",
      "\n",
      "Warnings:\n",
      "[1] Standard Errors assume that the covariance matrix of the errors is correctly specified.\n",
      "[2] The condition number is large, 3.38e+06. This might indicate that there are\n",
      "strong multicollinearity or other numerical problems.\n"
     ]
    }
   ],
   "source": [
    "est5 = sm.OLS(y, x4, missing='drop')\n",
    "est5 = est5.fit()\n",
    "print est5.summary()"
   ]
  },
  {
   "cell_type": "code",
   "execution_count": 19,
   "metadata": {},
   "outputs": [
    {
     "data": {
      "text/plain": [
       "count        149.000000\n",
       "mean      133372.664430\n",
       "std       287792.763641\n",
       "min            0.000000\n",
       "25%         6106.000000\n",
       "50%        34388.000000\n",
       "75%       135309.000000\n",
       "max      2020988.000000\n",
       "Name: mig_to_OECD, dtype: float64"
      ]
     },
     "execution_count": 19,
     "metadata": {},
     "output_type": "execute_result"
    }
   ],
   "source": [
    "df.mig_to_OECD.describe()"
   ]
  },
  {
   "cell_type": "code",
   "execution_count": 20,
   "metadata": {},
   "outputs": [],
   "source": [
    "df['log_mig_to_OECD'] = np.log(df.mig_to_OECD)"
   ]
  },
  {
   "cell_type": "code",
   "execution_count": 21,
   "metadata": {
    "collapsed": true
   },
   "outputs": [],
   "source": [
    "x5 = df[['log_gdp_13', 'log_remitt_in_13', 'inflation_13', 'blk_market_08', 'mobile_phone_13', 'log_mig_to_OECD']]\n",
    "x5 = sm.add_constant(x5)"
   ]
  },
  {
   "cell_type": "markdown",
   "metadata": {},
   "source": [
    "    OLS Regression 6:\n",
    "\n",
    "    migration data appears to be causing problems - changed into its natural log. \n",
    "\n",
    "    Dependent = log of Bitcoin Software Downloads\n",
    "    Inedpendent = Log of 2013 incoming remittances, log of 2013 GDP, rate of 2013 inflation, mobile phone penetration,\n",
    "    size of black market economy, log of migration to OECD countries "
   ]
  },
  {
   "cell_type": "code",
   "execution_count": 22,
   "metadata": {
    "scrolled": false
   },
   "outputs": [
    {
     "name": "stdout",
     "output_type": "stream",
     "text": [
      "                             OLS Regression Results                             \n",
      "================================================================================\n",
      "Dep. Variable:     log_btc_by_int_users   R-squared:                       0.806\n",
      "Model:                              OLS   Adj. R-squared:                  0.795\n",
      "Method:                   Least Squares   F-statistic:                     76.13\n",
      "Date:                  Mon, 06 Jul 2015   Prob (F-statistic):           7.23e-37\n",
      "Time:                          22:22:44   Log-Likelihood:                -215.91\n",
      "No. Observations:                   117   AIC:                             445.8\n",
      "Df Residuals:                       110   BIC:                             465.2\n",
      "Df Model:                             6                                         \n",
      "Covariance Type:              nonrobust                                         \n",
      "====================================================================================\n",
      "                       coef    std err          t      P>|t|      [95.0% Conf. Int.]\n",
      "------------------------------------------------------------------------------------\n",
      "const               -8.7799      1.325     -6.627      0.000       -11.405    -6.154\n",
      "log_gdp_13           1.0449      0.116      9.006      0.000         0.815     1.275\n",
      "log_remitt_in_13     0.2383      0.092      2.599      0.011         0.057     0.420\n",
      "inflation_13        -0.0593      0.035     -1.673      0.097        -0.130     0.011\n",
      "blk_market_08       -0.0271      0.015     -1.810      0.073        -0.057     0.003\n",
      "mobile_phone_13      0.0283      0.005      6.022      0.000         0.019     0.038\n",
      "log_mig_to_OECD     -0.0409      0.078     -0.525      0.601        -0.195     0.113\n",
      "==============================================================================\n",
      "Omnibus:                        4.707   Durbin-Watson:                   1.687\n",
      "Prob(Omnibus):                  0.095   Jarque-Bera (JB):                4.114\n",
      "Skew:                          -0.393   Prob(JB):                        0.128\n",
      "Kurtosis:                       3.475   Cond. No.                     1.07e+03\n",
      "==============================================================================\n",
      "\n",
      "Warnings:\n",
      "[1] Standard Errors assume that the covariance matrix of the errors is correctly specified.\n",
      "[2] The condition number is large, 1.07e+03. This might indicate that there are\n",
      "strong multicollinearity or other numerical problems.\n"
     ]
    }
   ],
   "source": [
    "est6 = sm.OLS(y, x5, missing='drop')\n",
    "est6 = est6.fit()\n",
    "print est6.summary()"
   ]
  },
  {
   "cell_type": "markdown",
   "metadata": {},
   "source": [
    "Notes:\n",
    "Consider dropping log of migration data - confidence interals are quite wide and p value indicates that it is not significant\n",
    "Interestingly, both black market data and inflation numbers show no signifigance. This may be because of low inflation in Eurozone and US\n",
    "\n",
    "Ask prof Schena how to incorporate CAGR of download data into analysis\n",
    "    "
   ]
  },
  {
   "cell_type": "code",
   "execution_count": 23,
   "metadata": {},
   "outputs": [
    {
     "name": "stdout",
     "output_type": "stream",
     "text": [
      "                             OLS Regression Results                             \n",
      "================================================================================\n",
      "Dep. Variable:     log_btc_by_int_users   R-squared:                       0.906\n",
      "Model:                              OLS   Adj. R-squared:                  0.901\n",
      "Method:                   Least Squares   F-statistic:                     180.8\n",
      "Date:                  Mon, 06 Jul 2015   Prob (F-statistic):           1.61e-55\n",
      "Time:                          22:22:44   Log-Likelihood:                -180.47\n",
      "No. Observations:                   120   AIC:                             374.9\n",
      "Df Residuals:                       113   BIC:                             394.5\n",
      "Df Model:                             6                                         \n",
      "Covariance Type:              nonrobust                                         \n",
      "====================================================================================\n",
      "                       coef    std err          t      P>|t|      [95.0% Conf. Int.]\n",
      "------------------------------------------------------------------------------------\n",
      "const               -9.5584      0.926    -10.317      0.000       -11.394    -7.723\n",
      "log_gdp_13           0.7853      0.078     10.039      0.000         0.630     0.940\n",
      "log_remitt_in_13     0.2543      0.062      4.116      0.000         0.132     0.377\n",
      "inflation_13         0.0122      0.026      0.473      0.637        -0.039     0.063\n",
      "blk_market_08        0.0252      0.011      2.191      0.031         0.002     0.048\n",
      "mobile_phone_13      0.0135      0.004      3.780      0.000         0.006     0.021\n",
      "int_users_per100     0.0644      0.006     10.775      0.000         0.053     0.076\n",
      "==============================================================================\n",
      "Omnibus:                        7.288   Durbin-Watson:                   1.755\n",
      "Prob(Omnibus):                  0.026   Jarque-Bera (JB):                7.005\n",
      "Skew:                          -0.493   Prob(JB):                       0.0301\n",
      "Kurtosis:                       3.656   Cond. No.                     1.14e+03\n",
      "==============================================================================\n",
      "\n",
      "Warnings:\n",
      "[1] Standard Errors assume that the covariance matrix of the errors is correctly specified.\n",
      "[2] The condition number is large, 1.14e+03. This might indicate that there are\n",
      "strong multicollinearity or other numerical problems.\n"
     ]
    }
   ],
   "source": [
    "x6 = df[['log_gdp_13', 'log_remitt_in_13', 'inflation_13', 'blk_market_08', 'mobile_phone_13', 'int_users_per100']]\n",
    "x6 = sm.add_constant(x6)\n",
    "est7 = sm.OLS(y, x6, missing='drop')\n",
    "est7 = est7.fit()\n",
    "print est7.summary()"
   ]
  },
  {
   "cell_type": "code",
   "execution_count": 24,
   "metadata": {},
   "outputs": [
    {
     "name": "stdout",
     "output_type": "stream",
     "text": [
      "                             OLS Regression Results                             \n",
      "================================================================================\n",
      "Dep. Variable:     log_btc_by_int_users   R-squared:                       0.896\n",
      "Model:                              OLS   Adj. R-squared:                  0.892\n",
      "Method:                   Least Squares   F-statistic:                     248.9\n",
      "Date:                  Mon, 06 Jul 2015   Prob (F-statistic):           2.81e-69\n",
      "Time:                          22:22:44   Log-Likelihood:                -236.02\n",
      "No. Observations:                   151   AIC:                             484.0\n",
      "Df Residuals:                       145   BIC:                             502.1\n",
      "Df Model:                             5                                         \n",
      "Covariance Type:              nonrobust                                         \n",
      "====================================================================================\n",
      "                       coef    std err          t      P>|t|      [95.0% Conf. Int.]\n",
      "------------------------------------------------------------------------------------\n",
      "const               -7.4305      0.529    -14.053      0.000        -8.476    -6.385\n",
      "log_gdp_13           0.6797      0.063     10.733      0.000         0.555     0.805\n",
      "log_remitt_in_13     0.3129      0.058      5.396      0.000         0.198     0.428\n",
      "inflation_13        -0.0058      0.017     -0.333      0.740        -0.040     0.029\n",
      "mobile_phone_13      0.0102      0.003      3.461      0.001         0.004     0.016\n",
      "int_users_per100     0.0601      0.005     12.434      0.000         0.051     0.070\n",
      "==============================================================================\n",
      "Omnibus:                       11.788   Durbin-Watson:                   1.716\n",
      "Prob(Omnibus):                  0.003   Jarque-Bera (JB):               12.826\n",
      "Skew:                          -0.579   Prob(JB):                      0.00164\n",
      "Kurtosis:                       3.834   Cond. No.                         689.\n",
      "==============================================================================\n",
      "\n",
      "Warnings:\n",
      "[1] Standard Errors assume that the covariance matrix of the errors is correctly specified.\n"
     ]
    }
   ],
   "source": [
    "x7 = df[['log_gdp_13', 'log_remitt_in_13', 'inflation_13', 'mobile_phone_13', 'int_users_per100']]\n",
    "x7 = sm.add_constant(x7)\n",
    "est8 = sm.OLS(y, x7, missing='drop')\n",
    "est8 = est8.fit()\n",
    "print est8.summary()"
   ]
  },
  {
   "cell_type": "code",
   "execution_count": 25,
   "metadata": {},
   "outputs": [
    {
     "name": "stdout",
     "output_type": "stream",
     "text": [
      "                             OLS Regression Results                             \n",
      "================================================================================\n",
      "Dep. Variable:     log_btc_by_int_users   R-squared:                       0.896\n",
      "Model:                              OLS   Adj. R-squared:                  0.893\n",
      "Method:                   Least Squares   F-statistic:                     331.7\n",
      "Date:                  Mon, 06 Jul 2015   Prob (F-statistic):           1.43e-74\n",
      "Time:                          22:22:44   Log-Likelihood:                -247.01\n",
      "No. Observations:                   159   AIC:                             504.0\n",
      "Df Residuals:                       154   BIC:                             519.4\n",
      "Df Model:                             4                                         \n",
      "Covariance Type:              nonrobust                                         \n",
      "====================================================================================\n",
      "                       coef    std err          t      P>|t|      [95.0% Conf. Int.]\n",
      "------------------------------------------------------------------------------------\n",
      "const               -7.3694      0.500    -14.732      0.000        -8.358    -6.381\n",
      "log_gdp_13           0.6650      0.059     11.357      0.000         0.549     0.781\n",
      "log_remitt_in_13     0.3092      0.055      5.590      0.000         0.200     0.419\n",
      "mobile_phone_13      0.0109      0.003      3.849      0.000         0.005     0.017\n",
      "int_users_per100     0.0603      0.004     13.668      0.000         0.052     0.069\n",
      "==============================================================================\n",
      "Omnibus:                       12.044   Durbin-Watson:                   1.841\n",
      "Prob(Omnibus):                  0.002   Jarque-Bera (JB):               13.040\n",
      "Skew:                          -0.579   Prob(JB):                      0.00147\n",
      "Kurtosis:                       3.791   Cond. No.                         680.\n",
      "==============================================================================\n",
      "\n",
      "Warnings:\n",
      "[1] Standard Errors assume that the covariance matrix of the errors is correctly specified.\n"
     ]
    }
   ],
   "source": [
    "x8 = df[['log_gdp_13', 'log_remitt_in_13', 'mobile_phone_13', 'int_users_per100']]\n",
    "x8 = sm.add_constant(x8)\n",
    "est9 = sm.OLS(y, x8, missing='drop')\n",
    "est9 = est9.fit()\n",
    "print est9.summary()"
   ]
  },
  {
   "cell_type": "code",
   "execution_count": null,
   "metadata": {
    "collapsed": true
   },
   "outputs": [],
   "source": []
  },
  {
   "cell_type": "code",
   "execution_count": null,
   "metadata": {
    "collapsed": true
   },
   "outputs": [],
   "source": []
  }
 ],
 "metadata": {
  "kernelspec": {
   "display_name": "Python 3",
   "language": "python",
   "name": "python3"
  },
  "language_info": {
   "codemirror_mode": {
    "name": "ipython",
    "version": 3
   },
   "file_extension": ".py",
   "mimetype": "text/x-python",
   "name": "python",
   "nbconvert_exporter": "python",
   "pygments_lexer": "ipython3",
   "version": "3.6.5"
  }
 },
 "nbformat": 4,
 "nbformat_minor": 1
}
