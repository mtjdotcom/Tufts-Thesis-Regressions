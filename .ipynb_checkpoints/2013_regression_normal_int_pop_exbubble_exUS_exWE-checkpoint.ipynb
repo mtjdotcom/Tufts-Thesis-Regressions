{
 "cells": [
  {
   "cell_type": "markdown",
   "metadata": {},
   "source": [
    "## 2013 Data: Regression excluding BTC bubble, the United States, and Western Europe"
   ]
  },
  {
   "cell_type": "code",
   "execution_count": 1,
   "metadata": {},
   "outputs": [],
   "source": [
    "import numpy as np\n",
    "import pandas as pd\n",
    "import statsmodels.api as sm"
   ]
  },
  {
   "cell_type": "code",
   "execution_count": 2,
   "metadata": {},
   "outputs": [
    {
     "data": {
      "text/html": [
       "<div>\n",
       "<style scoped>\n",
       "    .dataframe tbody tr th:only-of-type {\n",
       "        vertical-align: middle;\n",
       "    }\n",
       "\n",
       "    .dataframe tbody tr th {\n",
       "        vertical-align: top;\n",
       "    }\n",
       "\n",
       "    .dataframe thead th {\n",
       "        text-align: right;\n",
       "    }\n",
       "</style>\n",
       "<table border=\"1\" class=\"dataframe\">\n",
       "  <thead>\n",
       "    <tr style=\"text-align: right;\">\n",
       "      <th></th>\n",
       "      <th>btc_dl</th>\n",
       "      <th>btc_by_int_users</th>\n",
       "      <th>remitt_in_13</th>\n",
       "      <th>remitt_percentgdp_2013</th>\n",
       "      <th>gdp_13</th>\n",
       "      <th>mobile_phone_13</th>\n",
       "      <th>int_users_per100</th>\n",
       "      <th>inflation_13</th>\n",
       "      <th>blk_market_08</th>\n",
       "      <th>mig_to_OECD</th>\n",
       "      <th>population</th>\n",
       "    </tr>\n",
       "  </thead>\n",
       "  <tbody>\n",
       "    <tr>\n",
       "      <th>Malawi</th>\n",
       "      <td>15</td>\n",
       "      <td>0.810</td>\n",
       "      <td>29.7</td>\n",
       "      <td>0.8</td>\n",
       "      <td>3705.4</td>\n",
       "      <td>32.3</td>\n",
       "      <td>5.4</td>\n",
       "      <td>27.3</td>\n",
       "      <td>39.7</td>\n",
       "      <td>5389.0</td>\n",
       "      <td>16362567</td>\n",
       "    </tr>\n",
       "    <tr>\n",
       "      <th>Guinea</th>\n",
       "      <td>14</td>\n",
       "      <td>0.224</td>\n",
       "      <td>94.8</td>\n",
       "      <td>1.5</td>\n",
       "      <td>6144.1</td>\n",
       "      <td>63.3</td>\n",
       "      <td>1.6</td>\n",
       "      <td>11.9</td>\n",
       "      <td>38.5</td>\n",
       "      <td>59448.0</td>\n",
       "      <td>11745189</td>\n",
       "    </tr>\n",
       "    <tr>\n",
       "      <th>Sierra Leone</th>\n",
       "      <td>9</td>\n",
       "      <td>0.153</td>\n",
       "      <td>104.5</td>\n",
       "      <td>2.5</td>\n",
       "      <td>4136.3</td>\n",
       "      <td>44.1</td>\n",
       "      <td>1.7</td>\n",
       "      <td>10.3</td>\n",
       "      <td>39.2</td>\n",
       "      <td>324.0</td>\n",
       "      <td>6092075</td>\n",
       "    </tr>\n",
       "    <tr>\n",
       "      <th>Niger</th>\n",
       "      <td>2</td>\n",
       "      <td>0.034</td>\n",
       "      <td>156.8</td>\n",
       "      <td>2.1</td>\n",
       "      <td>7407.4</td>\n",
       "      <td>39.3</td>\n",
       "      <td>1.7</td>\n",
       "      <td>2.3</td>\n",
       "      <td>37.1</td>\n",
       "      <td>5323.0</td>\n",
       "      <td>17831270</td>\n",
       "    </tr>\n",
       "    <tr>\n",
       "      <th>Burundi</th>\n",
       "      <td>2</td>\n",
       "      <td>0.026</td>\n",
       "      <td>50.8</td>\n",
       "      <td>1.9</td>\n",
       "      <td>2714.5</td>\n",
       "      <td>25.0</td>\n",
       "      <td>1.3</td>\n",
       "      <td>8.0</td>\n",
       "      <td>39.4</td>\n",
       "      <td>NaN</td>\n",
       "      <td>10162532</td>\n",
       "    </tr>\n",
       "  </tbody>\n",
       "</table>\n",
       "</div>"
      ],
      "text/plain": [
       "              btc_dl  btc_by_int_users  remitt_in_13  remitt_percentgdp_2013  \\\n",
       "Malawi            15             0.810          29.7                     0.8   \n",
       "Guinea            14             0.224          94.8                     1.5   \n",
       "Sierra Leone       9             0.153         104.5                     2.5   \n",
       "Niger              2             0.034         156.8                     2.1   \n",
       "Burundi            2             0.026          50.8                     1.9   \n",
       "\n",
       "              gdp_13  mobile_phone_13  int_users_per100  inflation_13  \\\n",
       "Malawi        3705.4             32.3               5.4          27.3   \n",
       "Guinea        6144.1             63.3               1.6          11.9   \n",
       "Sierra Leone  4136.3             44.1               1.7          10.3   \n",
       "Niger         7407.4             39.3               1.7           2.3   \n",
       "Burundi       2714.5             25.0               1.3           8.0   \n",
       "\n",
       "              blk_market_08  mig_to_OECD  population  \n",
       "Malawi                 39.7       5389.0    16362567  \n",
       "Guinea                 38.5      59448.0    11745189  \n",
       "Sierra Leone           39.2        324.0     6092075  \n",
       "Niger                  37.1       5323.0    17831270  \n",
       "Burundi                39.4          NaN    10162532  "
      ]
     },
     "execution_count": 2,
     "metadata": {},
     "output_type": "execute_result"
    }
   ],
   "source": [
    "df = pd.read_csv('data/refined_data/2013_reg_data_by_intusers_exbubble_exUS_exWE.csv', index_col=0)\n",
    "df.tail()"
   ]
  },
  {
   "cell_type": "code",
   "execution_count": 6,
   "metadata": {
    "scrolled": true
   },
   "outputs": [
    {
     "data": {
      "text/html": [
       "<div>\n",
       "<table border=\"1\" class=\"dataframe\">\n",
       "  <thead>\n",
       "    <tr style=\"text-align: right;\">\n",
       "      <th></th>\n",
       "      <th>btc_dl</th>\n",
       "      <th>btc_by_int_users</th>\n",
       "      <th>remitt_in_13</th>\n",
       "      <th>remitt_percentgdp_2013</th>\n",
       "      <th>gdp_13</th>\n",
       "      <th>mobile_phone_13</th>\n",
       "      <th>int_users_per100</th>\n",
       "      <th>inflation_13</th>\n",
       "      <th>blk_market_08</th>\n",
       "      <th>mig_to_OECD</th>\n",
       "      <th>population</th>\n",
       "    </tr>\n",
       "  </thead>\n",
       "  <tbody>\n",
       "    <tr>\n",
       "      <th>btc_dl</th>\n",
       "      <td>1.000000</td>\n",
       "      <td>0.993473</td>\n",
       "      <td>0.607740</td>\n",
       "      <td>-0.105085</td>\n",
       "      <td>0.955855</td>\n",
       "      <td>0.040396</td>\n",
       "      <td>0.102346</td>\n",
       "      <td>-0.036094</td>\n",
       "      <td>-0.234363</td>\n",
       "      <td>0.512802</td>\n",
       "      <td>0.733631</td>\n",
       "    </tr>\n",
       "    <tr>\n",
       "      <th>btc_by_int_users</th>\n",
       "      <td>0.993473</td>\n",
       "      <td>1.000000</td>\n",
       "      <td>0.563400</td>\n",
       "      <td>-0.116557</td>\n",
       "      <td>0.938678</td>\n",
       "      <td>0.067548</td>\n",
       "      <td>0.138507</td>\n",
       "      <td>-0.044435</td>\n",
       "      <td>-0.248748</td>\n",
       "      <td>0.485188</td>\n",
       "      <td>0.685434</td>\n",
       "    </tr>\n",
       "    <tr>\n",
       "      <th>remitt_in_13</th>\n",
       "      <td>0.607740</td>\n",
       "      <td>0.563400</td>\n",
       "      <td>1.000000</td>\n",
       "      <td>0.028220</td>\n",
       "      <td>0.700028</td>\n",
       "      <td>-0.069794</td>\n",
       "      <td>-0.003878</td>\n",
       "      <td>0.034060</td>\n",
       "      <td>-0.209460</td>\n",
       "      <td>0.841396</td>\n",
       "      <td>0.911021</td>\n",
       "    </tr>\n",
       "    <tr>\n",
       "      <th>remitt_percentgdp_2013</th>\n",
       "      <td>-0.105085</td>\n",
       "      <td>-0.116557</td>\n",
       "      <td>0.028220</td>\n",
       "      <td>1.000000</td>\n",
       "      <td>-0.139218</td>\n",
       "      <td>-0.157047</td>\n",
       "      <td>-0.173961</td>\n",
       "      <td>-0.068150</td>\n",
       "      <td>0.254749</td>\n",
       "      <td>-0.050865</td>\n",
       "      <td>-0.089233</td>\n",
       "    </tr>\n",
       "    <tr>\n",
       "      <th>gdp_13</th>\n",
       "      <td>0.955855</td>\n",
       "      <td>0.938678</td>\n",
       "      <td>0.700028</td>\n",
       "      <td>-0.139218</td>\n",
       "      <td>1.000000</td>\n",
       "      <td>0.028593</td>\n",
       "      <td>0.116680</td>\n",
       "      <td>0.012937</td>\n",
       "      <td>-0.264143</td>\n",
       "      <td>0.637055</td>\n",
       "      <td>0.822954</td>\n",
       "    </tr>\n",
       "    <tr>\n",
       "      <th>mobile_phone_13</th>\n",
       "      <td>0.040396</td>\n",
       "      <td>0.067548</td>\n",
       "      <td>-0.069794</td>\n",
       "      <td>-0.157047</td>\n",
       "      <td>0.028593</td>\n",
       "      <td>1.000000</td>\n",
       "      <td>0.600235</td>\n",
       "      <td>-0.215852</td>\n",
       "      <td>-0.282525</td>\n",
       "      <td>-0.041707</td>\n",
       "      <td>-0.088461</td>\n",
       "    </tr>\n",
       "    <tr>\n",
       "      <th>int_users_per100</th>\n",
       "      <td>0.102346</td>\n",
       "      <td>0.138507</td>\n",
       "      <td>-0.003878</td>\n",
       "      <td>-0.173961</td>\n",
       "      <td>0.116680</td>\n",
       "      <td>0.600235</td>\n",
       "      <td>1.000000</td>\n",
       "      <td>-0.212249</td>\n",
       "      <td>-0.433875</td>\n",
       "      <td>0.016641</td>\n",
       "      <td>-0.056675</td>\n",
       "    </tr>\n",
       "    <tr>\n",
       "      <th>inflation_13</th>\n",
       "      <td>-0.036094</td>\n",
       "      <td>-0.044435</td>\n",
       "      <td>0.034060</td>\n",
       "      <td>-0.068150</td>\n",
       "      <td>0.012937</td>\n",
       "      <td>-0.215852</td>\n",
       "      <td>-0.212249</td>\n",
       "      <td>1.000000</td>\n",
       "      <td>0.026519</td>\n",
       "      <td>0.049609</td>\n",
       "      <td>0.081025</td>\n",
       "    </tr>\n",
       "    <tr>\n",
       "      <th>blk_market_08</th>\n",
       "      <td>-0.234363</td>\n",
       "      <td>-0.248748</td>\n",
       "      <td>-0.209460</td>\n",
       "      <td>0.254749</td>\n",
       "      <td>-0.264143</td>\n",
       "      <td>-0.282525</td>\n",
       "      <td>-0.433875</td>\n",
       "      <td>0.026519</td>\n",
       "      <td>1.000000</td>\n",
       "      <td>-0.141427</td>\n",
       "      <td>-0.232644</td>\n",
       "    </tr>\n",
       "    <tr>\n",
       "      <th>mig_to_OECD</th>\n",
       "      <td>0.512802</td>\n",
       "      <td>0.485188</td>\n",
       "      <td>0.841396</td>\n",
       "      <td>-0.050865</td>\n",
       "      <td>0.637055</td>\n",
       "      <td>-0.041707</td>\n",
       "      <td>0.016641</td>\n",
       "      <td>0.049609</td>\n",
       "      <td>-0.141427</td>\n",
       "      <td>1.000000</td>\n",
       "      <td>0.727190</td>\n",
       "    </tr>\n",
       "    <tr>\n",
       "      <th>population</th>\n",
       "      <td>0.733631</td>\n",
       "      <td>0.685434</td>\n",
       "      <td>0.911021</td>\n",
       "      <td>-0.089233</td>\n",
       "      <td>0.822954</td>\n",
       "      <td>-0.088461</td>\n",
       "      <td>-0.056675</td>\n",
       "      <td>0.081025</td>\n",
       "      <td>-0.232644</td>\n",
       "      <td>0.727190</td>\n",
       "      <td>1.000000</td>\n",
       "    </tr>\n",
       "  </tbody>\n",
       "</table>\n",
       "</div>"
      ],
      "text/plain": [
       "                          btc_dl  btc_by_int_users  remitt_in_13  \\\n",
       "btc_dl                  1.000000          0.993473      0.607740   \n",
       "btc_by_int_users        0.993473          1.000000      0.563400   \n",
       "remitt_in_13            0.607740          0.563400      1.000000   \n",
       "remitt_percentgdp_2013 -0.105085         -0.116557      0.028220   \n",
       "gdp_13                  0.955855          0.938678      0.700028   \n",
       "mobile_phone_13         0.040396          0.067548     -0.069794   \n",
       "int_users_per100        0.102346          0.138507     -0.003878   \n",
       "inflation_13           -0.036094         -0.044435      0.034060   \n",
       "blk_market_08          -0.234363         -0.248748     -0.209460   \n",
       "mig_to_OECD             0.512802          0.485188      0.841396   \n",
       "population              0.733631          0.685434      0.911021   \n",
       "\n",
       "                        remitt_percentgdp_2013    gdp_13  mobile_phone_13  \\\n",
       "btc_dl                               -0.105085  0.955855         0.040396   \n",
       "btc_by_int_users                     -0.116557  0.938678         0.067548   \n",
       "remitt_in_13                          0.028220  0.700028        -0.069794   \n",
       "remitt_percentgdp_2013                1.000000 -0.139218        -0.157047   \n",
       "gdp_13                               -0.139218  1.000000         0.028593   \n",
       "mobile_phone_13                      -0.157047  0.028593         1.000000   \n",
       "int_users_per100                     -0.173961  0.116680         0.600235   \n",
       "inflation_13                         -0.068150  0.012937        -0.215852   \n",
       "blk_market_08                         0.254749 -0.264143        -0.282525   \n",
       "mig_to_OECD                          -0.050865  0.637055        -0.041707   \n",
       "population                           -0.089233  0.822954        -0.088461   \n",
       "\n",
       "                        int_users_per100  inflation_13  blk_market_08  \\\n",
       "btc_dl                          0.102346     -0.036094      -0.234363   \n",
       "btc_by_int_users                0.138507     -0.044435      -0.248748   \n",
       "remitt_in_13                   -0.003878      0.034060      -0.209460   \n",
       "remitt_percentgdp_2013         -0.173961     -0.068150       0.254749   \n",
       "gdp_13                          0.116680      0.012937      -0.264143   \n",
       "mobile_phone_13                 0.600235     -0.215852      -0.282525   \n",
       "int_users_per100                1.000000     -0.212249      -0.433875   \n",
       "inflation_13                   -0.212249      1.000000       0.026519   \n",
       "blk_market_08                  -0.433875      0.026519       1.000000   \n",
       "mig_to_OECD                     0.016641      0.049609      -0.141427   \n",
       "population                     -0.056675      0.081025      -0.232644   \n",
       "\n",
       "                        mig_to_OECD  population  \n",
       "btc_dl                     0.512802    0.733631  \n",
       "btc_by_int_users           0.485188    0.685434  \n",
       "remitt_in_13               0.841396    0.911021  \n",
       "remitt_percentgdp_2013    -0.050865   -0.089233  \n",
       "gdp_13                     0.637055    0.822954  \n",
       "mobile_phone_13           -0.041707   -0.088461  \n",
       "int_users_per100           0.016641   -0.056675  \n",
       "inflation_13               0.049609    0.081025  \n",
       "blk_market_08             -0.141427   -0.232644  \n",
       "mig_to_OECD                1.000000    0.727190  \n",
       "population                 0.727190    1.000000  "
      ]
     },
     "execution_count": 6,
     "metadata": {},
     "output_type": "execute_result"
    }
   ],
   "source": [
    "df.corr()"
   ]
  },
  {
   "cell_type": "code",
   "execution_count": 7,
   "metadata": {},
   "outputs": [],
   "source": [
    "df['log_btc_dl'] = np.log(df.btc_dl)\n",
    "df['log_remitt_in_13'] = np.log(df.remitt_in_13)\n",
    "df['log_btc_by_int_users'] = np.log(df.btc_by_int_users)"
   ]
  },
  {
   "cell_type": "code",
   "execution_count": 8,
   "metadata": {},
   "outputs": [],
   "source": [
    "y = df.log_btc_by_int_users\n",
    "x = df.log_remitt_in_13\n",
    "x = sm.add_constant(x)"
   ]
  },
  {
   "cell_type": "markdown",
   "metadata": {},
   "source": [
    "    OLS Regression 1:\n",
    "    Dependent = log of Bitcoin Software Downloads\n",
    "    Inedpendent = Log of 2013 incoming remittances"
   ]
  },
  {
   "cell_type": "code",
   "execution_count": 9,
   "metadata": {},
   "outputs": [
    {
     "name": "stdout",
     "output_type": "stream",
     "text": [
      "                             OLS Regression Results                             \n",
      "================================================================================\n",
      "Dep. Variable:     log_btc_by_int_users   R-squared:                       0.285\n",
      "Model:                              OLS   Adj. R-squared:                  0.280\n",
      "Method:                   Least Squares   F-statistic:                     57.26\n",
      "Date:                  Wed, 08 Jul 2015   Prob (F-statistic):           4.16e-12\n",
      "Time:                          20:48:34   Log-Likelihood:                -357.92\n",
      "No. Observations:                   146   AIC:                             719.8\n",
      "Df Residuals:                       144   BIC:                             725.8\n",
      "Df Model:                             1                                         \n",
      "Covariance Type:              nonrobust                                         \n",
      "====================================================================================\n",
      "                       coef    std err          t      P>|t|      [95.0% Conf. Int.]\n",
      "------------------------------------------------------------------------------------\n",
      "const               -0.3031      0.697     -0.435      0.664        -1.681     1.075\n",
      "log_remitt_in_13     0.8030      0.106      7.567      0.000         0.593     1.013\n",
      "==============================================================================\n",
      "Omnibus:                        0.647   Durbin-Watson:                   1.115\n",
      "Prob(Omnibus):                  0.724   Jarque-Bera (JB):                0.301\n",
      "Skew:                           0.015   Prob(JB):                        0.860\n",
      "Kurtosis:                       3.220   Cond. No.                         20.0\n",
      "==============================================================================\n",
      "\n",
      "Warnings:\n",
      "[1] Standard Errors assume that the covariance matrix of the errors is correctly specified.\n"
     ]
    }
   ],
   "source": [
    "est1 = sm.OLS(y, x, missing='drop')\n",
    "est1 = est1.fit()\n",
    "print est1.summary()"
   ]
  },
  {
   "cell_type": "code",
   "execution_count": 10,
   "metadata": {
    "collapsed": true
   },
   "outputs": [],
   "source": [
    "df['log_gdp_13'] = np.log(df.gdp_13)"
   ]
  },
  {
   "cell_type": "code",
   "execution_count": 11,
   "metadata": {},
   "outputs": [],
   "source": [
    "x1 = df[['log_gdp_13', 'log_remitt_in_13']]\n",
    "x1 = sm.add_constant(x1)"
   ]
  },
  {
   "cell_type": "markdown",
   "metadata": {},
   "source": [
    "    OLS Regression 2:\n",
    "    Dependent = log of Bitcoin Software Downloads\n",
    "    Inedpendent = Log of 2013 incoming remittances, log of 2013 GDP"
   ]
  },
  {
   "cell_type": "code",
   "execution_count": 12,
   "metadata": {},
   "outputs": [
    {
     "name": "stdout",
     "output_type": "stream",
     "text": [
      "                             OLS Regression Results                             \n",
      "================================================================================\n",
      "Dep. Variable:     log_btc_by_int_users   R-squared:                       0.594\n",
      "Model:                              OLS   Adj. R-squared:                  0.588\n",
      "Method:                   Least Squares   F-statistic:                     98.63\n",
      "Date:                  Wed, 08 Jul 2015   Prob (F-statistic):           3.96e-27\n",
      "Time:                          20:48:34   Log-Likelihood:                -299.35\n",
      "No. Observations:                   138   AIC:                             604.7\n",
      "Df Residuals:                       135   BIC:                             613.5\n",
      "Df Model:                             2                                         \n",
      "Covariance Type:              nonrobust                                         \n",
      "====================================================================================\n",
      "                       coef    std err          t      P>|t|      [95.0% Conf. Int.]\n",
      "------------------------------------------------------------------------------------\n",
      "const               -7.5048      0.904     -8.306      0.000        -9.292    -5.718\n",
      "log_gdp_13           1.0788      0.107     10.038      0.000         0.866     1.291\n",
      "log_remitt_in_13     0.1946      0.102      1.904      0.059        -0.008     0.397\n",
      "==============================================================================\n",
      "Omnibus:                        4.181   Durbin-Watson:                   1.378\n",
      "Prob(Omnibus):                  0.124   Jarque-Bera (JB):                4.244\n",
      "Skew:                          -0.412   Prob(JB):                        0.120\n",
      "Kurtosis:                       2.759   Cond. No.                         61.4\n",
      "==============================================================================\n",
      "\n",
      "Warnings:\n",
      "[1] Standard Errors assume that the covariance matrix of the errors is correctly specified.\n"
     ]
    }
   ],
   "source": [
    "est2 = sm.OLS(y, x1, missing='drop')\n",
    "est2 = est2.fit()\n",
    "print est2.summary()"
   ]
  },
  {
   "cell_type": "code",
   "execution_count": 13,
   "metadata": {
    "collapsed": true
   },
   "outputs": [],
   "source": [
    "x2 = df[['log_gdp_13', 'log_remitt_in_13', 'inflation_13', 'mobile_phone_13']]\n",
    "x2 = sm.add_constant(x2)"
   ]
  },
  {
   "cell_type": "markdown",
   "metadata": {},
   "source": [
    "    OLS Regression 3:\n",
    "    Dependent = log of Bitcoin Software Downloads\n",
    "    Independent = Log of 2013 incoming remittances, log of 2013 GDP, rate of 2013 inflation, mobile phone penetration"
   ]
  },
  {
   "cell_type": "code",
   "execution_count": 14,
   "metadata": {
    "scrolled": false
   },
   "outputs": [
    {
     "name": "stdout",
     "output_type": "stream",
     "text": [
      "                             OLS Regression Results                             \n",
      "================================================================================\n",
      "Dep. Variable:     log_btc_by_int_users   R-squared:                       0.741\n",
      "Model:                              OLS   Adj. R-squared:                  0.732\n",
      "Method:                   Least Squares   F-statistic:                     88.58\n",
      "Date:                  Wed, 08 Jul 2015   Prob (F-statistic):           2.09e-35\n",
      "Time:                          20:48:34   Log-Likelihood:                -249.60\n",
      "No. Observations:                   129   AIC:                             509.2\n",
      "Df Residuals:                       124   BIC:                             523.5\n",
      "Df Model:                             4                                         \n",
      "Covariance Type:              nonrobust                                         \n",
      "====================================================================================\n",
      "                       coef    std err          t      P>|t|      [95.0% Conf. Int.]\n",
      "------------------------------------------------------------------------------------\n",
      "const               -8.9609      0.795    -11.276      0.000       -10.534    -7.388\n",
      "log_gdp_13           0.8528      0.100      8.495      0.000         0.654     1.052\n",
      "log_remitt_in_13     0.3109      0.087      3.588      0.000         0.139     0.482\n",
      "inflation_13        -0.0373      0.026     -1.445      0.151        -0.088     0.014\n",
      "mobile_phone_13      0.0304      0.004      7.696      0.000         0.023     0.038\n",
      "==============================================================================\n",
      "Omnibus:                        2.641   Durbin-Watson:                   1.461\n",
      "Prob(Omnibus):                  0.267   Jarque-Bera (JB):                2.339\n",
      "Skew:                          -0.329   Prob(JB):                        0.311\n",
      "Kurtosis:                       3.059   Cond. No.                         606.\n",
      "==============================================================================\n",
      "\n",
      "Warnings:\n",
      "[1] Standard Errors assume that the covariance matrix of the errors is correctly specified.\n"
     ]
    }
   ],
   "source": [
    "est3 = sm.OLS(y, x2, missing='drop')\n",
    "est3 = est3.fit()\n",
    "print est3.summary()"
   ]
  },
  {
   "cell_type": "code",
   "execution_count": 15,
   "metadata": {
    "collapsed": true
   },
   "outputs": [],
   "source": [
    "x3 = df[['log_gdp_13', 'log_remitt_in_13', 'inflation_13', 'blk_market_08', 'mobile_phone_13']]\n",
    "x3 = sm.add_constant(x3)"
   ]
  },
  {
   "cell_type": "markdown",
   "metadata": {},
   "source": [
    "    OLS Regression 4:\n",
    "    Dependent = log of Bitcoin Software Downloads\n",
    "    Inedpendent = Log of 2013 incoming remittances, log of 2013 GDP, rate of 2013 inflation, mobile phone penetration,\n",
    "    size of black market economy "
   ]
  },
  {
   "cell_type": "code",
   "execution_count": 16,
   "metadata": {},
   "outputs": [
    {
     "name": "stdout",
     "output_type": "stream",
     "text": [
      "                             OLS Regression Results                             \n",
      "================================================================================\n",
      "Dep. Variable:     log_btc_by_int_users   R-squared:                       0.757\n",
      "Model:                              OLS   Adj. R-squared:                  0.744\n",
      "Method:                   Least Squares   F-statistic:                     57.35\n",
      "Date:                  Wed, 08 Jul 2015   Prob (F-statistic):           8.74e-27\n",
      "Time:                          20:48:34   Log-Likelihood:                -185.31\n",
      "No. Observations:                    98   AIC:                             382.6\n",
      "Df Residuals:                        92   BIC:                             398.1\n",
      "Df Model:                             5                                         \n",
      "Covariance Type:              nonrobust                                         \n",
      "====================================================================================\n",
      "                       coef    std err          t      P>|t|      [95.0% Conf. Int.]\n",
      "------------------------------------------------------------------------------------\n",
      "const               -9.6246      1.448     -6.646      0.000       -12.501    -6.748\n",
      "log_gdp_13           0.9524      0.128      7.423      0.000         0.698     1.207\n",
      "log_remitt_in_13     0.2804      0.094      2.972      0.004         0.093     0.468\n",
      "inflation_13        -0.0456      0.038     -1.193      0.236        -0.121     0.030\n",
      "blk_market_08       -0.0154      0.018     -0.877      0.383        -0.050     0.019\n",
      "mobile_phone_13      0.0338      0.005      6.500      0.000         0.023     0.044\n",
      "==============================================================================\n",
      "Omnibus:                        2.038   Durbin-Watson:                   1.758\n",
      "Prob(Omnibus):                  0.361   Jarque-Bera (JB):                1.525\n",
      "Skew:                          -0.287   Prob(JB):                        0.467\n",
      "Kurtosis:                       3.211   Cond. No.                     1.00e+03\n",
      "==============================================================================\n",
      "\n",
      "Warnings:\n",
      "[1] Standard Errors assume that the covariance matrix of the errors is correctly specified.\n",
      "[2] The condition number is large,  1e+03. This might indicate that there are\n",
      "strong multicollinearity or other numerical problems.\n"
     ]
    }
   ],
   "source": [
    "est4 = sm.OLS(y, x3, missing='drop')\n",
    "est4 = est4.fit()\n",
    "print est4.summary()"
   ]
  },
  {
   "cell_type": "code",
   "execution_count": 17,
   "metadata": {
    "collapsed": true
   },
   "outputs": [],
   "source": [
    "x4 = df[['log_gdp_13', 'log_remitt_in_13', 'inflation_13', 'blk_market_08', 'mobile_phone_13', 'mig_to_OECD']]\n",
    "x4 = sm.add_constant(x4)"
   ]
  },
  {
   "cell_type": "markdown",
   "metadata": {},
   "source": [
    "    OLS Regression 5:\n",
    "    Dependent = log of Bitcoin Software Downloads\n",
    "    Inedpendent = Log of 2013 incoming remittances, log of 2013 GDP, rate of 2013 inflation, mobile phone penetration,\n",
    "    size of black market economy, migration to OECD countries "
   ]
  },
  {
   "cell_type": "code",
   "execution_count": 18,
   "metadata": {
    "scrolled": false
   },
   "outputs": [
    {
     "name": "stdout",
     "output_type": "stream",
     "text": [
      "                             OLS Regression Results                             \n",
      "================================================================================\n",
      "Dep. Variable:     log_btc_by_int_users   R-squared:                       0.751\n",
      "Model:                              OLS   Adj. R-squared:                  0.734\n",
      "Method:                   Least Squares   F-statistic:                     44.18\n",
      "Date:                  Wed, 08 Jul 2015   Prob (F-statistic):           1.67e-24\n",
      "Time:                          20:48:34   Log-Likelihood:                -178.50\n",
      "No. Observations:                    95   AIC:                             371.0\n",
      "Df Residuals:                        88   BIC:                             388.9\n",
      "Df Model:                             6                                         \n",
      "Covariance Type:              nonrobust                                         \n",
      "====================================================================================\n",
      "                       coef    std err          t      P>|t|      [95.0% Conf. Int.]\n",
      "------------------------------------------------------------------------------------\n",
      "const               -9.8004      1.557     -6.293      0.000       -12.895    -6.706\n",
      "log_gdp_13           0.9956      0.143      6.943      0.000         0.711     1.281\n",
      "log_remitt_in_13     0.2730      0.099      2.753      0.007         0.076     0.470\n",
      "inflation_13        -0.0408      0.038     -1.065      0.290        -0.117     0.035\n",
      "blk_market_08       -0.0149      0.018     -0.848      0.399        -0.050     0.020\n",
      "mobile_phone_13      0.0317      0.006      5.711      0.000         0.021     0.043\n",
      "mig_to_OECD      -3.552e-07   7.16e-07     -0.496      0.621     -1.78e-06  1.07e-06\n",
      "==============================================================================\n",
      "Omnibus:                        2.490   Durbin-Watson:                   1.736\n",
      "Prob(Omnibus):                  0.288   Jarque-Bera (JB):                1.872\n",
      "Skew:                          -0.307   Prob(JB):                        0.392\n",
      "Kurtosis:                       3.308   Cond. No.                     3.33e+06\n",
      "==============================================================================\n",
      "\n",
      "Warnings:\n",
      "[1] Standard Errors assume that the covariance matrix of the errors is correctly specified.\n",
      "[2] The condition number is large, 3.33e+06. This might indicate that there are\n",
      "strong multicollinearity or other numerical problems.\n"
     ]
    }
   ],
   "source": [
    "est5 = sm.OLS(y, x4, missing='drop')\n",
    "est5 = est5.fit()\n",
    "print est5.summary()"
   ]
  },
  {
   "cell_type": "code",
   "execution_count": 19,
   "metadata": {},
   "outputs": [
    {
     "data": {
      "text/plain": [
       "count        126.000000\n",
       "mean      129619.682540\n",
       "std       289721.974305\n",
       "min            0.000000\n",
       "25%         6110.500000\n",
       "50%        36527.500000\n",
       "75%       124505.750000\n",
       "max      2020988.000000\n",
       "Name: mig_to_OECD, dtype: float64"
      ]
     },
     "execution_count": 19,
     "metadata": {},
     "output_type": "execute_result"
    }
   ],
   "source": [
    "df.mig_to_OECD.describe()"
   ]
  },
  {
   "cell_type": "code",
   "execution_count": 20,
   "metadata": {},
   "outputs": [],
   "source": [
    "df['log_mig_to_OECD'] = np.log(df.mig_to_OECD)"
   ]
  },
  {
   "cell_type": "code",
   "execution_count": 21,
   "metadata": {
    "collapsed": true
   },
   "outputs": [],
   "source": [
    "x5 = df[['log_gdp_13', 'log_remitt_in_13', 'inflation_13', 'blk_market_08', 'mobile_phone_13', 'log_mig_to_OECD']]\n",
    "x5 = sm.add_constant(x5)"
   ]
  },
  {
   "cell_type": "markdown",
   "metadata": {},
   "source": [
    "    OLS Regression 6:\n",
    "\n",
    "    migration data appears to be causing problems - changed into its natural log. \n",
    "\n",
    "    Dependent = log of Bitcoin Software Downloads\n",
    "    Inedpendent = Log of 2013 incoming remittances, log of 2013 GDP, rate of 2013 inflation, mobile phone penetration,\n",
    "    size of black market economy, log of migration to OECD countries "
   ]
  },
  {
   "cell_type": "code",
   "execution_count": 22,
   "metadata": {
    "scrolled": false
   },
   "outputs": [
    {
     "name": "stdout",
     "output_type": "stream",
     "text": [
      "                             OLS Regression Results                             \n",
      "================================================================================\n",
      "Dep. Variable:     log_btc_by_int_users   R-squared:                       0.752\n",
      "Model:                              OLS   Adj. R-squared:                  0.735\n",
      "Method:                   Least Squares   F-statistic:                     44.37\n",
      "Date:                  Wed, 08 Jul 2015   Prob (F-statistic):           1.46e-24\n",
      "Time:                          20:48:34   Log-Likelihood:                -178.35\n",
      "No. Observations:                    95   AIC:                             370.7\n",
      "Df Residuals:                        88   BIC:                             388.6\n",
      "Df Model:                             6                                         \n",
      "Covariance Type:              nonrobust                                         \n",
      "====================================================================================\n",
      "                       coef    std err          t      P>|t|      [95.0% Conf. Int.]\n",
      "------------------------------------------------------------------------------------\n",
      "const               -9.6123      1.467     -6.550      0.000       -12.529    -6.696\n",
      "log_gdp_13           1.0077      0.142      7.114      0.000         0.726     1.289\n",
      "log_remitt_in_13     0.2844      0.101      2.812      0.006         0.083     0.485\n",
      "inflation_13        -0.0374      0.038     -0.973      0.333        -0.114     0.039\n",
      "blk_market_08       -0.0117      0.018     -0.664      0.508        -0.047     0.023\n",
      "mobile_phone_13      0.0328      0.005      6.170      0.000         0.022     0.043\n",
      "log_mig_to_OECD     -0.0679      0.094     -0.724      0.471        -0.254     0.118\n",
      "==============================================================================\n",
      "Omnibus:                        2.264   Durbin-Watson:                   1.721\n",
      "Prob(Omnibus):                  0.322   Jarque-Bera (JB):                1.656\n",
      "Skew:                          -0.282   Prob(JB):                        0.437\n",
      "Kurtosis:                       3.317   Cond. No.                     1.02e+03\n",
      "==============================================================================\n",
      "\n",
      "Warnings:\n",
      "[1] Standard Errors assume that the covariance matrix of the errors is correctly specified.\n",
      "[2] The condition number is large, 1.02e+03. This might indicate that there are\n",
      "strong multicollinearity or other numerical problems.\n"
     ]
    }
   ],
   "source": [
    "est6 = sm.OLS(y, x5, missing='drop')\n",
    "est6 = est6.fit()\n",
    "print est6.summary()"
   ]
  },
  {
   "cell_type": "markdown",
   "metadata": {},
   "source": [
    "Notes:\n",
    "Consider dropping log of migration data - confidence interals are quite wide and p value indicates that it is not significant\n",
    "Interestingly, both black market data and inflation numbers show no signifigance. This may be because of low inflation in Eurozone and US\n",
    "\n",
    "Ask prof Schena how to incorporate CAGR of download data into analysis\n",
    "    "
   ]
  },
  {
   "cell_type": "code",
   "execution_count": 23,
   "metadata": {},
   "outputs": [
    {
     "name": "stdout",
     "output_type": "stream",
     "text": [
      "                             OLS Regression Results                             \n",
      "================================================================================\n",
      "Dep. Variable:     log_btc_by_int_users   R-squared:                       0.889\n",
      "Model:                              OLS   Adj. R-squared:                  0.882\n",
      "Method:                   Least Squares   F-statistic:                     121.4\n",
      "Date:                  Wed, 08 Jul 2015   Prob (F-statistic):           3.31e-41\n",
      "Time:                          20:48:34   Log-Likelihood:                -146.97\n",
      "No. Observations:                    98   AIC:                             307.9\n",
      "Df Residuals:                        91   BIC:                             326.0\n",
      "Df Model:                             6                                         \n",
      "Covariance Type:              nonrobust                                         \n",
      "====================================================================================\n",
      "                       coef    std err          t      P>|t|      [95.0% Conf. Int.]\n",
      "------------------------------------------------------------------------------------\n",
      "const               -9.3287      0.985     -9.470      0.000       -11.285    -7.372\n",
      "log_gdp_13           0.7895      0.089      8.908      0.000         0.613     0.966\n",
      "log_remitt_in_13     0.2784      0.064      4.338      0.000         0.151     0.406\n",
      "inflation_13         0.0096      0.027      0.360      0.719        -0.043     0.062\n",
      "blk_market_08        0.0134      0.012      1.093      0.277        -0.011     0.038\n",
      "mobile_phone_13      0.0110      0.004      2.642      0.010         0.003     0.019\n",
      "int_users_per100     0.0741      0.007     10.392      0.000         0.060     0.088\n",
      "==============================================================================\n",
      "Omnibus:                        7.688   Durbin-Watson:                   1.757\n",
      "Prob(Omnibus):                  0.021   Jarque-Bera (JB):                7.923\n",
      "Skew:                          -0.498   Prob(JB):                       0.0190\n",
      "Kurtosis:                       3.974   Cond. No.                     1.06e+03\n",
      "==============================================================================\n",
      "\n",
      "Warnings:\n",
      "[1] Standard Errors assume that the covariance matrix of the errors is correctly specified.\n",
      "[2] The condition number is large, 1.06e+03. This might indicate that there are\n",
      "strong multicollinearity or other numerical problems.\n"
     ]
    }
   ],
   "source": [
    "x6 = df[['log_gdp_13', 'log_remitt_in_13', 'inflation_13', 'blk_market_08', 'mobile_phone_13', 'int_users_per100']]\n",
    "x6 = sm.add_constant(x6)\n",
    "est7 = sm.OLS(y, x6, missing='drop')\n",
    "est7 = est7.fit()\n",
    "print est7.summary()"
   ]
  },
  {
   "cell_type": "code",
   "execution_count": 24,
   "metadata": {},
   "outputs": [
    {
     "name": "stdout",
     "output_type": "stream",
     "text": [
      "                             OLS Regression Results                             \n",
      "================================================================================\n",
      "Dep. Variable:     log_btc_by_int_users   R-squared:                       0.873\n",
      "Model:                              OLS   Adj. R-squared:                  0.868\n",
      "Method:                   Least Squares   F-statistic:                     169.8\n",
      "Date:                  Wed, 08 Jul 2015   Prob (F-statistic):           1.90e-53\n",
      "Time:                          20:48:34   Log-Likelihood:                -203.36\n",
      "No. Observations:                   129   AIC:                             418.7\n",
      "Df Residuals:                       123   BIC:                             435.9\n",
      "Df Model:                             5                                         \n",
      "Covariance Type:              nonrobust                                         \n",
      "====================================================================================\n",
      "                       coef    std err          t      P>|t|      [95.0% Conf. Int.]\n",
      "------------------------------------------------------------------------------------\n",
      "const               -7.6652      0.569    -13.469      0.000        -8.792    -6.539\n",
      "log_gdp_13           0.7005      0.072      9.770      0.000         0.559     0.842\n",
      "log_remitt_in_13     0.3195      0.061      5.254      0.000         0.199     0.440\n",
      "inflation_13        -0.0101      0.018     -0.555      0.580        -0.046     0.026\n",
      "mobile_phone_13      0.0080      0.003      2.354      0.020         0.001     0.015\n",
      "int_users_per100     0.0683      0.006     11.355      0.000         0.056     0.080\n",
      "==============================================================================\n",
      "Omnibus:                       13.751   Durbin-Watson:                   1.649\n",
      "Prob(Omnibus):                  0.001   Jarque-Bera (JB):               16.132\n",
      "Skew:                          -0.665   Prob(JB):                     0.000314\n",
      "Kurtosis:                       4.111   Cond. No.                         655.\n",
      "==============================================================================\n",
      "\n",
      "Warnings:\n",
      "[1] Standard Errors assume that the covariance matrix of the errors is correctly specified.\n"
     ]
    }
   ],
   "source": [
    "x7 = df[['log_gdp_13', 'log_remitt_in_13', 'inflation_13', 'mobile_phone_13', 'int_users_per100']]\n",
    "x7 = sm.add_constant(x7)\n",
    "est8 = sm.OLS(y, x7, missing='drop')\n",
    "est8 = est8.fit()\n",
    "print est8.summary()"
   ]
  },
  {
   "cell_type": "code",
   "execution_count": 25,
   "metadata": {},
   "outputs": [
    {
     "name": "stdout",
     "output_type": "stream",
     "text": [
      "                             OLS Regression Results                             \n",
      "================================================================================\n",
      "Dep. Variable:     log_btc_by_int_users   R-squared:                       0.873\n",
      "Model:                              OLS   Adj. R-squared:                  0.869\n",
      "Method:                   Least Squares   F-statistic:                     225.2\n",
      "Date:                  Wed, 08 Jul 2015   Prob (F-statistic):           1.14e-57\n",
      "Time:                          20:48:34   Log-Likelihood:                -213.40\n",
      "No. Observations:                   136   AIC:                             436.8\n",
      "Df Residuals:                       131   BIC:                             451.4\n",
      "Df Model:                             4                                         \n",
      "Covariance Type:              nonrobust                                         \n",
      "====================================================================================\n",
      "                       coef    std err          t      P>|t|      [95.0% Conf. Int.]\n",
      "------------------------------------------------------------------------------------\n",
      "const               -7.5970      0.542    -14.021      0.000        -8.669    -6.525\n",
      "log_gdp_13           0.6791      0.065     10.368      0.000         0.550     0.809\n",
      "log_remitt_in_13     0.3162      0.058      5.446      0.000         0.201     0.431\n",
      "mobile_phone_13      0.0093      0.003      2.849      0.005         0.003     0.016\n",
      "int_users_per100     0.0679      0.006     12.086      0.000         0.057     0.079\n",
      "==============================================================================\n",
      "Omnibus:                       13.586   Durbin-Watson:                   1.756\n",
      "Prob(Omnibus):                  0.001   Jarque-Bera (JB):               15.496\n",
      "Skew:                          -0.658   Prob(JB):                     0.000432\n",
      "Kurtosis:                       4.000   Cond. No.                         651.\n",
      "==============================================================================\n",
      "\n",
      "Warnings:\n",
      "[1] Standard Errors assume that the covariance matrix of the errors is correctly specified.\n"
     ]
    }
   ],
   "source": [
    "x8 = df[['log_gdp_13', 'log_remitt_in_13', 'mobile_phone_13', 'int_users_per100']]\n",
    "x8 = sm.add_constant(x8)\n",
    "est9 = sm.OLS(y, x8, missing='drop')\n",
    "est9 = est9.fit()\n",
    "print est9.summary()"
   ]
  },
  {
   "cell_type": "code",
   "execution_count": null,
   "metadata": {
    "collapsed": true
   },
   "outputs": [],
   "source": []
  },
  {
   "cell_type": "code",
   "execution_count": null,
   "metadata": {
    "collapsed": true
   },
   "outputs": [],
   "source": []
  }
 ],
 "metadata": {
  "kernelspec": {
   "display_name": "Python 3",
   "language": "python",
   "name": "python3"
  },
  "language_info": {
   "codemirror_mode": {
    "name": "ipython",
    "version": 3
   },
   "file_extension": ".py",
   "mimetype": "text/x-python",
   "name": "python",
   "nbconvert_exporter": "python",
   "pygments_lexer": "ipython3",
   "version": "3.6.5"
  }
 },
 "nbformat": 4,
 "nbformat_minor": 1
}
