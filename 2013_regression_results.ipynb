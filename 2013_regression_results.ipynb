{
 "cells": [
  {
   "cell_type": "markdown",
   "metadata": {},
   "source": [
    "## 2013 Data: Regression Results"
   ]
  },
  {
   "cell_type": "code",
   "execution_count": 4,
   "metadata": {},
   "outputs": [],
   "source": [
    "import numpy as np\n",
    "import pandas as pd\n",
    "import statsmodels.api as sm"
   ]
  },
  {
   "cell_type": "code",
   "execution_count": 5,
   "metadata": {},
   "outputs": [
    {
     "data": {
      "text/html": [
       "<div style=\"max-height:1000px;max-width:1500px;overflow:auto;\">\n",
       "<table border=\"1\" class=\"dataframe\">\n",
       "  <thead>\n",
       "    <tr style=\"text-align: right;\">\n",
       "      <th></th>\n",
       "      <th>btc_dl</th>\n",
       "      <th>remitt_in_13</th>\n",
       "      <th>remitt_percentgdp_2013</th>\n",
       "      <th>gdp_13</th>\n",
       "      <th>mobile_phone_13</th>\n",
       "      <th>int_users_per100</th>\n",
       "      <th>inflation_13</th>\n",
       "      <th>blk_market_08</th>\n",
       "      <th>mig_to_OECD</th>\n",
       "      <th>population</th>\n",
       "    </tr>\n",
       "  </thead>\n",
       "  <tbody>\n",
       "    <tr>\n",
       "      <th>Cuba</th>\n",
       "      <td> 393</td>\n",
       "      <td>    NaN</td>\n",
       "      <td>NaN</td>\n",
       "      <td>NaN</td>\n",
       "      <td>  17.7</td>\n",
       "      <td> 25.7</td>\n",
       "      <td>NaN</td>\n",
       "      <td>NaN</td>\n",
       "      <td> 178883</td>\n",
       "      <td> 11265629</td>\n",
       "    </tr>\n",
       "    <tr>\n",
       "      <th>Syrian Arab Republic</th>\n",
       "      <td> 208</td>\n",
       "      <td> 1622.5</td>\n",
       "      <td>NaN</td>\n",
       "      <td>NaN</td>\n",
       "      <td>  56.0</td>\n",
       "      <td> 26.2</td>\n",
       "      <td>NaN</td>\n",
       "      <td>NaN</td>\n",
       "      <td>    NaN</td>\n",
       "      <td> 22845550</td>\n",
       "    </tr>\n",
       "    <tr>\n",
       "      <th>Andorra</th>\n",
       "      <td> 130</td>\n",
       "      <td>    NaN</td>\n",
       "      <td>NaN</td>\n",
       "      <td>NaN</td>\n",
       "      <td>  80.7</td>\n",
       "      <td> 94.0</td>\n",
       "      <td>NaN</td>\n",
       "      <td>NaN</td>\n",
       "      <td>    NaN</td>\n",
       "      <td>    79218</td>\n",
       "    </tr>\n",
       "    <tr>\n",
       "      <th>Bermuda</th>\n",
       "      <td> 123</td>\n",
       "      <td> 1304.8</td>\n",
       "      <td>NaN</td>\n",
       "      <td>NaN</td>\n",
       "      <td> 144.3</td>\n",
       "      <td> 95.3</td>\n",
       "      <td>NaN</td>\n",
       "      <td>NaN</td>\n",
       "      <td>    NaN</td>\n",
       "      <td>    65024</td>\n",
       "    </tr>\n",
       "    <tr>\n",
       "      <th>French Polynesia</th>\n",
       "      <td>  96</td>\n",
       "      <td>  669.2</td>\n",
       "      <td>NaN</td>\n",
       "      <td>NaN</td>\n",
       "      <td>  85.6</td>\n",
       "      <td> 56.8</td>\n",
       "      <td>NaN</td>\n",
       "      <td>NaN</td>\n",
       "      <td>    824</td>\n",
       "      <td>   276831</td>\n",
       "    </tr>\n",
       "  </tbody>\n",
       "</table>\n",
       "</div>"
      ],
      "text/plain": [
       "                      btc_dl  remitt_in_13  remitt_percentgdp_2013  gdp_13  \\\n",
       "Cuba                     393           NaN                     NaN     NaN   \n",
       "Syrian Arab Republic     208        1622.5                     NaN     NaN   \n",
       "Andorra                  130           NaN                     NaN     NaN   \n",
       "Bermuda                  123        1304.8                     NaN     NaN   \n",
       "French Polynesia          96         669.2                     NaN     NaN   \n",
       "\n",
       "                      mobile_phone_13  int_users_per100  inflation_13  \\\n",
       "Cuba                             17.7              25.7           NaN   \n",
       "Syrian Arab Republic             56.0              26.2           NaN   \n",
       "Andorra                          80.7              94.0           NaN   \n",
       "Bermuda                         144.3              95.3           NaN   \n",
       "French Polynesia                 85.6              56.8           NaN   \n",
       "\n",
       "                      blk_market_08  mig_to_OECD  population  \n",
       "Cuba                            NaN       178883    11265629  \n",
       "Syrian Arab Republic            NaN          NaN    22845550  \n",
       "Andorra                         NaN          NaN       79218  \n",
       "Bermuda                         NaN          NaN       65024  \n",
       "French Polynesia                NaN          824      276831  "
      ]
     },
     "execution_count": 5,
     "metadata": {},
     "output_type": "execute_result"
    }
   ],
   "source": [
    "df = pd.read_csv('data/refined_data/2013_reg_data.csv', index_col=0)\n",
    "df.head()"
   ]
  },
  {
   "cell_type": "code",
   "execution_count": 6,
   "metadata": {
    "scrolled": true
   },
   "outputs": [
    {
     "data": {
      "text/html": [
       "<div style=\"max-height:1000px;max-width:1500px;overflow:auto;\">\n",
       "<table border=\"1\" class=\"dataframe\">\n",
       "  <thead>\n",
       "    <tr style=\"text-align: right;\">\n",
       "      <th></th>\n",
       "      <th>btc_dl</th>\n",
       "      <th>remitt_in_13</th>\n",
       "      <th>remitt_percentgdp_2013</th>\n",
       "      <th>gdp_13</th>\n",
       "      <th>mobile_phone_13</th>\n",
       "      <th>int_users_per100</th>\n",
       "      <th>inflation_13</th>\n",
       "      <th>blk_market_08</th>\n",
       "      <th>mig_to_OECD</th>\n",
       "      <th>population</th>\n",
       "    </tr>\n",
       "  </thead>\n",
       "  <tbody>\n",
       "    <tr>\n",
       "      <th>btc_dl</th>\n",
       "      <td> 1.000000</td>\n",
       "      <td> 0.414774</td>\n",
       "      <td>-0.139231</td>\n",
       "      <td> 0.946082</td>\n",
       "      <td> 0.017299</td>\n",
       "      <td> 0.208714</td>\n",
       "      <td>-0.080072</td>\n",
       "      <td>-0.317538</td>\n",
       "      <td> 0.555106</td>\n",
       "      <td> 0.564963</td>\n",
       "    </tr>\n",
       "    <tr>\n",
       "      <th>remitt_in_13</th>\n",
       "      <td> 0.414774</td>\n",
       "      <td> 1.000000</td>\n",
       "      <td> 0.014801</td>\n",
       "      <td> 0.399371</td>\n",
       "      <td>-0.066677</td>\n",
       "      <td> 0.024002</td>\n",
       "      <td> 0.016776</td>\n",
       "      <td>-0.167640</td>\n",
       "      <td> 0.784950</td>\n",
       "      <td> 0.879295</td>\n",
       "    </tr>\n",
       "    <tr>\n",
       "      <th>remitt_percentgdp_2013</th>\n",
       "      <td>-0.139231</td>\n",
       "      <td> 0.014801</td>\n",
       "      <td> 1.000000</td>\n",
       "      <td>-0.160074</td>\n",
       "      <td>-0.174833</td>\n",
       "      <td>-0.274722</td>\n",
       "      <td>-0.008595</td>\n",
       "      <td> 0.349203</td>\n",
       "      <td>-0.054243</td>\n",
       "      <td>-0.085678</td>\n",
       "    </tr>\n",
       "    <tr>\n",
       "      <th>gdp_13</th>\n",
       "      <td> 0.946082</td>\n",
       "      <td> 0.399371</td>\n",
       "      <td>-0.160074</td>\n",
       "      <td> 1.000000</td>\n",
       "      <td> 0.007184</td>\n",
       "      <td> 0.247249</td>\n",
       "      <td>-0.073240</td>\n",
       "      <td>-0.346180</td>\n",
       "      <td> 0.562556</td>\n",
       "      <td> 0.527491</td>\n",
       "    </tr>\n",
       "    <tr>\n",
       "      <th>mobile_phone_13</th>\n",
       "      <td> 0.017299</td>\n",
       "      <td>-0.066677</td>\n",
       "      <td>-0.174833</td>\n",
       "      <td> 0.007184</td>\n",
       "      <td> 1.000000</td>\n",
       "      <td> 0.539561</td>\n",
       "      <td>-0.228284</td>\n",
       "      <td>-0.292529</td>\n",
       "      <td>-0.060701</td>\n",
       "      <td>-0.091994</td>\n",
       "    </tr>\n",
       "    <tr>\n",
       "      <th>int_users_per100</th>\n",
       "      <td> 0.208714</td>\n",
       "      <td> 0.024002</td>\n",
       "      <td>-0.274722</td>\n",
       "      <td> 0.247249</td>\n",
       "      <td> 0.539561</td>\n",
       "      <td> 1.000000</td>\n",
       "      <td>-0.284016</td>\n",
       "      <td>-0.637463</td>\n",
       "      <td> 0.035508</td>\n",
       "      <td>-0.047118</td>\n",
       "    </tr>\n",
       "    <tr>\n",
       "      <th>inflation_13</th>\n",
       "      <td>-0.080072</td>\n",
       "      <td> 0.016776</td>\n",
       "      <td>-0.008595</td>\n",
       "      <td>-0.073240</td>\n",
       "      <td>-0.228284</td>\n",
       "      <td>-0.284016</td>\n",
       "      <td> 1.000000</td>\n",
       "      <td> 0.179728</td>\n",
       "      <td> 0.039009</td>\n",
       "      <td> 0.077172</td>\n",
       "    </tr>\n",
       "    <tr>\n",
       "      <th>blk_market_08</th>\n",
       "      <td>-0.317538</td>\n",
       "      <td>-0.167640</td>\n",
       "      <td> 0.349203</td>\n",
       "      <td>-0.346180</td>\n",
       "      <td>-0.292529</td>\n",
       "      <td>-0.637463</td>\n",
       "      <td> 0.179728</td>\n",
       "      <td> 1.000000</td>\n",
       "      <td>-0.136893</td>\n",
       "      <td>-0.182370</td>\n",
       "    </tr>\n",
       "    <tr>\n",
       "      <th>mig_to_OECD</th>\n",
       "      <td> 0.555106</td>\n",
       "      <td> 0.784950</td>\n",
       "      <td>-0.054243</td>\n",
       "      <td> 0.562556</td>\n",
       "      <td>-0.060701</td>\n",
       "      <td> 0.035508</td>\n",
       "      <td> 0.039009</td>\n",
       "      <td>-0.136893</td>\n",
       "      <td> 1.000000</td>\n",
       "      <td> 0.718358</td>\n",
       "    </tr>\n",
       "    <tr>\n",
       "      <th>population</th>\n",
       "      <td> 0.564963</td>\n",
       "      <td> 0.879295</td>\n",
       "      <td>-0.085678</td>\n",
       "      <td> 0.527491</td>\n",
       "      <td>-0.091994</td>\n",
       "      <td>-0.047118</td>\n",
       "      <td> 0.077172</td>\n",
       "      <td>-0.182370</td>\n",
       "      <td> 0.718358</td>\n",
       "      <td> 1.000000</td>\n",
       "    </tr>\n",
       "  </tbody>\n",
       "</table>\n",
       "</div>"
      ],
      "text/plain": [
       "                          btc_dl  remitt_in_13  remitt_percentgdp_2013  \\\n",
       "btc_dl                  1.000000      0.414774               -0.139231   \n",
       "remitt_in_13            0.414774      1.000000                0.014801   \n",
       "remitt_percentgdp_2013 -0.139231      0.014801                1.000000   \n",
       "gdp_13                  0.946082      0.399371               -0.160074   \n",
       "mobile_phone_13         0.017299     -0.066677               -0.174833   \n",
       "int_users_per100        0.208714      0.024002               -0.274722   \n",
       "inflation_13           -0.080072      0.016776               -0.008595   \n",
       "blk_market_08          -0.317538     -0.167640                0.349203   \n",
       "mig_to_OECD             0.555106      0.784950               -0.054243   \n",
       "population              0.564963      0.879295               -0.085678   \n",
       "\n",
       "                          gdp_13  mobile_phone_13  int_users_per100  \\\n",
       "btc_dl                  0.946082         0.017299          0.208714   \n",
       "remitt_in_13            0.399371        -0.066677          0.024002   \n",
       "remitt_percentgdp_2013 -0.160074        -0.174833         -0.274722   \n",
       "gdp_13                  1.000000         0.007184          0.247249   \n",
       "mobile_phone_13         0.007184         1.000000          0.539561   \n",
       "int_users_per100        0.247249         0.539561          1.000000   \n",
       "inflation_13           -0.073240        -0.228284         -0.284016   \n",
       "blk_market_08          -0.346180        -0.292529         -0.637463   \n",
       "mig_to_OECD             0.562556        -0.060701          0.035508   \n",
       "population              0.527491        -0.091994         -0.047118   \n",
       "\n",
       "                        inflation_13  blk_market_08  mig_to_OECD  population  \n",
       "btc_dl                     -0.080072      -0.317538     0.555106    0.564963  \n",
       "remitt_in_13                0.016776      -0.167640     0.784950    0.879295  \n",
       "remitt_percentgdp_2013     -0.008595       0.349203    -0.054243   -0.085678  \n",
       "gdp_13                     -0.073240      -0.346180     0.562556    0.527491  \n",
       "mobile_phone_13            -0.228284      -0.292529    -0.060701   -0.091994  \n",
       "int_users_per100           -0.284016      -0.637463     0.035508   -0.047118  \n",
       "inflation_13                1.000000       0.179728     0.039009    0.077172  \n",
       "blk_market_08               0.179728       1.000000    -0.136893   -0.182370  \n",
       "mig_to_OECD                 0.039009      -0.136893     1.000000    0.718358  \n",
       "population                  0.077172      -0.182370     0.718358    1.000000  "
      ]
     },
     "execution_count": 6,
     "metadata": {},
     "output_type": "execute_result"
    }
   ],
   "source": [
    "df.corr()"
   ]
  },
  {
   "cell_type": "code",
   "execution_count": 7,
   "metadata": {},
   "outputs": [],
   "source": [
    "df['log_btc_dl'] = np.log(df.btc_dl)\n",
    "df['log_remitt_in_13'] = np.log(df.remitt_in_13)"
   ]
  },
  {
   "cell_type": "code",
   "execution_count": 8,
   "metadata": {},
   "outputs": [],
   "source": [
    "y = df.log_btc_dl\n",
    "x = df.log_remitt_in_13\n",
    "x = sm.add_constant(x)"
   ]
  },
  {
   "cell_type": "markdown",
   "metadata": {},
   "source": [
    "    OLS Regression 1:\n",
    "    Dependent = log of Bitcoin Software Downloads\n",
    "    Inedpendent = Log of 2013 incoming remittances"
   ]
  },
  {
   "cell_type": "code",
   "execution_count": 9,
   "metadata": {
    "scrolled": true
   },
   "outputs": [
    {
     "name": "stdout",
     "output_type": "stream",
     "text": [
      "                            OLS Regression Results                            \n",
      "==============================================================================\n",
      "Dep. Variable:             log_btc_dl   R-squared:                       0.404\n",
      "Model:                            OLS   Adj. R-squared:                  0.400\n",
      "Method:                 Least Squares   F-statistic:                     113.0\n",
      "Date:                Fri, 22 May 2015   Prob (F-statistic):           1.74e-20\n",
      "Time:                        10:31:11   Log-Likelihood:                -371.99\n",
      "No. Observations:                 169   AIC:                             748.0\n",
      "Df Residuals:                     167   BIC:                             754.2\n",
      "Df Model:                           1                                         \n",
      "====================================================================================\n",
      "                       coef    std err          t      P>|t|      [95.0% Conf. Int.]\n",
      "------------------------------------------------------------------------------------\n",
      "const                1.4393      0.528      2.726      0.007         0.397     2.482\n",
      "log_remitt_in_13     0.8294      0.078     10.630      0.000         0.675     0.983\n",
      "==============================================================================\n",
      "Omnibus:                        4.276   Durbin-Watson:                   1.074\n",
      "Prob(Omnibus):                  0.118   Jarque-Bera (JB):                3.869\n",
      "Skew:                           0.297   Prob(JB):                        0.144\n",
      "Kurtosis:                       3.444   Cond. No.                         21.5\n",
      "==============================================================================\n"
     ]
    }
   ],
   "source": [
    "est1 = sm.OLS(y, x, missing='drop')\n",
    "est1 = est1.fit()\n",
    "print est1.summary()"
   ]
  },
  {
   "cell_type": "code",
   "execution_count": 10,
   "metadata": {
    "collapsed": true
   },
   "outputs": [],
   "source": [
    "df['log_gdp_13'] = np.log(df.gdp_13)"
   ]
  },
  {
   "cell_type": "code",
   "execution_count": 11,
   "metadata": {},
   "outputs": [],
   "source": [
    "x1 = df[['log_gdp_13', 'log_remitt_in_13']]\n",
    "x1 = sm.add_constant(x1)"
   ]
  },
  {
   "cell_type": "markdown",
   "metadata": {},
   "source": [
    "    OLS Regression 2:\n",
    "    Dependent = log of Bitcoin Software Downloads\n",
    "    Inedpendent = Log of 2013 incoming remittances, log of 2013 GDP"
   ]
  },
  {
   "cell_type": "code",
   "execution_count": 12,
   "metadata": {},
   "outputs": [
    {
     "name": "stdout",
     "output_type": "stream",
     "text": [
      "                            OLS Regression Results                            \n",
      "==============================================================================\n",
      "Dep. Variable:             log_btc_dl   R-squared:                       0.801\n",
      "Model:                            OLS   Adj. R-squared:                  0.798\n",
      "Method:                 Least Squares   F-statistic:                     317.3\n",
      "Date:                Fri, 22 May 2015   Prob (F-statistic):           4.64e-56\n",
      "Time:                        10:31:11   Log-Likelihood:                -266.79\n",
      "No. Observations:                 161   AIC:                             539.6\n",
      "Df Residuals:                     158   BIC:                             548.8\n",
      "Df Model:                           2                                         \n",
      "====================================================================================\n",
      "                       coef    std err          t      P>|t|      [95.0% Conf. Int.]\n",
      "------------------------------------------------------------------------------------\n",
      "const               -4.8184      0.477    -10.106      0.000        -5.760    -3.877\n",
      "log_gdp_13           0.9902      0.056     17.668      0.000         0.880     1.101\n",
      "log_remitt_in_13     0.1677      0.060      2.805      0.006         0.050     0.286\n",
      "==============================================================================\n",
      "Omnibus:                        5.560   Durbin-Watson:                   1.638\n",
      "Prob(Omnibus):                  0.062   Jarque-Bera (JB):                3.791\n",
      "Skew:                          -0.223   Prob(JB):                        0.150\n",
      "Kurtosis:                       2.394   Cond. No.                         61.0\n",
      "==============================================================================\n"
     ]
    }
   ],
   "source": [
    "est2 = sm.OLS(y, x1, missing='drop')\n",
    "est2 = est2.fit()\n",
    "print est2.summary()"
   ]
  },
  {
   "cell_type": "code",
   "execution_count": 13,
   "metadata": {
    "collapsed": true
   },
   "outputs": [],
   "source": [
    "x2 = df[['log_gdp_13', 'log_remitt_in_13', 'inflation_13', 'mobile_phone_13']]\n",
    "x2 = sm.add_constant(x2)"
   ]
  },
  {
   "cell_type": "markdown",
   "metadata": {},
   "source": [
    "    OLS Regression 3:\n",
    "    Dependent = log of Bitcoin Software Downloads\n",
    "    Independent = Log of 2013 incoming remittances, log of 2013 GDP, rate of 2013 inflation, mobile phone penetration"
   ]
  },
  {
   "cell_type": "code",
   "execution_count": 14,
   "metadata": {
    "scrolled": false
   },
   "outputs": [
    {
     "name": "stdout",
     "output_type": "stream",
     "text": [
      "                            OLS Regression Results                            \n",
      "==============================================================================\n",
      "Dep. Variable:             log_btc_dl   R-squared:                       0.845\n",
      "Model:                            OLS   Adj. R-squared:                  0.841\n",
      "Method:                 Least Squares   F-statistic:                     199.0\n",
      "Date:                Fri, 22 May 2015   Prob (F-statistic):           4.92e-58\n",
      "Time:                        10:31:11   Log-Likelihood:                -226.95\n",
      "No. Observations:                 151   AIC:                             463.9\n",
      "Df Residuals:                     146   BIC:                             479.0\n",
      "Df Model:                           4                                         \n",
      "====================================================================================\n",
      "                       coef    std err          t      P>|t|      [95.0% Conf. Int.]\n",
      "------------------------------------------------------------------------------------\n",
      "const               -5.2459      0.470    -11.171      0.000        -6.174    -4.318\n",
      "log_gdp_13           0.8856      0.054     16.379      0.000         0.779     0.993\n",
      "log_remitt_in_13     0.2133      0.054      3.935      0.000         0.106     0.320\n",
      "inflation_13        -0.0417      0.016     -2.628      0.010        -0.073    -0.010\n",
      "mobile_phone_13      0.0136      0.002      5.562      0.000         0.009     0.018\n",
      "==============================================================================\n",
      "Omnibus:                        2.728   Durbin-Watson:                   1.716\n",
      "Prob(Omnibus):                  0.256   Jarque-Bera (JB):                2.125\n",
      "Skew:                          -0.142   Prob(JB):                        0.346\n",
      "Kurtosis:                       2.493   Cond. No.                         604.\n",
      "==============================================================================\n"
     ]
    }
   ],
   "source": [
    "est3 = sm.OLS(y, x2, missing='drop')\n",
    "est3 = est3.fit()\n",
    "print est3.summary()"
   ]
  },
  {
   "cell_type": "code",
   "execution_count": 15,
   "metadata": {
    "collapsed": true
   },
   "outputs": [],
   "source": [
    "x3 = df[['log_gdp_13', 'log_remitt_in_13', 'inflation_13', 'blk_market_08', 'mobile_phone_13']]\n",
    "x3 = sm.add_constant(x3)"
   ]
  },
  {
   "cell_type": "markdown",
   "metadata": {},
   "source": [
    "    OLS Regression 4:\n",
    "    Dependent = log of Bitcoin Software Downloads\n",
    "    Inedpendent = Log of 2013 incoming remittances, log of 2013 GDP, rate of 2013 inflation, mobile phone penetration,\n",
    "    size of black market economy "
   ]
  },
  {
   "cell_type": "code",
   "execution_count": 16,
   "metadata": {},
   "outputs": [
    {
     "name": "stdout",
     "output_type": "stream",
     "text": [
      "                            OLS Regression Results                            \n",
      "==============================================================================\n",
      "Dep. Variable:             log_btc_dl   R-squared:                       0.847\n",
      "Model:                            OLS   Adj. R-squared:                  0.841\n",
      "Method:                 Least Squares   F-statistic:                     126.5\n",
      "Date:                Fri, 22 May 2015   Prob (F-statistic):           7.80e-45\n",
      "Time:                        10:31:11   Log-Likelihood:                -173.45\n",
      "No. Observations:                 120   AIC:                             358.9\n",
      "Df Residuals:                     114   BIC:                             375.6\n",
      "Df Model:                           5                                         \n",
      "====================================================================================\n",
      "                       coef    std err          t      P>|t|      [95.0% Conf. Int.]\n",
      "------------------------------------------------------------------------------------\n",
      "const               -4.7885      0.868     -5.517      0.000        -6.508    -3.069\n",
      "log_gdp_13           0.8824      0.071     12.464      0.000         0.742     1.023\n",
      "log_remitt_in_13     0.1990      0.058      3.430      0.001         0.084     0.314\n",
      "inflation_13        -0.0393      0.023     -1.689      0.094        -0.085     0.007\n",
      "blk_market_08       -0.0129      0.010     -1.332      0.186        -0.032     0.006\n",
      "mobile_phone_13      0.0144      0.003      4.729      0.000         0.008     0.020\n",
      "==============================================================================\n",
      "Omnibus:                        0.243   Durbin-Watson:                   1.893\n",
      "Prob(Omnibus):                  0.886   Jarque-Bera (JB):                0.131\n",
      "Skew:                          -0.081   Prob(JB):                        0.937\n",
      "Kurtosis:                       3.006   Cond. No.                     1.06e+03\n",
      "==============================================================================\n",
      "\n",
      "Warnings:\n",
      "[1] The condition number is large, 1.06e+03. This might indicate that there are\n",
      "strong multicollinearity or other numerical problems.\n"
     ]
    }
   ],
   "source": [
    "est4 = sm.OLS(y, x3, missing='drop')\n",
    "est4 = est4.fit()\n",
    "print est4.summary()"
   ]
  },
  {
   "cell_type": "code",
   "execution_count": 17,
   "metadata": {
    "collapsed": true
   },
   "outputs": [],
   "source": [
    "x4 = df[['log_gdp_13', 'log_remitt_in_13', 'inflation_13', 'blk_market_08', 'mobile_phone_13', 'mig_to_OECD']]\n",
    "x4 = sm.add_constant(x4)"
   ]
  },
  {
   "cell_type": "markdown",
   "metadata": {},
   "source": [
    "    OLS Regression 5:\n",
    "    Dependent = log of Bitcoin Software Downloads\n",
    "    Inedpendent = Log of 2013 incoming remittances, log of 2013 GDP, rate of 2013 inflation, mobile phone penetration,\n",
    "    size of black market economy, migration to OECD countries "
   ]
  },
  {
   "cell_type": "code",
   "execution_count": 18,
   "metadata": {
    "scrolled": false
   },
   "outputs": [
    {
     "name": "stdout",
     "output_type": "stream",
     "text": [
      "                            OLS Regression Results                            \n",
      "==============================================================================\n",
      "Dep. Variable:             log_btc_dl   R-squared:                       0.844\n",
      "Model:                            OLS   Adj. R-squared:                  0.835\n",
      "Method:                 Least Squares   F-statistic:                     99.14\n",
      "Date:                Fri, 22 May 2015   Prob (F-statistic):           4.90e-42\n",
      "Time:                        10:31:11   Log-Likelihood:                -169.00\n",
      "No. Observations:                 117   AIC:                             352.0\n",
      "Df Residuals:                     110   BIC:                             371.3\n",
      "Df Model:                           6                                         \n",
      "====================================================================================\n",
      "                       coef    std err          t      P>|t|      [95.0% Conf. Int.]\n",
      "------------------------------------------------------------------------------------\n",
      "const               -4.7918      0.933     -5.136      0.000        -6.641    -2.943\n",
      "log_gdp_13           0.8948      0.077     11.685      0.000         0.743     1.047\n",
      "log_remitt_in_13     0.1921      0.061      3.163      0.002         0.072     0.313\n",
      "inflation_13        -0.0366      0.024     -1.550      0.124        -0.083     0.010\n",
      "blk_market_08       -0.0126      0.010     -1.296      0.198        -0.032     0.007\n",
      "mobile_phone_13      0.0136      0.003      4.211      0.000         0.007     0.020\n",
      "mig_to_OECD      -1.037e-07   3.91e-07     -0.265      0.792     -8.79e-07  6.72e-07\n",
      "==============================================================================\n",
      "Omnibus:                        0.312   Durbin-Watson:                   1.876\n",
      "Prob(Omnibus):                  0.856   Jarque-Bera (JB):                0.173\n",
      "Skew:                          -0.094   Prob(JB):                        0.917\n",
      "Kurtosis:                       3.020   Cond. No.                     3.38e+06\n",
      "==============================================================================\n",
      "\n",
      "Warnings:\n",
      "[1] The condition number is large, 3.38e+06. This might indicate that there are\n",
      "strong multicollinearity or other numerical problems.\n"
     ]
    }
   ],
   "source": [
    "est5 = sm.OLS(y, x4, missing='drop')\n",
    "est5 = est5.fit()\n",
    "print est5.summary()"
   ]
  },
  {
   "cell_type": "code",
   "execution_count": 19,
   "metadata": {},
   "outputs": [
    {
     "data": {
      "text/plain": [
       "count        149.000000\n",
       "mean      133372.664430\n",
       "std       287792.763641\n",
       "min            0.000000\n",
       "25%         6106.000000\n",
       "50%        34388.000000\n",
       "75%       135309.000000\n",
       "max      2020988.000000\n",
       "dtype: float64"
      ]
     },
     "execution_count": 19,
     "metadata": {},
     "output_type": "execute_result"
    }
   ],
   "source": [
    "df.mig_to_OECD.describe()"
   ]
  },
  {
   "cell_type": "code",
   "execution_count": 20,
   "metadata": {},
   "outputs": [],
   "source": [
    "df['log_mig_to_OECD'] = np.log(df.mig_to_OECD)"
   ]
  },
  {
   "cell_type": "code",
   "execution_count": 21,
   "metadata": {
    "collapsed": true
   },
   "outputs": [],
   "source": [
    "x5 = df[['log_gdp_13', 'log_remitt_in_13', 'inflation_13', 'blk_market_08', 'mobile_phone_13', 'log_mig_to_OECD']]\n",
    "x5 = sm.add_constant(x5)"
   ]
  },
  {
   "cell_type": "markdown",
   "metadata": {},
   "source": [
    "    OLS Regression 6:\n",
    "\n",
    "    migration data appears to be causing problems - changed into its natural log. \n",
    "\n",
    "    Dependent = log of Bitcoin Software Downloads\n",
    "    Inedpendent = Log of 2013 incoming remittances, log of 2013 GDP, rate of 2013 inflation, mobile phone penetration,\n",
    "    size of black market economy, log of migration to OECD countries "
   ]
  },
  {
   "cell_type": "code",
   "execution_count": 22,
   "metadata": {
    "scrolled": false
   },
   "outputs": [
    {
     "name": "stdout",
     "output_type": "stream",
     "text": [
      "                            OLS Regression Results                            \n",
      "==============================================================================\n",
      "Dep. Variable:             log_btc_dl   R-squared:                       0.844\n",
      "Model:                            OLS   Adj. R-squared:                  0.835\n",
      "Method:                 Least Squares   F-statistic:                     99.10\n",
      "Date:                Fri, 22 May 2015   Prob (F-statistic):           5.00e-42\n",
      "Time:                        10:31:11   Log-Likelihood:                -169.02\n",
      "No. Observations:                 117   AIC:                             352.0\n",
      "Df Residuals:                     110   BIC:                             371.4\n",
      "Df Model:                           6                                         \n",
      "====================================================================================\n",
      "                       coef    std err          t      P>|t|      [95.0% Conf. Int.]\n",
      "------------------------------------------------------------------------------------\n",
      "const               -4.7087      0.887     -5.306      0.000        -6.467    -2.950\n",
      "log_gdp_13           0.8820      0.078     11.349      0.000         0.728     1.036\n",
      "log_remitt_in_13     0.1847      0.061      3.007      0.003         0.063     0.306\n",
      "inflation_13        -0.0377      0.024     -1.588      0.115        -0.085     0.009\n",
      "blk_market_08       -0.0131      0.010     -1.312      0.192        -0.033     0.007\n",
      "mobile_phone_13      0.0137      0.003      4.368      0.000         0.007     0.020\n",
      "log_mig_to_OECD      0.0095      0.052      0.183      0.855        -0.094     0.113\n",
      "==============================================================================\n",
      "Omnibus:                        0.311   Durbin-Watson:                   1.863\n",
      "Prob(Omnibus):                  0.856   Jarque-Bera (JB):                0.160\n",
      "Skew:                          -0.089   Prob(JB):                        0.923\n",
      "Kurtosis:                       3.030   Cond. No.                     1.07e+03\n",
      "==============================================================================\n",
      "\n",
      "Warnings:\n",
      "[1] The condition number is large, 1.07e+03. This might indicate that there are\n",
      "strong multicollinearity or other numerical problems.\n"
     ]
    }
   ],
   "source": [
    "est6 = sm.OLS(y, x5, missing='drop')\n",
    "est6 = est6.fit()\n",
    "print est6.summary()"
   ]
  },
  {
   "cell_type": "markdown",
   "metadata": {},
   "source": [
    "Notes:\n",
    "Consider dropping log of migration data - confidence interals are quite wide and p value indicates that it is not significant\n",
    "Interestingly, both black market data and inflation numbers show no signifigance. This may be because of low inflation in Eurozone and US\n",
    "\n",
    "Ask prof Schena how to incorporate CAGR of download data into analysis\n",
    "    "
   ]
  },
  {
   "cell_type": "code",
   "execution_count": 24,
   "metadata": {},
   "outputs": [
    {
     "name": "stdout",
     "output_type": "stream",
     "text": [
      "                            OLS Regression Results                            \n",
      "==============================================================================\n",
      "Dep. Variable:             log_btc_dl   R-squared:                       0.886\n",
      "Model:                            OLS   Adj. R-squared:                  0.880\n",
      "Method:                 Least Squares   F-statistic:                     146.2\n",
      "Date:                Fri, 22 May 2015   Prob (F-statistic):           7.28e-51\n",
      "Time:                        10:34:16   Log-Likelihood:                -155.98\n",
      "No. Observations:                 120   AIC:                             326.0\n",
      "Df Residuals:                     113   BIC:                             345.5\n",
      "Df Model:                           6                                         \n",
      "====================================================================================\n",
      "                       coef    std err          t      P>|t|      [95.0% Conf. Int.]\n",
      "------------------------------------------------------------------------------------\n",
      "const               -5.0987      0.755     -6.749      0.000        -6.595    -3.602\n",
      "log_gdp_13           0.7773      0.064     12.186      0.000         0.651     0.904\n",
      "log_remitt_in_13     0.2035      0.050      4.040      0.000         0.104     0.303\n",
      "inflation_13        -0.0028      0.021     -0.133      0.894        -0.044     0.039\n",
      "blk_market_08        0.0125      0.009      1.335      0.184        -0.006     0.031\n",
      "mobile_phone_13      0.0069      0.003      2.372      0.019         0.001     0.013\n",
      "int_users_per100     0.0301      0.005      6.179      0.000         0.020     0.040\n",
      "==============================================================================\n",
      "Omnibus:                        0.671   Durbin-Watson:                   1.966\n",
      "Prob(Omnibus):                  0.715   Jarque-Bera (JB):                0.338\n",
      "Skew:                          -0.100   Prob(JB):                        0.845\n",
      "Kurtosis:                       3.167   Cond. No.                     1.14e+03\n",
      "==============================================================================\n",
      "\n",
      "Warnings:\n",
      "[1] The condition number is large, 1.14e+03. This might indicate that there are\n",
      "strong multicollinearity or other numerical problems.\n"
     ]
    }
   ],
   "source": [
    "x6 = df[['log_gdp_13', 'log_remitt_in_13', 'inflation_13', 'blk_market_08', 'mobile_phone_13', 'int_users_per100']]\n",
    "x6 = sm.add_constant(x6)\n",
    "est7 = sm.OLS(y, x6, missing='drop')\n",
    "est7 = est7.fit()\n",
    "print est7.summary()"
   ]
  },
  {
   "cell_type": "code",
   "execution_count": 25,
   "metadata": {},
   "outputs": [
    {
     "name": "stdout",
     "output_type": "stream",
     "text": [
      "                            OLS Regression Results                            \n",
      "==============================================================================\n",
      "Dep. Variable:             log_btc_dl   R-squared:                       0.881\n",
      "Model:                            OLS   Adj. R-squared:                  0.877\n",
      "Method:                 Least Squares   F-statistic:                     215.2\n",
      "Date:                Fri, 22 May 2015   Prob (F-statistic):           3.26e-65\n",
      "Time:                        10:36:09   Log-Likelihood:                -206.85\n",
      "No. Observations:                 151   AIC:                             425.7\n",
      "Df Residuals:                     145   BIC:                             443.8\n",
      "Df Model:                           5                                         \n",
      "====================================================================================\n",
      "                       coef    std err          t      P>|t|      [95.0% Conf. Int.]\n",
      "------------------------------------------------------------------------------------\n",
      "const               -4.3093      0.436     -9.886      0.000        -5.171    -3.448\n",
      "log_gdp_13           0.7416      0.052     14.206      0.000         0.638     0.845\n",
      "log_remitt_in_13     0.2418      0.048      5.058      0.000         0.147     0.336\n",
      "inflation_13        -0.0171      0.014     -1.188      0.237        -0.046     0.011\n",
      "mobile_phone_13      0.0060      0.002      2.469      0.015         0.001     0.011\n",
      "int_users_per100     0.0265      0.004      6.650      0.000         0.019     0.034\n",
      "==============================================================================\n",
      "Omnibus:                        1.806   Durbin-Watson:                   1.964\n",
      "Prob(Omnibus):                  0.405   Jarque-Bera (JB):                1.379\n",
      "Skew:                          -0.203   Prob(JB):                        0.502\n",
      "Kurtosis:                       3.234   Cond. No.                         689.\n",
      "==============================================================================\n"
     ]
    }
   ],
   "source": [
    "x7 = df[['log_gdp_13', 'log_remitt_in_13', 'inflation_13', 'mobile_phone_13', 'int_users_per100']]\n",
    "x7 = sm.add_constant(x7)\n",
    "est8 = sm.OLS(y, x7, missing='drop')\n",
    "est8 = est8.fit()\n",
    "print est8.summary()"
   ]
  },
  {
   "cell_type": "code",
   "execution_count": 26,
   "metadata": {},
   "outputs": [
    {
     "name": "stdout",
     "output_type": "stream",
     "text": [
      "                            OLS Regression Results                            \n",
      "==============================================================================\n",
      "Dep. Variable:             log_btc_dl   R-squared:                       0.881\n",
      "Model:                            OLS   Adj. R-squared:                  0.878\n",
      "Method:                 Least Squares   F-statistic:                     286.0\n",
      "Date:                Fri, 22 May 2015   Prob (F-statistic):           3.56e-70\n",
      "Time:                        10:37:24   Log-Likelihood:                -217.14\n",
      "No. Observations:                 159   AIC:                             444.3\n",
      "Df Residuals:                     154   BIC:                             459.6\n",
      "Df Model:                           4                                         \n",
      "====================================================================================\n",
      "                       coef    std err          t      P>|t|      [95.0% Conf. Int.]\n",
      "------------------------------------------------------------------------------------\n",
      "const               -4.3703      0.415    -10.541      0.000        -5.189    -3.551\n",
      "log_gdp_13           0.7255      0.049     14.949      0.000         0.630     0.821\n",
      "log_remitt_in_13     0.2447      0.046      5.337      0.000         0.154     0.335\n",
      "mobile_phone_13      0.0067      0.002      2.862      0.005         0.002     0.011\n",
      "int_users_per100     0.0276      0.004      7.535      0.000         0.020     0.035\n",
      "==============================================================================\n",
      "Omnibus:                        1.925   Durbin-Watson:                   2.051\n",
      "Prob(Omnibus):                  0.382   Jarque-Bera (JB):                1.515\n",
      "Skew:                          -0.215   Prob(JB):                        0.469\n",
      "Kurtosis:                       3.210   Cond. No.                         680.\n",
      "==============================================================================\n"
     ]
    }
   ],
   "source": [
    "x8 = df[['log_gdp_13', 'log_remitt_in_13', 'mobile_phone_13', 'int_users_per100']]\n",
    "x8 = sm.add_constant(x8)\n",
    "est9 = sm.OLS(y, x8, missing='drop')\n",
    "est9 = est9.fit()\n",
    "print est9.summary()"
   ]
  },
  {
   "cell_type": "code",
   "execution_count": null,
   "metadata": {
    "collapsed": true
   },
   "outputs": [],
   "source": []
  }
 ],
 "metadata": {
  "kernelspec": {
   "display_name": "Python 3",
   "language": "python",
   "name": "python3"
  },
  "language_info": {
   "codemirror_mode": {
    "name": "ipython",
    "version": 3
   },
   "file_extension": ".py",
   "mimetype": "text/x-python",
   "name": "python",
   "nbconvert_exporter": "python",
   "pygments_lexer": "ipython3",
   "version": "3.6.5"
  }
 },
 "nbformat": 4,
 "nbformat_minor": 1
}
