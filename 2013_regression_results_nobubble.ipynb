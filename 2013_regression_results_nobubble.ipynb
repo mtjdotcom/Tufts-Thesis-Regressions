{
 "cells": [
  {
   "cell_type": "markdown",
   "metadata": {},
   "source": [
    "## 2013 Data: Regression Results, excluding BTC bubble"
   ]
  },
  {
   "cell_type": "code",
   "execution_count": 33,
   "metadata": {},
   "outputs": [],
   "source": [
    "import numpy as np\n",
    "import pandas as pd\n",
    "import statsmodels.api as sm"
   ]
  },
  {
   "cell_type": "code",
   "execution_count": 34,
   "metadata": {},
   "outputs": [
    {
     "data": {
      "text/html": [
       "<div style=\"max-height:1000px;max-width:1500px;overflow:auto;\">\n",
       "<table border=\"1\" class=\"dataframe\">\n",
       "  <thead>\n",
       "    <tr style=\"text-align: right;\">\n",
       "      <th></th>\n",
       "      <th>btc_dl</th>\n",
       "      <th>remitt_in_13</th>\n",
       "      <th>remitt_percentgdp_2013</th>\n",
       "      <th>gdp_13</th>\n",
       "      <th>mobile_phone_13</th>\n",
       "      <th>int_users_per100</th>\n",
       "      <th>account_percentfin_inst</th>\n",
       "      <th>inflation_13</th>\n",
       "      <th>blk_market_08</th>\n",
       "      <th>mig_to_OECD</th>\n",
       "      <th>population</th>\n",
       "      <th>btc_dl_percapita</th>\n",
       "    </tr>\n",
       "  </thead>\n",
       "  <tbody>\n",
       "    <tr>\n",
       "      <th>Cuba</th>\n",
       "      <td> 102</td>\n",
       "      <td>     NaN</td>\n",
       "      <td>NaN</td>\n",
       "      <td>NaN</td>\n",
       "      <td>  17.71</td>\n",
       "      <td> 25.71</td>\n",
       "      <td>NaN</td>\n",
       "      <td>NaN</td>\n",
       "      <td>NaN</td>\n",
       "      <td> 178883</td>\n",
       "      <td> 11265629</td>\n",
       "      <td> 0</td>\n",
       "    </tr>\n",
       "    <tr>\n",
       "      <th>Syrian Arab Republic</th>\n",
       "      <td> 174</td>\n",
       "      <td> 1622.54</td>\n",
       "      <td>NaN</td>\n",
       "      <td>NaN</td>\n",
       "      <td>  55.97</td>\n",
       "      <td> 26.20</td>\n",
       "      <td>NaN</td>\n",
       "      <td>NaN</td>\n",
       "      <td>NaN</td>\n",
       "      <td>    NaN</td>\n",
       "      <td> 22845550</td>\n",
       "      <td> 0</td>\n",
       "    </tr>\n",
       "    <tr>\n",
       "      <th>Andorra</th>\n",
       "      <td> 138</td>\n",
       "      <td>     NaN</td>\n",
       "      <td>NaN</td>\n",
       "      <td>NaN</td>\n",
       "      <td>  80.70</td>\n",
       "      <td> 94.00</td>\n",
       "      <td>NaN</td>\n",
       "      <td>NaN</td>\n",
       "      <td>NaN</td>\n",
       "      <td>    NaN</td>\n",
       "      <td>    79218</td>\n",
       "      <td> 0</td>\n",
       "    </tr>\n",
       "    <tr>\n",
       "      <th>Bermuda</th>\n",
       "      <td> 110</td>\n",
       "      <td> 1304.81</td>\n",
       "      <td>NaN</td>\n",
       "      <td>NaN</td>\n",
       "      <td> 144.32</td>\n",
       "      <td> 95.30</td>\n",
       "      <td>NaN</td>\n",
       "      <td>NaN</td>\n",
       "      <td>NaN</td>\n",
       "      <td>    NaN</td>\n",
       "      <td>    65024</td>\n",
       "      <td> 0</td>\n",
       "    </tr>\n",
       "    <tr>\n",
       "      <th>French Polynesia</th>\n",
       "      <td>  81</td>\n",
       "      <td>  669.24</td>\n",
       "      <td>NaN</td>\n",
       "      <td>NaN</td>\n",
       "      <td>  85.58</td>\n",
       "      <td> 56.80</td>\n",
       "      <td>NaN</td>\n",
       "      <td>NaN</td>\n",
       "      <td>NaN</td>\n",
       "      <td>    824</td>\n",
       "      <td>   276831</td>\n",
       "      <td> 0</td>\n",
       "    </tr>\n",
       "  </tbody>\n",
       "</table>\n",
       "</div>"
      ],
      "text/plain": [
       "                      btc_dl  remitt_in_13  remitt_percentgdp_2013  gdp_13  \\\n",
       "Cuba                     102           NaN                     NaN     NaN   \n",
       "Syrian Arab Republic     174       1622.54                     NaN     NaN   \n",
       "Andorra                  138           NaN                     NaN     NaN   \n",
       "Bermuda                  110       1304.81                     NaN     NaN   \n",
       "French Polynesia          81        669.24                     NaN     NaN   \n",
       "\n",
       "                      mobile_phone_13  int_users_per100  \\\n",
       "Cuba                            17.71             25.71   \n",
       "Syrian Arab Republic            55.97             26.20   \n",
       "Andorra                         80.70             94.00   \n",
       "Bermuda                        144.32             95.30   \n",
       "French Polynesia                85.58             56.80   \n",
       "\n",
       "                      account_percentfin_inst  inflation_13  blk_market_08  \\\n",
       "Cuba                                      NaN           NaN            NaN   \n",
       "Syrian Arab Republic                      NaN           NaN            NaN   \n",
       "Andorra                                   NaN           NaN            NaN   \n",
       "Bermuda                                   NaN           NaN            NaN   \n",
       "French Polynesia                          NaN           NaN            NaN   \n",
       "\n",
       "                      mig_to_OECD  population  btc_dl_percapita  \n",
       "Cuba                       178883    11265629                 0  \n",
       "Syrian Arab Republic          NaN    22845550                 0  \n",
       "Andorra                       NaN       79218                 0  \n",
       "Bermuda                       NaN       65024                 0  \n",
       "French Polynesia              824      276831                 0  "
      ]
     },
     "execution_count": 34,
     "metadata": {},
     "output_type": "execute_result"
    }
   ],
   "source": [
    "df = pd.read_csv('data/refined_data/2013_reg_data_mod.csv', index_col=0)\n",
    "df.head()"
   ]
  },
  {
   "cell_type": "code",
   "execution_count": 35,
   "metadata": {
    "scrolled": true
   },
   "outputs": [
    {
     "data": {
      "text/html": [
       "<div style=\"max-height:1000px;max-width:1500px;overflow:auto;\">\n",
       "<table border=\"1\" class=\"dataframe\">\n",
       "  <thead>\n",
       "    <tr style=\"text-align: right;\">\n",
       "      <th></th>\n",
       "      <th>btc_dl</th>\n",
       "      <th>remitt_in_13</th>\n",
       "      <th>remitt_percentgdp_2013</th>\n",
       "      <th>gdp_13</th>\n",
       "      <th>mobile_phone_13</th>\n",
       "      <th>int_users_per100</th>\n",
       "      <th>account_percentfin_inst</th>\n",
       "      <th>inflation_13</th>\n",
       "      <th>blk_market_08</th>\n",
       "      <th>mig_to_OECD</th>\n",
       "      <th>population</th>\n",
       "      <th>btc_dl_percapita</th>\n",
       "    </tr>\n",
       "  </thead>\n",
       "  <tbody>\n",
       "    <tr>\n",
       "      <th>btc_dl</th>\n",
       "      <td> 1.000000</td>\n",
       "      <td> 0.385027</td>\n",
       "      <td>-0.138041</td>\n",
       "      <td> 0.953091</td>\n",
       "      <td> 0.016305</td>\n",
       "      <td> 0.206892</td>\n",
       "      <td> 0.268115</td>\n",
       "      <td>-0.080281</td>\n",
       "      <td>-0.319352</td>\n",
       "      <td> 0.543200</td>\n",
       "      <td> 0.531244</td>\n",
       "      <td>NaN</td>\n",
       "    </tr>\n",
       "    <tr>\n",
       "      <th>remitt_in_13</th>\n",
       "      <td> 0.385027</td>\n",
       "      <td> 1.000000</td>\n",
       "      <td> 0.017672</td>\n",
       "      <td> 0.399632</td>\n",
       "      <td>-0.063655</td>\n",
       "      <td> 0.025941</td>\n",
       "      <td> 0.056424</td>\n",
       "      <td> 0.020261</td>\n",
       "      <td>-0.169731</td>\n",
       "      <td> 0.784949</td>\n",
       "      <td> 0.879145</td>\n",
       "      <td>NaN</td>\n",
       "    </tr>\n",
       "    <tr>\n",
       "      <th>remitt_percentgdp_2013</th>\n",
       "      <td>-0.138041</td>\n",
       "      <td> 0.017672</td>\n",
       "      <td> 1.000000</td>\n",
       "      <td>-0.158200</td>\n",
       "      <td>-0.171331</td>\n",
       "      <td>-0.273065</td>\n",
       "      <td>-0.352772</td>\n",
       "      <td>-0.003579</td>\n",
       "      <td> 0.346718</td>\n",
       "      <td>-0.053454</td>\n",
       "      <td>-0.084548</td>\n",
       "      <td>NaN</td>\n",
       "    </tr>\n",
       "    <tr>\n",
       "      <th>gdp_13</th>\n",
       "      <td> 0.953091</td>\n",
       "      <td> 0.399632</td>\n",
       "      <td>-0.158200</td>\n",
       "      <td> 1.000000</td>\n",
       "      <td> 0.007248</td>\n",
       "      <td> 0.247226</td>\n",
       "      <td> 0.282928</td>\n",
       "      <td>-0.069680</td>\n",
       "      <td>-0.345966</td>\n",
       "      <td> 0.562224</td>\n",
       "      <td> 0.527491</td>\n",
       "      <td>NaN</td>\n",
       "    </tr>\n",
       "    <tr>\n",
       "      <th>mobile_phone_13</th>\n",
       "      <td> 0.016305</td>\n",
       "      <td>-0.063655</td>\n",
       "      <td>-0.171331</td>\n",
       "      <td> 0.007248</td>\n",
       "      <td> 1.000000</td>\n",
       "      <td> 0.529955</td>\n",
       "      <td> 0.502672</td>\n",
       "      <td>-0.235112</td>\n",
       "      <td>-0.292562</td>\n",
       "      <td>-0.063986</td>\n",
       "      <td>-0.092690</td>\n",
       "      <td>NaN</td>\n",
       "    </tr>\n",
       "    <tr>\n",
       "      <th>int_users_per100</th>\n",
       "      <td> 0.206892</td>\n",
       "      <td> 0.025941</td>\n",
       "      <td>-0.273065</td>\n",
       "      <td> 0.247226</td>\n",
       "      <td> 0.529955</td>\n",
       "      <td> 1.000000</td>\n",
       "      <td> 0.849489</td>\n",
       "      <td>-0.292918</td>\n",
       "      <td>-0.637424</td>\n",
       "      <td> 0.032846</td>\n",
       "      <td>-0.052534</td>\n",
       "      <td>NaN</td>\n",
       "    </tr>\n",
       "    <tr>\n",
       "      <th>account_percentfin_inst</th>\n",
       "      <td> 0.268115</td>\n",
       "      <td> 0.056424</td>\n",
       "      <td>-0.352772</td>\n",
       "      <td> 0.282928</td>\n",
       "      <td> 0.502672</td>\n",
       "      <td> 0.849489</td>\n",
       "      <td> 1.000000</td>\n",
       "      <td>-0.210021</td>\n",
       "      <td>-0.687094</td>\n",
       "      <td> 0.018948</td>\n",
       "      <td> 0.045590</td>\n",
       "      <td>NaN</td>\n",
       "    </tr>\n",
       "    <tr>\n",
       "      <th>inflation_13</th>\n",
       "      <td>-0.080281</td>\n",
       "      <td> 0.020261</td>\n",
       "      <td>-0.003579</td>\n",
       "      <td>-0.069680</td>\n",
       "      <td>-0.235112</td>\n",
       "      <td>-0.292918</td>\n",
       "      <td>-0.210021</td>\n",
       "      <td> 1.000000</td>\n",
       "      <td> 0.188189</td>\n",
       "      <td> 0.048779</td>\n",
       "      <td> 0.081509</td>\n",
       "      <td>NaN</td>\n",
       "    </tr>\n",
       "    <tr>\n",
       "      <th>blk_market_08</th>\n",
       "      <td>-0.319352</td>\n",
       "      <td>-0.169731</td>\n",
       "      <td> 0.346718</td>\n",
       "      <td>-0.345966</td>\n",
       "      <td>-0.292562</td>\n",
       "      <td>-0.637424</td>\n",
       "      <td>-0.687094</td>\n",
       "      <td> 0.188189</td>\n",
       "      <td> 1.000000</td>\n",
       "      <td>-0.137472</td>\n",
       "      <td>-0.182135</td>\n",
       "      <td>NaN</td>\n",
       "    </tr>\n",
       "    <tr>\n",
       "      <th>mig_to_OECD</th>\n",
       "      <td> 0.543200</td>\n",
       "      <td> 0.784949</td>\n",
       "      <td>-0.053454</td>\n",
       "      <td> 0.562224</td>\n",
       "      <td>-0.063986</td>\n",
       "      <td> 0.032846</td>\n",
       "      <td> 0.018948</td>\n",
       "      <td> 0.048779</td>\n",
       "      <td>-0.137472</td>\n",
       "      <td> 1.000000</td>\n",
       "      <td> 0.718201</td>\n",
       "      <td>NaN</td>\n",
       "    </tr>\n",
       "    <tr>\n",
       "      <th>population</th>\n",
       "      <td> 0.531244</td>\n",
       "      <td> 0.879145</td>\n",
       "      <td>-0.084548</td>\n",
       "      <td> 0.527491</td>\n",
       "      <td>-0.092690</td>\n",
       "      <td>-0.052534</td>\n",
       "      <td> 0.045590</td>\n",
       "      <td> 0.081509</td>\n",
       "      <td>-0.182135</td>\n",
       "      <td> 0.718201</td>\n",
       "      <td> 1.000000</td>\n",
       "      <td>NaN</td>\n",
       "    </tr>\n",
       "    <tr>\n",
       "      <th>btc_dl_percapita</th>\n",
       "      <td>      NaN</td>\n",
       "      <td>      NaN</td>\n",
       "      <td>      NaN</td>\n",
       "      <td>      NaN</td>\n",
       "      <td>      NaN</td>\n",
       "      <td>      NaN</td>\n",
       "      <td>      NaN</td>\n",
       "      <td>      NaN</td>\n",
       "      <td>      NaN</td>\n",
       "      <td>      NaN</td>\n",
       "      <td>      NaN</td>\n",
       "      <td>NaN</td>\n",
       "    </tr>\n",
       "  </tbody>\n",
       "</table>\n",
       "</div>"
      ],
      "text/plain": [
       "                           btc_dl  remitt_in_13  remitt_percentgdp_2013  \\\n",
       "btc_dl                   1.000000      0.385027               -0.138041   \n",
       "remitt_in_13             0.385027      1.000000                0.017672   \n",
       "remitt_percentgdp_2013  -0.138041      0.017672                1.000000   \n",
       "gdp_13                   0.953091      0.399632               -0.158200   \n",
       "mobile_phone_13          0.016305     -0.063655               -0.171331   \n",
       "int_users_per100         0.206892      0.025941               -0.273065   \n",
       "account_percentfin_inst  0.268115      0.056424               -0.352772   \n",
       "inflation_13            -0.080281      0.020261               -0.003579   \n",
       "blk_market_08           -0.319352     -0.169731                0.346718   \n",
       "mig_to_OECD              0.543200      0.784949               -0.053454   \n",
       "population               0.531244      0.879145               -0.084548   \n",
       "btc_dl_percapita              NaN           NaN                     NaN   \n",
       "\n",
       "                           gdp_13  mobile_phone_13  int_users_per100  \\\n",
       "btc_dl                   0.953091         0.016305          0.206892   \n",
       "remitt_in_13             0.399632        -0.063655          0.025941   \n",
       "remitt_percentgdp_2013  -0.158200        -0.171331         -0.273065   \n",
       "gdp_13                   1.000000         0.007248          0.247226   \n",
       "mobile_phone_13          0.007248         1.000000          0.529955   \n",
       "int_users_per100         0.247226         0.529955          1.000000   \n",
       "account_percentfin_inst  0.282928         0.502672          0.849489   \n",
       "inflation_13            -0.069680        -0.235112         -0.292918   \n",
       "blk_market_08           -0.345966        -0.292562         -0.637424   \n",
       "mig_to_OECD              0.562224        -0.063986          0.032846   \n",
       "population               0.527491        -0.092690         -0.052534   \n",
       "btc_dl_percapita              NaN              NaN               NaN   \n",
       "\n",
       "                         account_percentfin_inst  inflation_13  blk_market_08  \\\n",
       "btc_dl                                  0.268115     -0.080281      -0.319352   \n",
       "remitt_in_13                            0.056424      0.020261      -0.169731   \n",
       "remitt_percentgdp_2013                 -0.352772     -0.003579       0.346718   \n",
       "gdp_13                                  0.282928     -0.069680      -0.345966   \n",
       "mobile_phone_13                         0.502672     -0.235112      -0.292562   \n",
       "int_users_per100                        0.849489     -0.292918      -0.637424   \n",
       "account_percentfin_inst                 1.000000     -0.210021      -0.687094   \n",
       "inflation_13                           -0.210021      1.000000       0.188189   \n",
       "blk_market_08                          -0.687094      0.188189       1.000000   \n",
       "mig_to_OECD                             0.018948      0.048779      -0.137472   \n",
       "population                              0.045590      0.081509      -0.182135   \n",
       "btc_dl_percapita                             NaN           NaN            NaN   \n",
       "\n",
       "                         mig_to_OECD  population  btc_dl_percapita  \n",
       "btc_dl                      0.543200    0.531244               NaN  \n",
       "remitt_in_13                0.784949    0.879145               NaN  \n",
       "remitt_percentgdp_2013     -0.053454   -0.084548               NaN  \n",
       "gdp_13                      0.562224    0.527491               NaN  \n",
       "mobile_phone_13            -0.063986   -0.092690               NaN  \n",
       "int_users_per100            0.032846   -0.052534               NaN  \n",
       "account_percentfin_inst     0.018948    0.045590               NaN  \n",
       "inflation_13                0.048779    0.081509               NaN  \n",
       "blk_market_08              -0.137472   -0.182135               NaN  \n",
       "mig_to_OECD                 1.000000    0.718201               NaN  \n",
       "population                  0.718201    1.000000               NaN  \n",
       "btc_dl_percapita                 NaN         NaN               NaN  "
      ]
     },
     "execution_count": 35,
     "metadata": {},
     "output_type": "execute_result"
    }
   ],
   "source": [
    "df.corr()"
   ]
  },
  {
   "cell_type": "code",
   "execution_count": 36,
   "metadata": {},
   "outputs": [],
   "source": [
    "df['log_btc_dl'] = np.log(df.btc_dl)\n",
    "df['log_remitt_in_13'] = np.log(df.remitt_in_13)"
   ]
  },
  {
   "cell_type": "code",
   "execution_count": 37,
   "metadata": {},
   "outputs": [],
   "source": [
    "y = df.log_btc_dl\n",
    "x = df.log_remitt_in_13\n",
    "x = sm.add_constant(x)"
   ]
  },
  {
   "cell_type": "markdown",
   "metadata": {},
   "source": [
    "    OLS Regression 1:\n",
    "    Dependent = log of Bitcoin Software Downloads\n",
    "    Inedpendent = Log of 2013 incoming remittances"
   ]
  },
  {
   "cell_type": "code",
   "execution_count": 38,
   "metadata": {
    "scrolled": true
   },
   "outputs": [
    {
     "name": "stdout",
     "output_type": "stream",
     "text": [
      "                            OLS Regression Results                            \n",
      "==============================================================================\n",
      "Dep. Variable:             log_btc_dl   R-squared:                       0.374\n",
      "Model:                            OLS   Adj. R-squared:                  0.371\n",
      "Method:                 Least Squares   F-statistic:                     100.5\n",
      "Date:                Fri, 22 May 2015   Prob (F-statistic):           7.83e-19\n",
      "Time:                        00:34:36   Log-Likelihood:                -377.25\n",
      "No. Observations:                 170   AIC:                             758.5\n",
      "Df Residuals:                     168   BIC:                             764.8\n",
      "Df Model:                           1                                         \n",
      "====================================================================================\n",
      "                       coef    std err          t      P>|t|      [95.0% Conf. Int.]\n",
      "------------------------------------------------------------------------------------\n",
      "const                1.8138      0.509      3.564      0.000         0.809     2.819\n",
      "log_remitt_in_13     0.7556      0.075     10.024      0.000         0.607     0.904\n",
      "==============================================================================\n",
      "Omnibus:                        3.062   Durbin-Watson:                   1.029\n",
      "Prob(Omnibus):                  0.216   Jarque-Bera (JB):                2.667\n",
      "Skew:                           0.294   Prob(JB):                        0.264\n",
      "Kurtosis:                       3.173   Cond. No.                         20.4\n",
      "==============================================================================\n"
     ]
    }
   ],
   "source": [
    "est1 = sm.OLS(y, x, missing='drop')\n",
    "est1 = est1.fit()\n",
    "print est1.summary()"
   ]
  },
  {
   "cell_type": "code",
   "execution_count": 39,
   "metadata": {
    "collapsed": true
   },
   "outputs": [],
   "source": [
    "df['log_gdp_13'] = np.log(df.gdp_13)"
   ]
  },
  {
   "cell_type": "code",
   "execution_count": 40,
   "metadata": {},
   "outputs": [],
   "source": [
    "x1 = df[['log_gdp_13', 'log_remitt_in_13']]\n",
    "x1 = sm.add_constant(x1)"
   ]
  },
  {
   "cell_type": "markdown",
   "metadata": {},
   "source": [
    "    OLS Regression 2:\n",
    "    Dependent = log of Bitcoin Software Downloads\n",
    "    Inedpendent = Log of 2013 incoming remittances, log of 2013 GDP"
   ]
  },
  {
   "cell_type": "code",
   "execution_count": 41,
   "metadata": {},
   "outputs": [
    {
     "name": "stdout",
     "output_type": "stream",
     "text": [
      "                            OLS Regression Results                            \n",
      "==============================================================================\n",
      "Dep. Variable:             log_btc_dl   R-squared:                       0.794\n",
      "Model:                            OLS   Adj. R-squared:                  0.791\n",
      "Method:                 Least Squares   F-statistic:                     305.9\n",
      "Date:                Fri, 22 May 2015   Prob (F-statistic):           3.14e-55\n",
      "Time:                        00:34:56   Log-Likelihood:                -270.08\n",
      "No. Observations:                 162   AIC:                             546.2\n",
      "Df Residuals:                     159   BIC:                             555.4\n",
      "Df Model:                           2                                         \n",
      "====================================================================================\n",
      "                       coef    std err          t      P>|t|      [95.0% Conf. Int.]\n",
      "------------------------------------------------------------------------------------\n",
      "const               -4.8419      0.482    -10.055      0.000        -5.793    -3.891\n",
      "log_gdp_13           0.9709      0.054     17.929      0.000         0.864     1.078\n",
      "log_remitt_in_13     0.1824      0.055      3.335      0.001         0.074     0.290\n",
      "==============================================================================\n",
      "Omnibus:                        2.519   Durbin-Watson:                   1.581\n",
      "Prob(Omnibus):                  0.284   Jarque-Bera (JB):                2.494\n",
      "Skew:                          -0.250   Prob(JB):                        0.287\n",
      "Kurtosis:                       2.655   Cond. No.                         61.1\n",
      "==============================================================================\n"
     ]
    }
   ],
   "source": [
    "est2 = sm.OLS(y, x1, missing='drop')\n",
    "est2 = est2.fit()\n",
    "print est2.summary()"
   ]
  },
  {
   "cell_type": "code",
   "execution_count": 42,
   "metadata": {
    "collapsed": true
   },
   "outputs": [],
   "source": [
    "x2 = df[['log_gdp_13', 'log_remitt_in_13', 'inflation_13', 'mobile_phone_13']]\n",
    "x2 = sm.add_constant(x2)"
   ]
  },
  {
   "cell_type": "markdown",
   "metadata": {},
   "source": [
    "    OLS Regression 3:\n",
    "    Dependent = log of Bitcoin Software Downloads\n",
    "    Independent = Log of 2013 incoming remittances, log of 2013 GDP, rate of 2013 inflation, mobile phone penetration"
   ]
  },
  {
   "cell_type": "code",
   "execution_count": 43,
   "metadata": {
    "scrolled": false
   },
   "outputs": [
    {
     "name": "stdout",
     "output_type": "stream",
     "text": [
      "                            OLS Regression Results                            \n",
      "==============================================================================\n",
      "Dep. Variable:             log_btc_dl   R-squared:                       0.840\n",
      "Model:                            OLS   Adj. R-squared:                  0.836\n",
      "Method:                 Least Squares   F-statistic:                     198.6\n",
      "Date:                Fri, 22 May 2015   Prob (F-statistic):           4.60e-59\n",
      "Time:                        00:35:00   Log-Likelihood:                -237.24\n",
      "No. Observations:                 156   AIC:                             484.5\n",
      "Df Residuals:                     151   BIC:                             499.7\n",
      "Df Model:                           4                                         \n",
      "====================================================================================\n",
      "                       coef    std err          t      P>|t|      [95.0% Conf. Int.]\n",
      "------------------------------------------------------------------------------------\n",
      "const               -5.2435      0.467    -11.231      0.000        -6.166    -4.321\n",
      "log_gdp_13           0.8835      0.051     17.299      0.000         0.783     0.984\n",
      "log_remitt_in_13     0.2001      0.049      4.066      0.000         0.103     0.297\n",
      "inflation_13        -0.0480      0.016     -2.992      0.003        -0.080    -0.016\n",
      "mobile_phone_13      0.0137      0.002      5.647      0.000         0.009     0.019\n",
      "==============================================================================\n",
      "Omnibus:                        2.142   Durbin-Watson:                   1.668\n",
      "Prob(Omnibus):                  0.343   Jarque-Bera (JB):                2.199\n",
      "Skew:                          -0.270   Prob(JB):                        0.333\n",
      "Kurtosis:                       2.784   Cond. No.                         601.\n",
      "==============================================================================\n"
     ]
    }
   ],
   "source": [
    "est3 = sm.OLS(y, x2, missing='drop')\n",
    "est3 = est3.fit()\n",
    "print est3.summary()"
   ]
  },
  {
   "cell_type": "code",
   "execution_count": 44,
   "metadata": {
    "collapsed": true
   },
   "outputs": [],
   "source": [
    "x3 = df[['log_gdp_13', 'log_remitt_in_13', 'inflation_13', 'blk_market_08', 'mobile_phone_13']]\n",
    "x3 = sm.add_constant(x3)"
   ]
  },
  {
   "cell_type": "markdown",
   "metadata": {},
   "source": [
    "    OLS Regression 4:\n",
    "    Dependent = log of Bitcoin Software Downloads\n",
    "    Inedpendent = Log of 2013 incoming remittances, log of 2013 GDP, rate of 2013 inflation, mobile phone penetration,\n",
    "    size of black market economy "
   ]
  },
  {
   "cell_type": "code",
   "execution_count": 45,
   "metadata": {},
   "outputs": [
    {
     "name": "stdout",
     "output_type": "stream",
     "text": [
      "                            OLS Regression Results                            \n",
      "==============================================================================\n",
      "Dep. Variable:             log_btc_dl   R-squared:                       0.844\n",
      "Model:                            OLS   Adj. R-squared:                  0.838\n",
      "Method:                 Least Squares   F-statistic:                     127.0\n",
      "Date:                Fri, 22 May 2015   Prob (F-statistic):           1.43e-45\n",
      "Time:                        00:35:02   Log-Likelihood:                -180.20\n",
      "No. Observations:                 123   AIC:                             372.4\n",
      "Df Residuals:                     117   BIC:                             389.3\n",
      "Df Model:                           5                                         \n",
      "====================================================================================\n",
      "                       coef    std err          t      P>|t|      [95.0% Conf. Int.]\n",
      "------------------------------------------------------------------------------------\n",
      "const               -5.1824      0.876     -5.913      0.000        -6.918    -3.447\n",
      "log_gdp_13           0.9049      0.067     13.603      0.000         0.773     1.037\n",
      "log_remitt_in_13     0.1865      0.051      3.663      0.000         0.086     0.287\n",
      "inflation_13        -0.0429      0.024     -1.817      0.072        -0.090     0.004\n",
      "blk_market_08       -0.0110      0.010     -1.137      0.258        -0.030     0.008\n",
      "mobile_phone_13      0.0149      0.003      4.859      0.000         0.009     0.021\n",
      "==============================================================================\n",
      "Omnibus:                        2.154   Durbin-Watson:                   1.884\n",
      "Prob(Omnibus):                  0.341   Jarque-Bera (JB):                1.625\n",
      "Skew:                          -0.227   Prob(JB):                        0.444\n",
      "Kurtosis:                       3.334   Cond. No.                     1.06e+03\n",
      "==============================================================================\n",
      "\n",
      "Warnings:\n",
      "[1] The condition number is large, 1.06e+03. This might indicate that there are\n",
      "strong multicollinearity or other numerical problems.\n"
     ]
    }
   ],
   "source": [
    "est4 = sm.OLS(y, x3, missing='drop')\n",
    "est4 = est4.fit()\n",
    "print est4.summary()"
   ]
  },
  {
   "cell_type": "code",
   "execution_count": 46,
   "metadata": {
    "collapsed": true
   },
   "outputs": [],
   "source": [
    "x4 = df[['log_gdp_13', 'log_remitt_in_13', 'inflation_13', 'blk_market_08', 'mobile_phone_13', 'mig_to_OECD']]\n",
    "x4 = sm.add_constant(x4)"
   ]
  },
  {
   "cell_type": "markdown",
   "metadata": {},
   "source": [
    "    OLS Regression 5:\n",
    "    Dependent = log of Bitcoin Software Downloads\n",
    "    Inedpendent = Log of 2013 incoming remittances, log of 2013 GDP, rate of 2013 inflation, mobile phone penetration,\n",
    "    size of black market economy, migration to OECD countries "
   ]
  },
  {
   "cell_type": "code",
   "execution_count": 47,
   "metadata": {},
   "outputs": [
    {
     "name": "stdout",
     "output_type": "stream",
     "text": [
      "                            OLS Regression Results                            \n",
      "==============================================================================\n",
      "Dep. Variable:             log_btc_dl   R-squared:                       0.841\n",
      "Model:                            OLS   Adj. R-squared:                  0.832\n",
      "Method:                 Least Squares   F-statistic:                     98.40\n",
      "Date:                Fri, 22 May 2015   Prob (F-statistic):           2.62e-42\n",
      "Time:                        00:35:03   Log-Likelihood:                -174.45\n",
      "No. Observations:                 119   AIC:                             362.9\n",
      "Df Residuals:                     112   BIC:                             382.4\n",
      "Df Model:                           6                                         \n",
      "====================================================================================\n",
      "                       coef    std err          t      P>|t|      [95.0% Conf. Int.]\n",
      "------------------------------------------------------------------------------------\n",
      "const               -5.1675      0.950     -5.439      0.000        -7.050    -3.285\n",
      "log_gdp_13           0.9115      0.078     11.715      0.000         0.757     1.066\n",
      "log_remitt_in_13     0.1920      0.062      3.101      0.002         0.069     0.315\n",
      "inflation_13        -0.0401      0.024     -1.671      0.098        -0.088     0.007\n",
      "blk_market_08       -0.0114      0.010     -1.147      0.254        -0.031     0.008\n",
      "mobile_phone_13      0.0140      0.003      4.253      0.000         0.007     0.020\n",
      "mig_to_OECD      -1.638e-07   3.98e-07     -0.412      0.681     -9.52e-07  6.24e-07\n",
      "==============================================================================\n",
      "Omnibus:                        2.209   Durbin-Watson:                   1.871\n",
      "Prob(Omnibus):                  0.331   Jarque-Bera (JB):                1.665\n",
      "Skew:                          -0.227   Prob(JB):                        0.435\n",
      "Kurtosis:                       3.361   Cond. No.                     3.37e+06\n",
      "==============================================================================\n",
      "\n",
      "Warnings:\n",
      "[1] The condition number is large, 3.37e+06. This might indicate that there are\n",
      "strong multicollinearity or other numerical problems.\n"
     ]
    }
   ],
   "source": [
    "est5 = sm.OLS(y, x4, missing='drop')\n",
    "est5 = est5.fit()\n",
    "print est5.summary()"
   ]
  },
  {
   "cell_type": "code",
   "execution_count": 48,
   "metadata": {},
   "outputs": [
    {
     "data": {
      "text/plain": [
       "count        148.000000\n",
       "mean      134273.831081\n",
       "std       288558.974418\n",
       "min            1.000000\n",
       "25%         6119.500000\n",
       "50%        35449.000000\n",
       "75%       136369.000000\n",
       "max      2020988.000000\n",
       "dtype: float64"
      ]
     },
     "execution_count": 48,
     "metadata": {},
     "output_type": "execute_result"
    }
   ],
   "source": [
    "df.mig_to_OECD.describe()"
   ]
  },
  {
   "cell_type": "code",
   "execution_count": 49,
   "metadata": {},
   "outputs": [],
   "source": [
    "df['log_mig_to_OECD'] = np.log(df.mig_to_OECD)"
   ]
  },
  {
   "cell_type": "code",
   "execution_count": 54,
   "metadata": {
    "collapsed": true
   },
   "outputs": [],
   "source": [
    "x5 = df[['log_gdp_13', 'log_remitt_in_13', 'inflation_13', 'blk_market_08', 'mobile_phone_13', 'log_mig_to_OECD']]\n",
    "x5 = sm.add_constant(x5)"
   ]
  },
  {
   "cell_type": "markdown",
   "metadata": {},
   "source": [
    "    OLS Regression 6:\n",
    "\n",
    "    migration data appears to be causing problems - changed into its natural log. \n",
    "\n",
    "    Dependent = log of Bitcoin Software Downloads\n",
    "    Inedpendent = Log of 2013 incoming remittances, log of 2013 GDP, rate of 2013 inflation, mobile phone penetration,\n",
    "    size of black market economy, log of migration to OECD countries "
   ]
  },
  {
   "cell_type": "code",
   "execution_count": 55,
   "metadata": {
    "scrolled": true
   },
   "outputs": [
    {
     "name": "stdout",
     "output_type": "stream",
     "text": [
      "                            OLS Regression Results                            \n",
      "==============================================================================\n",
      "Dep. Variable:             log_btc_dl   R-squared:                       0.840\n",
      "Model:                            OLS   Adj. R-squared:                  0.832\n",
      "Method:                 Least Squares   F-statistic:                     98.28\n",
      "Date:                Fri, 22 May 2015   Prob (F-statistic):           2.77e-42\n",
      "Time:                        00:37:32   Log-Likelihood:                -174.51\n",
      "No. Observations:                 119   AIC:                             363.0\n",
      "Df Residuals:                     112   BIC:                             382.5\n",
      "Df Model:                           6                                         \n",
      "====================================================================================\n",
      "                       coef    std err          t      P>|t|      [95.0% Conf. Int.]\n",
      "------------------------------------------------------------------------------------\n",
      "const               -5.0365      0.904     -5.572      0.000        -6.827    -3.246\n",
      "log_gdp_13           0.8924      0.079     11.277      0.000         0.736     1.049\n",
      "log_remitt_in_13     0.1810      0.063      2.890      0.005         0.057     0.305\n",
      "inflation_13        -0.0419      0.024     -1.732      0.086        -0.090     0.006\n",
      "blk_market_08       -0.0121      0.010     -1.188      0.237        -0.032     0.008\n",
      "mobile_phone_13      0.0142      0.003      4.440      0.000         0.008     0.021\n",
      "log_mig_to_OECD      0.0131      0.053      0.245      0.807        -0.092     0.119\n",
      "==============================================================================\n",
      "Omnibus:                        2.124   Durbin-Watson:                   1.853\n",
      "Prob(Omnibus):                  0.346   Jarque-Bera (JB):                1.586\n",
      "Skew:                          -0.217   Prob(JB):                        0.453\n",
      "Kurtosis:                       3.362   Cond. No.                     1.08e+03\n",
      "==============================================================================\n",
      "\n",
      "Warnings:\n",
      "[1] The condition number is large, 1.08e+03. This might indicate that there are\n",
      "strong multicollinearity or other numerical problems.\n"
     ]
    }
   ],
   "source": [
    "est6 = sm.OLS(y, x5, missing='drop')\n",
    "est6 = est6.fit()\n",
    "print est6.summary()"
   ]
  },
  {
   "cell_type": "markdown",
   "metadata": {},
   "source": [
    "Notes:\n",
    "Consider dropping log of migration data - confidence interals are quite wide and p value indicates that it is not significant\n",
    "Interestingly, both black market data and inflation numbers show no signifigance. This may be because of low inflation in Eurozone and US\n",
    "\n",
    "Ask prof Schena how to incorporate CAGR of download data into analysis\n",
    "    "
   ]
  },
  {
   "cell_type": "code",
   "execution_count": 58,
   "metadata": {
    "collapsed": true
   },
   "outputs": [],
   "source": [
    "x6 = df[['log_gdp_13', 'log_remitt_in_13', 'inflation_13', 'blk_market_08', 'mobile_phone_13', 'int_users_per100']]\n",
    "x6 = sm.add_constant(x6)"
   ]
  },
  {
   "cell_type": "code",
   "execution_count": 59,
   "metadata": {},
   "outputs": [
    {
     "name": "stdout",
     "output_type": "stream",
     "text": [
      "                            OLS Regression Results                            \n",
      "==============================================================================\n",
      "Dep. Variable:             log_btc_dl   R-squared:                       0.884\n",
      "Model:                            OLS   Adj. R-squared:                  0.878\n",
      "Method:                 Least Squares   F-statistic:                     147.8\n",
      "Date:                Fri, 22 May 2015   Prob (F-statistic):           6.42e-52\n",
      "Time:                        00:39:09   Log-Likelihood:                -161.98\n",
      "No. Observations:                 123   AIC:                             338.0\n",
      "Df Residuals:                     116   BIC:                             357.7\n",
      "Df Model:                           6                                         \n",
      "====================================================================================\n",
      "                       coef    std err          t      P>|t|      [95.0% Conf. Int.]\n",
      "------------------------------------------------------------------------------------\n",
      "const               -5.5433      0.761     -7.283      0.000        -7.051    -4.036\n",
      "log_gdp_13           0.8003      0.060     13.352      0.000         0.682     0.919\n",
      "log_remitt_in_13     0.1877      0.044      4.257      0.000         0.100     0.275\n",
      "inflation_13        -0.0036      0.021     -0.170      0.865        -0.046     0.039\n",
      "blk_market_08        0.0159      0.009      1.692      0.093        -0.003     0.034\n",
      "mobile_phone_13      0.0070      0.003      2.408      0.018         0.001     0.013\n",
      "int_users_per100     0.0310      0.005      6.324      0.000         0.021     0.041\n",
      "==============================================================================\n",
      "Omnibus:                        3.538   Durbin-Watson:                   1.933\n",
      "Prob(Omnibus):                  0.170   Jarque-Bera (JB):                3.116\n",
      "Skew:                          -0.259   Prob(JB):                        0.211\n",
      "Kurtosis:                       3.583   Cond. No.                     1.15e+03\n",
      "==============================================================================\n",
      "\n",
      "Warnings:\n",
      "[1] The condition number is large, 1.15e+03. This might indicate that there are\n",
      "strong multicollinearity or other numerical problems.\n"
     ]
    }
   ],
   "source": [
    "est7 = sm.OLS(y, x6, missing='drop')\n",
    "est7 = est7.fit()\n",
    "print est7.summary()"
   ]
  },
  {
   "cell_type": "markdown",
   "metadata": {},
   "source": [
    "Dropped migration data in the above, the following will remove black market and inflation, both of which are not meaningful"
   ]
  },
  {
   "cell_type": "code",
   "execution_count": 60,
   "metadata": {},
   "outputs": [
    {
     "name": "stdout",
     "output_type": "stream",
     "text": [
      "                            OLS Regression Results                            \n",
      "==============================================================================\n",
      "Dep. Variable:             log_btc_dl   R-squared:                       0.875\n",
      "Model:                            OLS   Adj. R-squared:                  0.872\n",
      "Method:                 Least Squares   F-statistic:                     270.8\n",
      "Date:                Fri, 22 May 2015   Prob (F-statistic):           7.96e-69\n",
      "Time:                        00:44:17   Log-Likelihood:                -223.02\n",
      "No. Observations:                 160   AIC:                             456.0\n",
      "Df Residuals:                     155   BIC:                             471.4\n",
      "Df Model:                           4                                         \n",
      "====================================================================================\n",
      "                       coef    std err          t      P>|t|      [95.0% Conf. Int.]\n",
      "------------------------------------------------------------------------------------\n",
      "const               -4.4531      0.426    -10.446      0.000        -5.295    -3.611\n",
      "log_gdp_13           0.7366      0.047     15.594      0.000         0.643     0.830\n",
      "log_remitt_in_13     0.2216      0.042      5.242      0.000         0.138     0.305\n",
      "mobile_phone_13      0.0063      0.002      2.608      0.010         0.002     0.011\n",
      "int_users_per100     0.0282      0.004      7.513      0.000         0.021     0.036\n",
      "==============================================================================\n",
      "Omnibus:                        4.694   Durbin-Watson:                   1.989\n",
      "Prob(Omnibus):                  0.096   Jarque-Bera (JB):                4.229\n",
      "Skew:                          -0.342   Prob(JB):                        0.121\n",
      "Kurtosis:                       3.409   Cond. No.                         681.\n",
      "==============================================================================\n"
     ]
    }
   ],
   "source": [
    "x7 = df[['log_gdp_13', 'log_remitt_in_13', 'mobile_phone_13', 'int_users_per100']]\n",
    "x7 = sm.add_constant(x7)\n",
    "est8 = sm.OLS(y, x7, missing='drop')\n",
    "est8 = est8.fit()\n",
    "print est8.summary()"
   ]
  },
  {
   "cell_type": "code",
   "execution_count": null,
   "metadata": {
    "collapsed": true
   },
   "outputs": [],
   "source": []
  }
 ],
 "metadata": {
  "kernelspec": {
   "display_name": "Python 3",
   "language": "python",
   "name": "python3"
  },
  "language_info": {
   "codemirror_mode": {
    "name": "ipython",
    "version": 3
   },
   "file_extension": ".py",
   "mimetype": "text/x-python",
   "name": "python",
   "nbconvert_exporter": "python",
   "pygments_lexer": "ipython3",
   "version": "3.6.5"
  }
 },
 "nbformat": 4,
 "nbformat_minor": 1
}
